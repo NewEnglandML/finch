{
 "cells": [
  {
   "cell_type": "code",
   "execution_count": 1,
   "metadata": {},
   "outputs": [],
   "source": [
    "from urllib.request import urlopen, urlretrieve\n",
    "from bs4 import BeautifulSoup\n",
    "from scipy.io import wavfile\n",
    "from python_speech_features import mfcc\n",
    "from tqdm import tqdm\n",
    "\n",
    "import re\n",
    "import os\n",
    "import numpy as np\n",
    "import tensorflow as tf"
   ]
  },
  {
   "cell_type": "code",
   "execution_count": 2,
   "metadata": {},
   "outputs": [],
   "source": [
    "PARAMS = {\n",
    "    'num_epochs': 30,\n",
    "    'batch_size': 30,\n",
    "    'rnn_size': 100,\n",
    "    'clip_norm': 5.0,\n",
    "}"
   ]
  },
  {
   "cell_type": "code",
   "execution_count": 3,
   "metadata": {},
   "outputs": [],
   "source": [
    "def download():\n",
    "    prefix = 'https://tspace.library.utoronto.ca'\n",
    "    save_dir = './data/'\n",
    "    if not os.path.exists(save_dir):\n",
    "        os.makedirs(save_dir)\n",
    "\n",
    "    base_url = 'https://tspace.library.utoronto.ca/handle/1807/24'\n",
    "    urls = [base_url+str(i) for i in range(488, 502)]\n",
    "\n",
    "    count = 1\n",
    "    for url in urls:\n",
    "        soup = BeautifulSoup(urlopen(url).read(), 'html5lib')\n",
    "        for a in soup.findAll('a', href=re.compile(r'/bitstream/.*.wav')):\n",
    "            link = a['href']\n",
    "            print(count, a['href'])\n",
    "\n",
    "            audio_save_loc = save_dir + link.split('/')[-1]\n",
    "            if os.path.isfile(audio_save_loc):\n",
    "                print(\"File Already Exists\")\n",
    "            urlretrieve(prefix+a['href'], audio_save_loc)\n",
    "\n",
    "            with open(audio_save_loc.replace('.wav', '.txt'), 'w') as f:\n",
    "                f.write('say the word ' + link.split('_')[-2])\n",
    "\n",
    "            count += 1"
   ]
  },
  {
   "cell_type": "code",
   "execution_count": 4,
   "metadata": {},
   "outputs": [],
   "source": [
    "def sparse_tuple_from(sequences, dtype=np.int32):\n",
    "    \"\"\"Create a sparse representention of x.\n",
    "    Args:\n",
    "        sequences: a list of lists of type dtype where each element is a sequence\n",
    "    Returns:\n",
    "        A tuple with (indices, values, shape)\n",
    "    \"\"\"\n",
    "    indices = []\n",
    "    values = []\n",
    "\n",
    "    for n, seq in enumerate(sequences):\n",
    "        indices.extend(zip([n]*len(seq), range(len(seq))))\n",
    "        values.extend(seq)\n",
    "\n",
    "    indices = np.asarray(indices, dtype=np.int64)\n",
    "    values = np.asarray(values, dtype=dtype)\n",
    "    shape = np.asarray([len(sequences), np.asarray(indices).max(0)[1]+1], dtype=np.int64)\n",
    "\n",
    "    return (indices, values, shape)\n",
    "\n",
    "def train_input_fn(X, y):\n",
    "    dataset = tf.data.Dataset.from_tensor_slices((X, y))\n",
    "    dataset = dataset.shuffle(10000).batch(PARAMS['batch_size']).repeat(PARAMS['num_epochs'])\n",
    "    iterator = dataset.make_one_shot_iterator()\n",
    "    return iterator.get_next()\n",
    "\n",
    "def rnn_cell():\n",
    "    return tf.nn.rnn_cell.GRUCell(PARAMS['rnn_size'],\n",
    "        kernel_initializer=tf.orthogonal_initializer())\n",
    "\n",
    "def clip_grads(loss_op):\n",
    "    variables = tf.trainable_variables()\n",
    "    grads = tf.gradients(loss_op, variables)\n",
    "    clipped_grads, _ = tf.clip_by_global_norm(grads, PARAMS['clip_norm'])\n",
    "    return zip(clipped_grads, variables)\n",
    "\n",
    "def model_fn(features, labels, mode, params):\n",
    "    seq_lens = tf.count_nonzero(tf.reduce_sum(features, -1), 1, dtype=tf.int32)\n",
    "    \n",
    "    outputs, _ = tf.nn.dynamic_rnn(rnn_cell(), features, seq_lens, dtype=tf.float32)\n",
    "    logits = tf.layers.dense(outputs, PARAMS['num_classes'])\n",
    "    \n",
    "    time_major = tf.transpose(logits, [1,0,2])\n",
    "    decoded, log_prob = tf.nn.ctc_greedy_decoder(time_major, seq_lens)\n",
    "    decoded = tf.to_int32(decoded[0])\n",
    "    \n",
    "    if mode == tf.estimator.ModeKeys.PREDICT:\n",
    "        preds = tf.sparse_tensor_to_dense(decoded)\n",
    "        return tf.estimator.EstimatorSpec(mode, predictions=preds)\n",
    "    \n",
    "    if mode == tf.estimator.ModeKeys.TRAIN:\n",
    "        loss_op = tf.reduce_mean(tf.nn.ctc_loss(labels, time_major, seq_lens))\n",
    "        edit_dist_op = tf.reduce_mean(tf.edit_distance(decoded, labels))\n",
    "\n",
    "        lth = tf.train.LoggingTensorHook({'edit_dist': edit_dist_op}, every_n_iter=100)\n",
    "        \n",
    "        train_op = tf.train.AdamOptimizer().apply_gradients(\n",
    "            clip_grads(loss_op), global_step=tf.train.get_global_step())\n",
    "        \n",
    "        return tf.estimator.EstimatorSpec(\n",
    "            mode=mode, loss=loss_op, train_op=train_op, training_hooks=[lth])"
   ]
  },
  {
   "cell_type": "code",
   "execution_count": 5,
   "metadata": {},
   "outputs": [
    {
     "name": "stdout",
     "output_type": "stream",
     "text": [
      "1 /bitstream/1807/24488/1/OAF_youth_neutral.wav\n",
      "2 /bitstream/1807/24488/2/OAF_young_neutral.wav\n",
      "3 /bitstream/1807/24488/3/OAF_yes_neutral.wav\n",
      "4 /bitstream/1807/24488/4/OAF_yearn_neutral.wav\n",
      "5 /bitstream/1807/24488/5/OAF_witch_neutral.wav\n",
      "6 /bitstream/1807/24488/6/OAF_wire_neutral.wav\n",
      "7 /bitstream/1807/24488/7/OAF_wife_neutral.wav\n",
      "8 /bitstream/1807/24488/8/OAF_white_neutral.wav\n",
      "9 /bitstream/1807/24488/9/OAF_whip_neutral.wav\n",
      "10 /bitstream/1807/24488/10/OAF_which_neutral.wav\n",
      "11 /bitstream/1807/24488/11/OAF_when_neutral.wav\n",
      "12 /bitstream/1807/24488/12/OAF_wheat_neutral.wav\n",
      "13 /bitstream/1807/24488/13/OAF_week_neutral.wav\n",
      "14 /bitstream/1807/24488/14/OAF_wash_neutral.wav\n",
      "15 /bitstream/1807/24488/15/OAF_walk_neutral.wav\n",
      "16 /bitstream/1807/24488/16/OAF_wag_neutral.wav\n",
      "17 /bitstream/1807/24488/17/OAF_vote_neutral.wav\n",
      "18 /bitstream/1807/24488/18/OAF_void_neutral.wav\n",
      "19 /bitstream/1807/24488/19/OAF_voice_neutral.wav\n",
      "20 /bitstream/1807/24488/20/OAF_vine_neutral.wav\n",
      "21 /bitstream/1807/24488/21/OAF_turn_neutral.wav\n",
      "22 /bitstream/1807/24488/22/OAF_tough_neutral.wav\n",
      "23 /bitstream/1807/24488/23/OAF_tool_neutral.wav\n",
      "24 /bitstream/1807/24488/24/OAF_ton_neutral.wav\n",
      "25 /bitstream/1807/24488/25/OAF_tire_neutral.wav\n",
      "26 /bitstream/1807/24488/26/OAF_tip_neutral.wav\n",
      "27 /bitstream/1807/24488/27/OAF_time_neutral.wav\n",
      "28 /bitstream/1807/24488/28/OAF_thumb_neutral.wav\n",
      "29 /bitstream/1807/24488/29/OAF_thought_neutral.wav\n",
      "30 /bitstream/1807/24488/30/OAF_third_neutral.wav\n",
      "31 /bitstream/1807/24488/31/OAF_thin_neutral.wav\n",
      "32 /bitstream/1807/24488/32/OAF_tell_neutral.wav\n",
      "33 /bitstream/1807/24488/33/OAF_team_neutral.wav\n",
      "34 /bitstream/1807/24488/34/OAF_tape_neutral.wav\n",
      "35 /bitstream/1807/24488/35/OAF_talk_neutral.wav\n",
      "36 /bitstream/1807/24488/36/OAF_take_neutral.wav\n",
      "37 /bitstream/1807/24488/37/OAF_sure_neutral.wav\n",
      "38 /bitstream/1807/24488/38/OAF_such_neutral.wav\n",
      "39 /bitstream/1807/24488/39/OAF_sub_neutral.wav\n",
      "40 /bitstream/1807/24488/40/OAF_south_neutral.wav\n",
      "41 /bitstream/1807/24488/41/OAF_sour_neutral.wav\n",
      "42 /bitstream/1807/24488/42/OAF_soup_neutral.wav\n",
      "43 /bitstream/1807/24488/43/OAF_soap_neutral.wav\n",
      "44 /bitstream/1807/24488/44/OAF_size_neutral.wav\n",
      "45 /bitstream/1807/24488/45/OAF_shout_neutral.wav\n",
      "46 /bitstream/1807/24488/46/OAF_should_neutral.wav\n",
      "47 /bitstream/1807/24488/47/OAF_shirt_neutral.wav\n",
      "48 /bitstream/1807/24488/48/OAF_sheep_neutral.wav\n",
      "49 /bitstream/1807/24488/49/OAF_shawl_neutral.wav\n",
      "50 /bitstream/1807/24488/50/OAF_shall_neutral.wav\n",
      "51 /bitstream/1807/24488/51/OAF_shack_neutral.wav\n",
      "52 /bitstream/1807/24488/52/OAF_sell_neutral.wav\n",
      "53 /bitstream/1807/24488/53/OAF_seize_neutral.wav\n",
      "54 /bitstream/1807/24488/54/OAF_search_neutral.wav\n",
      "55 /bitstream/1807/24488/55/OAF_sail_neutral.wav\n",
      "56 /bitstream/1807/24488/56/OAF_said_neutral.wav\n",
      "57 /bitstream/1807/24488/57/OAF_rush_neutral.wav\n",
      "58 /bitstream/1807/24488/58/OAF_rough_neutral.wav\n",
      "59 /bitstream/1807/24488/59/OAF_rot_neutral.wav\n",
      "60 /bitstream/1807/24488/60/OAF_rose_neutral.wav\n",
      "61 /bitstream/1807/24488/61/OAF_room_neutral.wav\n",
      "62 /bitstream/1807/24488/62/OAF_road_neutral.wav\n",
      "63 /bitstream/1807/24488/63/OAF_ripe_neutral.wav\n",
      "64 /bitstream/1807/24488/64/OAF_ring_neutral.wav\n",
      "65 /bitstream/1807/24488/65/OAF_red_neutral.wav\n",
      "66 /bitstream/1807/24488/66/OAF_read_neutral.wav\n",
      "67 /bitstream/1807/24488/67/OAF_reach_neutral.wav\n",
      "68 /bitstream/1807/24488/68/OAF_rat_neutral.wav\n",
      "69 /bitstream/1807/24488/69/OAF_raise_neutral.wav\n",
      "70 /bitstream/1807/24488/70/OAF_rain_neutral.wav\n",
      "71 /bitstream/1807/24488/71/OAF_raid_neutral.wav\n",
      "72 /bitstream/1807/24488/72/OAF_rag_neutral.wav\n",
      "73 /bitstream/1807/24488/73/OAF_puff_neutral.wav\n",
      "74 /bitstream/1807/24488/74/OAF_pool_neutral.wav\n",
      "75 /bitstream/1807/24488/75/OAF_pole_neutral.wav\n",
      "76 /bitstream/1807/24488/76/OAF_pike_neutral.wav\n",
      "77 /bitstream/1807/24488/77/OAF_pick_neutral.wav\n",
      "78 /bitstream/1807/24488/78/OAF_phone_neutral.wav\n",
      "79 /bitstream/1807/24488/79/OAF_perch_neutral.wav\n",
      "80 /bitstream/1807/24488/80/OAF_peg_neutral.wav\n",
      "81 /bitstream/1807/24488/81/OAF_pearl_neutral.wav\n",
      "82 /bitstream/1807/24488/82/OAF_pass_neutral.wav\n",
      "83 /bitstream/1807/24488/83/OAF_pain_neutral.wav\n",
      "84 /bitstream/1807/24488/84/OAF_page_neutral.wav\n",
      "85 /bitstream/1807/24488/85/OAF_pad_neutral.wav\n",
      "86 /bitstream/1807/24488/86/OAF_numb_neutral.wav\n",
      "87 /bitstream/1807/24488/87/OAF_note_neutral.wav\n",
      "88 /bitstream/1807/24488/88/OAF_nice_neutral.wav\n",
      "89 /bitstream/1807/24488/89/OAF_neat_neutral.wav\n",
      "90 /bitstream/1807/24488/90/OAF_near_neutral.wav\n",
      "91 /bitstream/1807/24488/91/OAF_name_neutral.wav\n",
      "92 /bitstream/1807/24488/92/OAF_nag_neutral.wav\n",
      "93 /bitstream/1807/24488/93/OAF_mouse_neutral.wav\n",
      "94 /bitstream/1807/24488/94/OAF_mop_neutral.wav\n",
      "95 /bitstream/1807/24488/95/OAF_moon_neutral.wav\n",
      "96 /bitstream/1807/24488/96/OAF_mood_neutral.wav\n",
      "97 /bitstream/1807/24488/97/OAF_mode_neutral.wav\n",
      "98 /bitstream/1807/24488/98/OAF_mob_neutral.wav\n",
      "99 /bitstream/1807/24488/99/OAF_mill_neutral.wav\n",
      "100 /bitstream/1807/24488/100/OAF_met_neutral.wav\n",
      "101 /bitstream/1807/24488/101/OAF_mess_neutral.wav\n",
      "102 /bitstream/1807/24488/102/OAF_merge_neutral.wav\n",
      "103 /bitstream/1807/24488/103/OAF_match_neutral.wav\n",
      "104 /bitstream/1807/24488/104/OAF_make_neutral.wav\n",
      "105 /bitstream/1807/24488/105/OAF_luck_neutral.wav\n",
      "106 /bitstream/1807/24488/106/OAF_love_neutral.wav\n",
      "107 /bitstream/1807/24488/107/OAF_lot_neutral.wav\n",
      "108 /bitstream/1807/24488/108/OAF_lose_neutral.wav\n",
      "109 /bitstream/1807/24488/109/OAF_lore_neutral.wav\n",
      "110 /bitstream/1807/24488/110/OAF_long_neutral.wav\n",
      "111 /bitstream/1807/24488/111/OAF_loaf_neutral.wav\n",
      "112 /bitstream/1807/24488/112/OAF_live_neutral.wav\n",
      "113 /bitstream/1807/24488/113/OAF_limb_neutral.wav\n",
      "114 /bitstream/1807/24488/114/OAF_life_neutral.wav\n",
      "115 /bitstream/1807/24488/115/OAF_lid_neutral.wav\n",
      "116 /bitstream/1807/24488/116/OAF_lease_neutral.wav\n",
      "117 /bitstream/1807/24488/117/OAF_learn_neutral.wav\n",
      "118 /bitstream/1807/24488/118/OAF_lean_neutral.wav\n",
      "119 /bitstream/1807/24488/119/OAF_laud_neutral.wav\n",
      "120 /bitstream/1807/24488/120/OAF_late_neutral.wav\n",
      "121 /bitstream/1807/24488/121/OAF_knock_neutral.wav\n",
      "122 /bitstream/1807/24488/122/OAF_kite_neutral.wav\n",
      "123 /bitstream/1807/24488/123/OAF_king_neutral.wav\n",
      "124 /bitstream/1807/24488/124/OAF_kill_neutral.wav\n",
      "125 /bitstream/1807/24488/125/OAF_kick_neutral.wav\n",
      "126 /bitstream/1807/24488/126/OAF_keg_neutral.wav\n",
      "127 /bitstream/1807/24488/127/OAF_keep_neutral.wav\n",
      "128 /bitstream/1807/24488/128/OAF_keen_neutral.wav\n",
      "129 /bitstream/1807/24488/129/OAF_juice_neutral.wav\n",
      "130 /bitstream/1807/24488/130/OAF_jug_neutral.wav\n",
      "131 /bitstream/1807/24488/131/OAF_judge_neutral.wav\n",
      "132 /bitstream/1807/24488/132/OAF_join_neutral.wav\n",
      "133 /bitstream/1807/24488/133/OAF_jar_neutral.wav\n",
      "134 /bitstream/1807/24488/134/OAF_jail_neutral.wav\n",
      "135 /bitstream/1807/24488/135/OAF_hush_neutral.wav\n",
      "136 /bitstream/1807/24488/136/OAF_hurl_neutral.wav\n",
      "137 /bitstream/1807/24488/137/OAF_home_neutral.wav\n",
      "138 /bitstream/1807/24488/138/OAF_hole_neutral.wav\n",
      "139 /bitstream/1807/24488/139/OAF_hit_neutral.wav\n",
      "140 /bitstream/1807/24488/140/OAF_hire_neutral.wav\n",
      "141 /bitstream/1807/24488/141/OAF_haze_neutral.wav\n",
      "142 /bitstream/1807/24488/142/OAF_have_neutral.wav\n",
      "143 /bitstream/1807/24488/143/OAF_hate_neutral.wav\n",
      "144 /bitstream/1807/24488/144/OAF_hash_neutral.wav\n",
      "145 /bitstream/1807/24488/145/OAF_hall_neutral.wav\n",
      "146 /bitstream/1807/24488/146/OAF_half_neutral.wav\n",
      "147 /bitstream/1807/24488/147/OAF_gun_neutral.wav\n",
      "148 /bitstream/1807/24488/148/OAF_goose_neutral.wav\n",
      "149 /bitstream/1807/24488/149/OAF_good_neutral.wav\n",
      "150 /bitstream/1807/24488/150/OAF_goal_neutral.wav\n",
      "151 /bitstream/1807/24488/151/OAF_gin_neutral.wav\n",
      "152 /bitstream/1807/24488/152/OAF_get_neutral.wav\n",
      "153 /bitstream/1807/24488/153/OAF_germ_neutral.wav\n",
      "154 /bitstream/1807/24488/154/OAF_gaze_neutral.wav\n",
      "155 /bitstream/1807/24488/155/OAF_gas_neutral.wav\n",
      "156 /bitstream/1807/24488/156/OAF_gap_neutral.wav\n",
      "157 /bitstream/1807/24488/157/OAF_food_neutral.wav\n",
      "158 /bitstream/1807/24488/158/OAF_five_neutral.wav\n",
      "159 /bitstream/1807/24488/159/OAF_fit_neutral.wav\n",
      "160 /bitstream/1807/24488/160/OAF_fat_neutral.wav\n",
      "161 /bitstream/1807/24488/161/OAF_far_neutral.wav\n",
      "162 /bitstream/1807/24488/162/OAF_fall_neutral.wav\n",
      "163 /bitstream/1807/24488/163/OAF_fail_neutral.wav\n",
      "164 /bitstream/1807/24488/164/OAF_door_neutral.wav\n",
      "165 /bitstream/1807/24488/165/OAF_doll_neutral.wav\n"
     ]
    },
    {
     "name": "stdout",
     "output_type": "stream",
     "text": [
      "166 /bitstream/1807/24488/166/OAF_dog_neutral.wav\n",
      "167 /bitstream/1807/24488/167/OAF_dodge_neutral.wav\n",
      "168 /bitstream/1807/24488/168/OAF_ditch_neutral.wav\n",
      "169 /bitstream/1807/24488/169/OAF_dip_neutral.wav\n",
      "170 /bitstream/1807/24488/170/OAF_dime_neutral.wav\n",
      "171 /bitstream/1807/24488/171/OAF_deep_neutral.wav\n",
      "172 /bitstream/1807/24488/172/OAF_death_neutral.wav\n",
      "173 /bitstream/1807/24488/173/OAF_dead_neutral.wav\n",
      "174 /bitstream/1807/24488/174/OAF_date_neutral.wav\n",
      "175 /bitstream/1807/24488/175/OAF_dab_neutral.wav\n",
      "176 /bitstream/1807/24488/176/OAF_cool_neutral.wav\n",
      "177 /bitstream/1807/24488/177/OAF_choice_neutral.wav\n",
      "178 /bitstream/1807/24488/178/OAF_chief_neutral.wav\n",
      "179 /bitstream/1807/24488/179/OAF_cheek_neutral.wav\n",
      "180 /bitstream/1807/24488/180/OAF_check_neutral.wav\n",
      "181 /bitstream/1807/24488/181/OAF_chat_neutral.wav\n",
      "182 /bitstream/1807/24488/182/OAF_chalk_neutral.wav\n",
      "183 /bitstream/1807/24488/183/OAF_chair_neutral.wav\n",
      "184 /bitstream/1807/24488/184/OAF_chain_neutral.wav\n",
      "185 /bitstream/1807/24488/185/OAF_cause_neutral.wav\n",
      "186 /bitstream/1807/24488/186/OAF_came_neutral.wav\n",
      "187 /bitstream/1807/24488/187/OAF_calm_neutral.wav\n",
      "188 /bitstream/1807/24488/188/OAF_cab_neutral.wav\n",
      "189 /bitstream/1807/24488/189/OAF_burn_neutral.wav\n",
      "190 /bitstream/1807/24488/190/OAF_bought_neutral.wav\n",
      "191 /bitstream/1807/24488/191/OAF_book_neutral.wav\n",
      "192 /bitstream/1807/24488/192/OAF_bone_neutral.wav\n",
      "193 /bitstream/1807/24488/193/OAF_boat_neutral.wav\n",
      "194 /bitstream/1807/24488/194/OAF_beg_neutral.wav\n",
      "195 /bitstream/1807/24488/195/OAF_bean_neutral.wav\n",
      "196 /bitstream/1807/24488/196/OAF_bath_neutral.wav\n",
      "197 /bitstream/1807/24488/197/OAF_base_neutral.wav\n",
      "198 /bitstream/1807/24488/198/OAF_bar_neutral.wav\n",
      "199 /bitstream/1807/24488/199/OAF_back_neutral.wav\n",
      "200 /bitstream/1807/24488/200/OA_bite_neutral.wav\n",
      "201 /bitstream/1807/24489/1/YAF_youth_fear.wav\n",
      "202 /bitstream/1807/24489/2/YAF_young_fear.wav\n",
      "203 /bitstream/1807/24489/3/YAF_yes_fear.wav\n",
      "204 /bitstream/1807/24489/4/YAF_yearn_fear.wav\n",
      "205 /bitstream/1807/24489/5/YAF_witch_fear.wav\n",
      "206 /bitstream/1807/24489/6/YAF_wire_fear.wav\n",
      "207 /bitstream/1807/24489/7/YAF_wife_fear.wav\n",
      "208 /bitstream/1807/24489/8/YAF_white_fear.wav\n",
      "209 /bitstream/1807/24489/9/YAF_whip_fear.wav\n",
      "210 /bitstream/1807/24489/10/YAF_which_fear.wav\n",
      "211 /bitstream/1807/24489/11/YAF_when_fear.wav\n",
      "212 /bitstream/1807/24489/12/YAF_wheat_fear.wav\n",
      "213 /bitstream/1807/24489/13/YAF_week_fear.wav\n",
      "214 /bitstream/1807/24489/14/YAF_wash_fear.wav\n",
      "215 /bitstream/1807/24489/15/YAF_walk_fear.wav\n",
      "216 /bitstream/1807/24489/16/YAF_wag_fear.wav\n",
      "217 /bitstream/1807/24489/17/YAF_vote_fear.wav\n",
      "218 /bitstream/1807/24489/18/YAF_void_fear.wav\n",
      "219 /bitstream/1807/24489/19/YAF_voice_fear.wav\n",
      "220 /bitstream/1807/24489/20/YAF_vine_fear.wav\n",
      "221 /bitstream/1807/24489/21/YAF_turn_fear.wav\n",
      "222 /bitstream/1807/24489/22/YAF_tough_fear.wav\n",
      "223 /bitstream/1807/24489/23/YAF_tool_fear.wav\n",
      "224 /bitstream/1807/24489/24/YAF_ton_fear.wav\n",
      "225 /bitstream/1807/24489/25/YAF_tire_fear.wav\n",
      "226 /bitstream/1807/24489/26/YAF_tip_fear.wav\n",
      "227 /bitstream/1807/24489/27/YAF_time_fear.wav\n",
      "228 /bitstream/1807/24489/28/YAF_thumb_fear.wav\n",
      "229 /bitstream/1807/24489/29/YAF_thought_fear.wav\n",
      "230 /bitstream/1807/24489/30/YAF_third_fear.wav\n",
      "231 /bitstream/1807/24489/31/YAF_thin_fear.wav\n",
      "232 /bitstream/1807/24489/32/YAF_tell_fear.wav\n",
      "233 /bitstream/1807/24489/33/YAF_team_fear.wav\n",
      "234 /bitstream/1807/24489/34/YAF_tape_fear.wav\n",
      "235 /bitstream/1807/24489/35/YAF_talk_fear.wav\n",
      "236 /bitstream/1807/24489/36/YAF_take_fear.wav\n",
      "237 /bitstream/1807/24489/37/YAF_sure_fear.wav\n",
      "238 /bitstream/1807/24489/38/YAF_such_fear.wav\n",
      "239 /bitstream/1807/24489/39/YAF_sub_fear.wav\n",
      "240 /bitstream/1807/24489/40/YAF_south_fear.wav\n",
      "241 /bitstream/1807/24489/41/YAF_sour_fear.wav\n",
      "242 /bitstream/1807/24489/42/YAF_soup_fear.wav\n",
      "243 /bitstream/1807/24489/43/YAF_soap_fear.wav\n",
      "244 /bitstream/1807/24489/44/YAF_size_fear.wav\n",
      "245 /bitstream/1807/24489/45/YAF_shout_fear.wav\n",
      "246 /bitstream/1807/24489/46/YAF_should_fear.wav\n",
      "247 /bitstream/1807/24489/47/YAF_shirt_fear.wav\n",
      "248 /bitstream/1807/24489/48/YAF_sheep_fear.wav\n",
      "249 /bitstream/1807/24489/49/YAF_shawl_fear.wav\n",
      "250 /bitstream/1807/24489/50/YAF_shall_fear.wav\n",
      "251 /bitstream/1807/24489/51/YAF_shack_fear.wav\n",
      "252 /bitstream/1807/24489/52/YAF_sell_fear.wav\n",
      "253 /bitstream/1807/24489/53/YAF_seize_fear.wav\n",
      "254 /bitstream/1807/24489/54/YAF_search_fear.wav\n",
      "255 /bitstream/1807/24489/55/YAF_sail_fear.wav\n",
      "256 /bitstream/1807/24489/56/YAF_said_fear.wav\n",
      "257 /bitstream/1807/24489/57/YAF_rush_fear.wav\n",
      "258 /bitstream/1807/24489/58/YAF_rough_fear.wav\n",
      "259 /bitstream/1807/24489/59/YAF_rot_fear.wav\n",
      "260 /bitstream/1807/24489/60/YAF_rose_fear.wav\n",
      "261 /bitstream/1807/24489/61/YAF_room_fear.wav\n",
      "262 /bitstream/1807/24489/62/YAF_road_fear.wav\n",
      "263 /bitstream/1807/24489/63/YAF_ripe_fear.wav\n",
      "264 /bitstream/1807/24489/64/YAF_ring_fear.wav\n",
      "265 /bitstream/1807/24489/65/YAF_red_fear.wav\n",
      "266 /bitstream/1807/24489/66/YAF_read_fear.wav\n",
      "267 /bitstream/1807/24489/67/YAF_reach_fear.wav\n",
      "268 /bitstream/1807/24489/68/YAF_rat_fear.wav\n",
      "269 /bitstream/1807/24489/69/YAF_raise_fear.wav\n",
      "270 /bitstream/1807/24489/70/YAF_rain_fear.wav\n",
      "271 /bitstream/1807/24489/71/YAF_raid_fear.wav\n",
      "272 /bitstream/1807/24489/72/YAF_rag_fear.wav\n",
      "273 /bitstream/1807/24489/73/YAF_puff_fear.wav\n",
      "274 /bitstream/1807/24489/74/YAF_pool_fear.wav\n",
      "275 /bitstream/1807/24489/75/YAF_pole_fear.wav\n",
      "276 /bitstream/1807/24489/76/YAF_pike_fear.wav\n",
      "277 /bitstream/1807/24489/77/YAF_pick_fear.wav\n",
      "278 /bitstream/1807/24489/78/YAF_phone_fear.wav\n",
      "279 /bitstream/1807/24489/79/YAF_perch_fear.wav\n",
      "280 /bitstream/1807/24489/80/YAF_peg_fear.wav\n",
      "281 /bitstream/1807/24489/81/YAF_pearl_fear.wav\n",
      "282 /bitstream/1807/24489/82/YAF_pass_fear.wav\n",
      "283 /bitstream/1807/24489/83/YAF_pain_fear.wav\n",
      "284 /bitstream/1807/24489/84/YAF_page_fear.wav\n",
      "285 /bitstream/1807/24489/85/YAF_pad_fear.wav\n",
      "286 /bitstream/1807/24489/86/YAF_numb_fear.wav\n",
      "287 /bitstream/1807/24489/87/YAF_note_fear.wav\n",
      "288 /bitstream/1807/24489/88/YAF_nice_fear.wav\n",
      "289 /bitstream/1807/24489/89/YAF_neat_fear.wav\n",
      "290 /bitstream/1807/24489/90/YAF_near_fear.wav\n",
      "291 /bitstream/1807/24489/91/YAF_name_fear.wav\n",
      "292 /bitstream/1807/24489/92/YAF_nag_fear.wav\n",
      "293 /bitstream/1807/24489/93/YAF_mouse_fear.wav\n",
      "294 /bitstream/1807/24489/94/YAF_mop_fear.wav\n",
      "295 /bitstream/1807/24489/95/YAF_moon_fear.wav\n",
      "296 /bitstream/1807/24489/96/YAF_mood_fear.wav\n",
      "297 /bitstream/1807/24489/97/YAF_mode_fear.wav\n",
      "298 /bitstream/1807/24489/98/YAF_mob_fear.wav\n",
      "299 /bitstream/1807/24489/99/YAF_mill_fear.wav\n",
      "300 /bitstream/1807/24489/100/YAF_met_fear.wav\n",
      "301 /bitstream/1807/24489/101/YAF_mess_fear.wav\n",
      "302 /bitstream/1807/24489/102/YAF_merge_fear.wav\n",
      "303 /bitstream/1807/24489/103/YAF_match_fear.wav\n",
      "304 /bitstream/1807/24489/104/YAF_make_fear.wav\n",
      "305 /bitstream/1807/24489/105/YAF_luck_fear.wav\n",
      "306 /bitstream/1807/24489/106/YAF_love_fear.wav\n",
      "307 /bitstream/1807/24489/107/YAF_lot_fear.wav\n",
      "308 /bitstream/1807/24489/108/YAF_lose_fear.wav\n",
      "309 /bitstream/1807/24489/109/YAF_lore_fear.wav\n",
      "310 /bitstream/1807/24489/110/YAF_long_fear.wav\n",
      "311 /bitstream/1807/24489/111/YAF_loaf_fear.wav\n",
      "312 /bitstream/1807/24489/112/YAF_live_fear.wav\n",
      "313 /bitstream/1807/24489/113/YAF_limb_fear.wav\n",
      "314 /bitstream/1807/24489/114/YAF_life_fear.wav\n",
      "315 /bitstream/1807/24489/115/YAF_lid_fear.wav\n",
      "316 /bitstream/1807/24489/116/YAF_lease_fear.wav\n",
      "317 /bitstream/1807/24489/117/YAF_learn_fear.wav\n",
      "318 /bitstream/1807/24489/118/YAF_lean_fear.wav\n",
      "319 /bitstream/1807/24489/119/YAF_laud_fear.wav\n",
      "320 /bitstream/1807/24489/120/YAF_late_fear.wav\n",
      "321 /bitstream/1807/24489/121/YAF_knock_fear.wav\n",
      "322 /bitstream/1807/24489/122/YAF_kite_fear.wav\n",
      "323 /bitstream/1807/24489/123/YAF_king_fear.wav\n",
      "324 /bitstream/1807/24489/124/YAF_kill_fear.wav\n",
      "325 /bitstream/1807/24489/125/YAF_kick_fear.wav\n",
      "326 /bitstream/1807/24489/126/YAF_keg_fear.wav\n",
      "327 /bitstream/1807/24489/127/YAF_keep_fear.wav\n",
      "328 /bitstream/1807/24489/128/YAF_keen_fear.wav\n",
      "329 /bitstream/1807/24489/129/YAF_juice_fear.wav\n",
      "330 /bitstream/1807/24489/130/YAF_jug_fear.wav\n",
      "331 /bitstream/1807/24489/131/YAF_judge_fear.wav\n",
      "332 /bitstream/1807/24489/132/YAF_join_fear.wav\n",
      "333 /bitstream/1807/24489/133/YAF_jar_fear.wav\n",
      "334 /bitstream/1807/24489/134/YAF_jail_fear.wav\n",
      "335 /bitstream/1807/24489/135/YAF_hush_fear.wav\n",
      "336 /bitstream/1807/24489/136/YAF_hurl_fear.wav\n"
     ]
    },
    {
     "name": "stdout",
     "output_type": "stream",
     "text": [
      "337 /bitstream/1807/24489/137/YAF_home_fear.wav\n",
      "338 /bitstream/1807/24489/138/YAF_hole_fear.wav\n",
      "339 /bitstream/1807/24489/139/YAF_hit_fear.wav\n",
      "340 /bitstream/1807/24489/140/YAF_hire_fear.wav\n",
      "341 /bitstream/1807/24489/141/YAF_haze_fear.wav\n",
      "342 /bitstream/1807/24489/142/YAF_have_fear.wav\n",
      "343 /bitstream/1807/24489/143/YAF_hate_fear.wav\n",
      "344 /bitstream/1807/24489/144/YAF_hash_fear.wav\n",
      "345 /bitstream/1807/24489/145/YAF_hall_fear.wav\n",
      "346 /bitstream/1807/24489/146/YAF_half_fear.wav\n",
      "347 /bitstream/1807/24489/147/YAF_gun_fear.wav\n",
      "348 /bitstream/1807/24489/148/YAF_goose_fear.wav\n",
      "349 /bitstream/1807/24489/149/YAF_good_fear.wav\n",
      "350 /bitstream/1807/24489/150/YAF_goal_fear.wav\n",
      "351 /bitstream/1807/24489/151/YAF_gin_fear.wav\n",
      "352 /bitstream/1807/24489/152/YAF_get_fear.wav\n",
      "353 /bitstream/1807/24489/153/YAF_germ_fear.wav\n",
      "354 /bitstream/1807/24489/154/YAF_gaze_fear.wav\n",
      "355 /bitstream/1807/24489/155/YAF_gas_fear.wav\n",
      "356 /bitstream/1807/24489/156/YAF_gap_fear.wav\n",
      "357 /bitstream/1807/24489/157/YAF_food_fear.wav\n",
      "358 /bitstream/1807/24489/158/YAF_five_fear.wav\n",
      "359 /bitstream/1807/24489/159/YAF_fit_fear.wav\n",
      "360 /bitstream/1807/24489/160/YAF_fat_fear.wav\n",
      "361 /bitstream/1807/24489/161/YAF_far_fear.wav\n",
      "362 /bitstream/1807/24489/162/YAF_fall_fear.wav\n",
      "363 /bitstream/1807/24489/163/YAF_fail_fear.wav\n",
      "364 /bitstream/1807/24489/164/YAF_door_fear.wav\n",
      "365 /bitstream/1807/24489/165/YAF_doll_fear.wav\n",
      "366 /bitstream/1807/24489/166/YAF_dog_fear.wav\n",
      "367 /bitstream/1807/24489/167/YAF_dodge_fear.wav\n",
      "368 /bitstream/1807/24489/168/YAF_ditch_fear.wav\n",
      "369 /bitstream/1807/24489/169/YAF_dip_fear.wav\n",
      "370 /bitstream/1807/24489/170/YAF_dime_fear.wav\n",
      "371 /bitstream/1807/24489/171/YAF_deep_fear.wav\n",
      "372 /bitstream/1807/24489/172/YAF_death_fear.wav\n",
      "373 /bitstream/1807/24489/173/YAF_dead_fear.wav\n",
      "374 /bitstream/1807/24489/174/YAF_date_fear.wav\n",
      "375 /bitstream/1807/24489/175/YAF_dab_fear.wav\n",
      "376 /bitstream/1807/24489/176/YAF_cool_fear.wav\n",
      "377 /bitstream/1807/24489/177/YAF_choice_fear.wav\n",
      "378 /bitstream/1807/24489/178/YAF_chief_fear.wav\n",
      "379 /bitstream/1807/24489/179/YAF_cheek_fear.wav\n",
      "380 /bitstream/1807/24489/180/YAF_check_fear.wav\n",
      "381 /bitstream/1807/24489/181/YAF_chat_fear.wav\n",
      "382 /bitstream/1807/24489/182/YAF_chalk_fear.wav\n",
      "383 /bitstream/1807/24489/183/YAF_chair_fear.wav\n",
      "384 /bitstream/1807/24489/184/YAF_chain_fear.wav\n",
      "385 /bitstream/1807/24489/185/YAF_cause_fear.wav\n",
      "386 /bitstream/1807/24489/186/YAF_came_fear.wav\n",
      "387 /bitstream/1807/24489/187/YAF_calm_fear.wav\n",
      "388 /bitstream/1807/24489/188/YAF_cab_fear.wav\n",
      "389 /bitstream/1807/24489/189/YAF_burn_fear.wav\n",
      "390 /bitstream/1807/24489/190/YAF_bought_fear.wav\n",
      "391 /bitstream/1807/24489/191/YAF_book_fear.wav\n",
      "392 /bitstream/1807/24489/192/YAF_bone_fear.wav\n",
      "393 /bitstream/1807/24489/193/YAF_boat_fear.wav\n",
      "394 /bitstream/1807/24489/194/YAF_bite_fear.wav\n",
      "395 /bitstream/1807/24489/195/YAF_beg_fear.wav\n",
      "396 /bitstream/1807/24489/196/YAF_bean_fear.wav\n",
      "397 /bitstream/1807/24489/197/YAF_bath_fear.wav\n",
      "398 /bitstream/1807/24489/198/YAF_base_fear.wav\n",
      "399 /bitstream/1807/24489/199/YAF_bar_fear.wav\n",
      "400 /bitstream/1807/24489/200/YAF_back_fear.wav\n",
      "401 /bitstream/1807/24490/1/YAF_youth_angry.wav\n",
      "402 /bitstream/1807/24490/2/YAF_young_angry.wav\n",
      "403 /bitstream/1807/24490/3/YAF_yes_angry.wav\n",
      "404 /bitstream/1807/24490/4/YAF_yearn_angry.wav\n",
      "405 /bitstream/1807/24490/5/YAF_witch_angry.wav\n",
      "406 /bitstream/1807/24490/6/YAF_wire_angry.wav\n",
      "407 /bitstream/1807/24490/7/YAF_wife_angry.wav\n",
      "408 /bitstream/1807/24490/8/YAF_white_angry.wav\n",
      "409 /bitstream/1807/24490/9/YAF_whip_angry.wav\n",
      "410 /bitstream/1807/24490/10/YAF_which_angry.wav\n",
      "411 /bitstream/1807/24490/11/YAF_when_angry.wav\n",
      "412 /bitstream/1807/24490/12/YAF_wheat_angry.wav\n",
      "413 /bitstream/1807/24490/13/YAF_week_angry.wav\n",
      "414 /bitstream/1807/24490/14/YAF_wash_angry.wav\n",
      "415 /bitstream/1807/24490/15/YAF_walk_angry.wav\n",
      "416 /bitstream/1807/24490/16/YAF_wag_angry.wav\n",
      "417 /bitstream/1807/24490/17/YAF_vote_angry.wav\n",
      "418 /bitstream/1807/24490/18/YAF_void_angry.wav\n",
      "419 /bitstream/1807/24490/19/YAF_voice_angry.wav\n",
      "420 /bitstream/1807/24490/20/YAF_vine_angry.wav\n",
      "421 /bitstream/1807/24490/21/YAF_turn_angry.wav\n",
      "422 /bitstream/1807/24490/22/YAF_tough_angry.wav\n",
      "423 /bitstream/1807/24490/23/YAF_tool_angry.wav\n",
      "424 /bitstream/1807/24490/24/YAF_ton_angry.wav\n",
      "425 /bitstream/1807/24490/25/YAF_tire_angry.wav\n",
      "426 /bitstream/1807/24490/26/YAF_tip_angry.wav\n",
      "427 /bitstream/1807/24490/27/YAF_time_angry.wav\n",
      "428 /bitstream/1807/24490/28/YAF_thumb_angry.wav\n",
      "429 /bitstream/1807/24490/29/YAF_thought_angry.wav\n",
      "430 /bitstream/1807/24490/30/YAF_third_angry.wav\n",
      "431 /bitstream/1807/24490/31/YAF_thin_angry.wav\n",
      "432 /bitstream/1807/24490/32/YAF_tell_angry.wav\n",
      "433 /bitstream/1807/24490/33/YAF_team_angry.wav\n",
      "434 /bitstream/1807/24490/34/YAF_tape_angry.wav\n",
      "435 /bitstream/1807/24490/35/YAF_talk_angry.wav\n",
      "436 /bitstream/1807/24490/36/YAF_take_angry.wav\n",
      "437 /bitstream/1807/24490/37/YAF_sure_angry.wav\n",
      "438 /bitstream/1807/24490/38/YAF_such_angry.wav\n",
      "439 /bitstream/1807/24490/39/YAF_sub_angry.wav\n",
      "440 /bitstream/1807/24490/40/YAF_south_angry.wav\n",
      "441 /bitstream/1807/24490/41/YAF_sour_angry.wav\n",
      "442 /bitstream/1807/24490/42/YAF_soup_angry.wav\n",
      "443 /bitstream/1807/24490/43/YAF_soap_angry.wav\n",
      "444 /bitstream/1807/24490/44/YAF_size_angry.wav\n",
      "445 /bitstream/1807/24490/45/YAF_shout_angry.wav\n",
      "446 /bitstream/1807/24490/46/YAF_should_angry.wav\n",
      "447 /bitstream/1807/24490/47/YAF_shirt_angry.wav\n",
      "448 /bitstream/1807/24490/48/YAF_sheep_angry.wav\n",
      "449 /bitstream/1807/24490/49/YAF_shawl_angry.wav\n",
      "450 /bitstream/1807/24490/50/YAF_shall_angry.wav\n",
      "451 /bitstream/1807/24490/51/YAF_shack_angry.wav\n",
      "452 /bitstream/1807/24490/52/YAF_sell_angry.wav\n",
      "453 /bitstream/1807/24490/53/YAF_seize_angry.wav\n",
      "454 /bitstream/1807/24490/54/YAF_search_angry.wav\n",
      "455 /bitstream/1807/24490/55/YAF_sail_angry.wav\n",
      "456 /bitstream/1807/24490/56/YAF_said_angry.wav\n",
      "457 /bitstream/1807/24490/57/YAF_rush_angry.wav\n",
      "458 /bitstream/1807/24490/58/YAF_rough_angry.wav\n",
      "459 /bitstream/1807/24490/59/YAF_rot_angry.wav\n",
      "460 /bitstream/1807/24490/60/YAF_rose_angry.wav\n",
      "461 /bitstream/1807/24490/61/YAF_room_angry.wav\n",
      "462 /bitstream/1807/24490/62/YAF_road_angry.wav\n",
      "463 /bitstream/1807/24490/63/YAF_ripe_angry.wav\n",
      "464 /bitstream/1807/24490/64/YAF_ring_angry.wav\n",
      "465 /bitstream/1807/24490/65/YAF_red_angry.wav\n",
      "466 /bitstream/1807/24490/66/YAF_read_angry.wav\n",
      "467 /bitstream/1807/24490/67/YAF_reach_angry.wav\n",
      "468 /bitstream/1807/24490/68/YAF_rat_angry.wav\n",
      "469 /bitstream/1807/24490/69/YAF_raise_angry.wav\n",
      "470 /bitstream/1807/24490/70/YAF_rain_angry.wav\n",
      "471 /bitstream/1807/24490/71/YAF_raid_angry.wav\n",
      "472 /bitstream/1807/24490/72/YAF_rag_angry.wav\n",
      "473 /bitstream/1807/24490/73/YAF_puff_angry.wav\n",
      "474 /bitstream/1807/24490/74/YAF_pool_angry.wav\n",
      "475 /bitstream/1807/24490/75/YAF_pole_angry.wav\n",
      "476 /bitstream/1807/24490/76/YAF_pike_angry.wav\n",
      "477 /bitstream/1807/24490/77/YAF_pick_angry.wav\n",
      "478 /bitstream/1807/24490/78/YAF_phone_angry.wav\n",
      "479 /bitstream/1807/24490/79/YAF_perch_angry.wav\n",
      "480 /bitstream/1807/24490/80/YAF_peg_angry.wav\n",
      "481 /bitstream/1807/24490/81/YAF_pearl_angry.wav\n",
      "482 /bitstream/1807/24490/82/YAF_pass_angry.wav\n",
      "483 /bitstream/1807/24490/83/YAF_pain_angry.wav\n",
      "484 /bitstream/1807/24490/84/YAF_page_angry.wav\n",
      "485 /bitstream/1807/24490/85/YAF_pad_angry.wav\n",
      "486 /bitstream/1807/24490/86/YAF_numb_angry.wav\n",
      "487 /bitstream/1807/24490/87/YAF_note_angry.wav\n",
      "488 /bitstream/1807/24490/88/YAF_nice_angry.wav\n",
      "489 /bitstream/1807/24490/89/YAF_neat_angry.wav\n",
      "490 /bitstream/1807/24490/90/YAF_near_angry.wav\n",
      "491 /bitstream/1807/24490/91/YAF_name_angry.wav\n",
      "492 /bitstream/1807/24490/92/YAF_nag_angry.wav\n",
      "493 /bitstream/1807/24490/93/YAF_mouse_angry.wav\n",
      "494 /bitstream/1807/24490/94/YAF_mop_angry.wav\n",
      "495 /bitstream/1807/24490/95/YAF_moon_angry.wav\n",
      "496 /bitstream/1807/24490/96/YAF_mood_angry.wav\n",
      "497 /bitstream/1807/24490/97/YAF_mode_angry.wav\n",
      "498 /bitstream/1807/24490/98/YAF_mob_angry.wav\n",
      "499 /bitstream/1807/24490/99/YAF_mill_angry.wav\n",
      "500 /bitstream/1807/24490/100/YAF_met_angry.wav\n",
      "501 /bitstream/1807/24490/101/YAF_mess_angry.wav\n",
      "502 /bitstream/1807/24490/102/YAF_merge_angry.wav\n",
      "503 /bitstream/1807/24490/103/YAF_match_angry.wav\n",
      "504 /bitstream/1807/24490/104/YAF_make_angry.wav\n",
      "505 /bitstream/1807/24490/105/YAF_luck_angry.wav\n",
      "506 /bitstream/1807/24490/106/YAF_love_angry.wav\n",
      "507 /bitstream/1807/24490/107/YAF_lot_angry.wav\n"
     ]
    },
    {
     "name": "stdout",
     "output_type": "stream",
     "text": [
      "508 /bitstream/1807/24490/108/YAF_lose_angry.wav\n",
      "509 /bitstream/1807/24490/109/YAF_lore_angry.wav\n",
      "510 /bitstream/1807/24490/110/YAF_long_angry.wav\n",
      "511 /bitstream/1807/24490/111/YAF_loaf_angry.wav\n",
      "512 /bitstream/1807/24490/112/YAF_live_angry.wav\n",
      "513 /bitstream/1807/24490/113/YAF_limb_angry.wav\n",
      "514 /bitstream/1807/24490/114/YAF_life_angry.wav\n",
      "515 /bitstream/1807/24490/115/YAF_lid_angry.wav\n",
      "516 /bitstream/1807/24490/116/YAF_lease_angry.wav\n",
      "517 /bitstream/1807/24490/117/YAF_learn_angry.wav\n",
      "518 /bitstream/1807/24490/118/YAF_lean_angry.wav\n",
      "519 /bitstream/1807/24490/119/YAF_laud_angry.wav\n",
      "520 /bitstream/1807/24490/120/YAF_late_angry.wav\n",
      "521 /bitstream/1807/24490/121/YAF_knock_angry.wav\n",
      "522 /bitstream/1807/24490/122/YAF_kite_angry.wav\n",
      "523 /bitstream/1807/24490/123/YAF_king_angry.wav\n",
      "524 /bitstream/1807/24490/124/YAF_kill_angry.wav\n",
      "525 /bitstream/1807/24490/125/YAF_kick_angry.wav\n",
      "526 /bitstream/1807/24490/126/YAF_keg_angry.wav\n",
      "527 /bitstream/1807/24490/127/YAF_keep_angry.wav\n",
      "528 /bitstream/1807/24490/128/YAF_keen_angry.wav\n",
      "529 /bitstream/1807/24490/129/YAF_juice_angry.wav\n",
      "530 /bitstream/1807/24490/130/YAF_jug_angry.wav\n",
      "531 /bitstream/1807/24490/131/YAF_judge_angry.wav\n",
      "532 /bitstream/1807/24490/132/YAF_join_angry.wav\n",
      "533 /bitstream/1807/24490/133/YAF_jar_angry.wav\n",
      "534 /bitstream/1807/24490/134/YAF_jail_angry.wav\n",
      "535 /bitstream/1807/24490/135/YAF_hush_angry.wav\n",
      "536 /bitstream/1807/24490/136/YAF_hurl_angry.wav\n",
      "537 /bitstream/1807/24490/137/YAF_home_angry.wav\n",
      "538 /bitstream/1807/24490/138/YAF_hole_angry.wav\n",
      "539 /bitstream/1807/24490/139/YAF_hit_angry.wav\n",
      "540 /bitstream/1807/24490/140/YAF_hire_angry.wav\n",
      "541 /bitstream/1807/24490/141/YAF_haze_angry.wav\n",
      "542 /bitstream/1807/24490/142/YAF_have_angry.wav\n",
      "543 /bitstream/1807/24490/143/YAF_hate_angry.wav\n",
      "544 /bitstream/1807/24490/144/YAF_hash_angry.wav\n",
      "545 /bitstream/1807/24490/145/YAF_hall_angry.wav\n",
      "546 /bitstream/1807/24490/146/YAF_half_angry.wav\n",
      "547 /bitstream/1807/24490/147/YAF_gun_angry.wav\n",
      "548 /bitstream/1807/24490/148/YAF_goose_angry.wav\n",
      "549 /bitstream/1807/24490/149/YAF_good_angry.wav\n",
      "550 /bitstream/1807/24490/150/YAF_goal_angry.wav\n",
      "551 /bitstream/1807/24490/151/YAF_gin_angry.wav\n",
      "552 /bitstream/1807/24490/152/YAF_get_angry.wav\n",
      "553 /bitstream/1807/24490/153/YAF_germ_angry.wav\n",
      "554 /bitstream/1807/24490/154/YAF_gaze_angry.wav\n",
      "555 /bitstream/1807/24490/155/YAF_gas_angry.wav\n",
      "556 /bitstream/1807/24490/156/YAF_gap_angry.wav\n",
      "557 /bitstream/1807/24490/157/YAF_food_angry.wav\n",
      "558 /bitstream/1807/24490/158/YAF_five_angry.wav\n",
      "559 /bitstream/1807/24490/159/YAF_fit_angry.wav\n",
      "560 /bitstream/1807/24490/160/YAF_fat_angry.wav\n",
      "561 /bitstream/1807/24490/161/YAF_far_angry.wav\n",
      "562 /bitstream/1807/24490/162/YAF_fall_angry.wav\n",
      "563 /bitstream/1807/24490/163/YAF_fail_angry.wav\n",
      "564 /bitstream/1807/24490/164/YAF_door_angry.wav\n",
      "565 /bitstream/1807/24490/165/YAF_doll_angry.wav\n",
      "566 /bitstream/1807/24490/166/YAF_dog_angry.wav\n",
      "567 /bitstream/1807/24490/167/YAF_dodge_angry.wav\n",
      "568 /bitstream/1807/24490/168/YAF_ditch_angry.wav\n",
      "569 /bitstream/1807/24490/169/YAF_dip_angry.wav\n",
      "570 /bitstream/1807/24490/170/YAF_dime_angry.wav\n",
      "571 /bitstream/1807/24490/171/YAF_deep_angry.wav\n",
      "572 /bitstream/1807/24490/172/YAF_death_angry.wav\n",
      "573 /bitstream/1807/24490/173/YAF_dead_angry.wav\n",
      "574 /bitstream/1807/24490/174/YAF_date_angry.wav\n",
      "575 /bitstream/1807/24490/175/YAF_dab_angry.wav\n",
      "576 /bitstream/1807/24490/176/YAF_cool_angry.wav\n",
      "577 /bitstream/1807/24490/177/YAF_choice_angry.wav\n",
      "578 /bitstream/1807/24490/178/YAF_chief_angry.wav\n",
      "579 /bitstream/1807/24490/179/YAF_cheek_angry.wav\n",
      "580 /bitstream/1807/24490/180/YAF_check_angry.wav\n",
      "581 /bitstream/1807/24490/181/YAF_chat_angry.wav\n",
      "582 /bitstream/1807/24490/182/YAF_chalk_angry.wav\n",
      "583 /bitstream/1807/24490/183/YAF_chair_angry.wav\n",
      "584 /bitstream/1807/24490/184/YAF_chain_angry.wav\n",
      "585 /bitstream/1807/24490/185/YAF_cause_angry.wav\n",
      "586 /bitstream/1807/24490/186/YAF_came_angry.wav\n",
      "587 /bitstream/1807/24490/187/YAF_calm_angry.wav\n",
      "588 /bitstream/1807/24490/188/YAF_cab_angry.wav\n",
      "589 /bitstream/1807/24490/189/YAF_burn_angry.wav\n",
      "590 /bitstream/1807/24490/190/YAF_bought_angry.wav\n",
      "591 /bitstream/1807/24490/191/YAF_book_angry.wav\n",
      "592 /bitstream/1807/24490/192/YAF_bone_angry.wav\n",
      "593 /bitstream/1807/24490/193/YAF_boat_angry.wav\n",
      "594 /bitstream/1807/24490/194/YAF_bite_angry.wav\n",
      "595 /bitstream/1807/24490/195/YAF_beg_angry.wav\n",
      "596 /bitstream/1807/24490/196/YAF_bean_angry.wav\n",
      "597 /bitstream/1807/24490/197/YAF_bath_angry.wav\n",
      "598 /bitstream/1807/24490/198/YAF_base_angry.wav\n",
      "599 /bitstream/1807/24490/199/YAF_bar_angry.wav\n",
      "600 /bitstream/1807/24490/200/YAF_back_angry.wav\n",
      "601 /bitstream/1807/24491/1/OAF_youth_ps.wav\n",
      "602 /bitstream/1807/24491/2/OAF_young_ps.wav\n",
      "603 /bitstream/1807/24491/3/OAF_yes_ps.wav\n",
      "604 /bitstream/1807/24491/4/OAF_yearn_ps.wav\n",
      "605 /bitstream/1807/24491/5/OAF_witch_ps.wav\n",
      "606 /bitstream/1807/24491/6/OAF_wire_ps.wav\n",
      "607 /bitstream/1807/24491/7/OAF_wife_ps.wav\n",
      "608 /bitstream/1807/24491/8/OAF_white_ps.wav\n",
      "609 /bitstream/1807/24491/9/OAF_whip_ps.wav\n",
      "610 /bitstream/1807/24491/10/OAF_which_ps.wav\n",
      "611 /bitstream/1807/24491/11/OAF_when_ps.wav\n",
      "612 /bitstream/1807/24491/12/OAF_wheat_ps.wav\n",
      "613 /bitstream/1807/24491/13/OAF_week_ps.wav\n",
      "614 /bitstream/1807/24491/14/OAF_wash_ps.wav\n",
      "615 /bitstream/1807/24491/15/OAF_walk_ps.wav\n",
      "616 /bitstream/1807/24491/16/OAF_wag_ps.wav\n",
      "617 /bitstream/1807/24491/17/OAF_vote_ps.wav\n",
      "618 /bitstream/1807/24491/18/OAF_void_ps.wav\n",
      "619 /bitstream/1807/24491/19/OAF_voice_ps.wav\n",
      "620 /bitstream/1807/24491/20/OAF_vine_ps.wav\n",
      "621 /bitstream/1807/24491/21/OAF_turn_ps.wav\n",
      "622 /bitstream/1807/24491/22/OAF_tough_ps.wav\n",
      "623 /bitstream/1807/24491/23/OAF_tool_ps.wav\n",
      "624 /bitstream/1807/24491/24/OAF_ton_ps.wav\n",
      "625 /bitstream/1807/24491/25/OAF_tire_ps.wav\n",
      "626 /bitstream/1807/24491/26/OAF_tip_ps.wav\n",
      "627 /bitstream/1807/24491/27/OAF_time_ps.wav\n",
      "628 /bitstream/1807/24491/28/OAF_thumb_ps.wav\n",
      "629 /bitstream/1807/24491/29/OAF_thought_ps.wav\n",
      "630 /bitstream/1807/24491/30/OAF_third_ps.wav\n",
      "631 /bitstream/1807/24491/31/OAF_thin_ps.wav\n",
      "632 /bitstream/1807/24491/32/OAF_tell_ps.wav\n",
      "633 /bitstream/1807/24491/33/OAF_team_ps.wav\n",
      "634 /bitstream/1807/24491/34/OAF_tape_ps.wav\n",
      "635 /bitstream/1807/24491/35/OAF_talk_ps.wav\n",
      "636 /bitstream/1807/24491/36/OAF_take_ps.wav\n",
      "637 /bitstream/1807/24491/37/OAF_sure_ps.wav\n",
      "638 /bitstream/1807/24491/38/OAF_such_ps.wav\n",
      "639 /bitstream/1807/24491/39/OAF_sub_ps.wav\n",
      "640 /bitstream/1807/24491/40/OAF_south_ps.wav\n",
      "641 /bitstream/1807/24491/41/OAF_sour_ps.wav\n",
      "642 /bitstream/1807/24491/42/OAF_soup_ps.wav\n",
      "643 /bitstream/1807/24491/43/OAF_soap_ps.wav\n",
      "644 /bitstream/1807/24491/44/OAF_size_ps.wav\n",
      "645 /bitstream/1807/24491/45/OAF_shout_ps.wav\n",
      "646 /bitstream/1807/24491/46/OAF_should_ps.wav\n",
      "647 /bitstream/1807/24491/47/OAF_shirt_ps.wav\n",
      "648 /bitstream/1807/24491/48/OAF_sheep_ps.wav\n",
      "649 /bitstream/1807/24491/49/OAF_shawl_ps.wav\n",
      "650 /bitstream/1807/24491/50/OAF_shall_ps.wav\n",
      "651 /bitstream/1807/24491/51/OAF_shack_ps.wav\n",
      "652 /bitstream/1807/24491/52/OAF_sell_ps.wav\n",
      "653 /bitstream/1807/24491/53/OAF_seize_ps.wav\n",
      "654 /bitstream/1807/24491/54/OAF_search_ps.wav\n",
      "655 /bitstream/1807/24491/55/OAF_sail_ps.wav\n",
      "656 /bitstream/1807/24491/56/OAF_said_ps.wav\n",
      "657 /bitstream/1807/24491/57/OAF_rush_ps.wav\n",
      "658 /bitstream/1807/24491/58/OAF_rough_ps.wav\n",
      "659 /bitstream/1807/24491/59/OAF_rot_ps.wav\n",
      "660 /bitstream/1807/24491/60/OAF_rose_ps.wav\n",
      "661 /bitstream/1807/24491/61/OAF_room_ps.wav\n",
      "662 /bitstream/1807/24491/62/OAF_road_ps.wav\n",
      "663 /bitstream/1807/24491/63/OAF_ripe_ps.wav\n",
      "664 /bitstream/1807/24491/64/OAF_ring_ps.wav\n",
      "665 /bitstream/1807/24491/65/OAF_red_ps.wav\n",
      "666 /bitstream/1807/24491/66/OAF_read_ps.wav\n",
      "667 /bitstream/1807/24491/67/OAF_reach_ps.wav\n",
      "668 /bitstream/1807/24491/68/OAF_rat_ps.wav\n",
      "669 /bitstream/1807/24491/69/OAF_raise_ps.wav\n",
      "670 /bitstream/1807/24491/70/OAF_rain_ps.wav\n",
      "671 /bitstream/1807/24491/71/OAF_raid_ps.wav\n",
      "672 /bitstream/1807/24491/72/OAF_rag_ps.wav\n",
      "673 /bitstream/1807/24491/73/OAF_puff_ps.wav\n",
      "674 /bitstream/1807/24491/74/OAF_pool_ps.wav\n",
      "675 /bitstream/1807/24491/75/OAF_pole_ps.wav\n",
      "676 /bitstream/1807/24491/76/OAF_pike_ps.wav\n",
      "677 /bitstream/1807/24491/77/OAF_pick_ps.wav\n",
      "678 /bitstream/1807/24491/78/OAF_phone_ps.wav\n",
      "679 /bitstream/1807/24491/79/OAF_perch_ps.wav\n",
      "680 /bitstream/1807/24491/80/OAF_peg_ps.wav\n",
      "681 /bitstream/1807/24491/81/OAF_pearl_ps.wav\n"
     ]
    },
    {
     "name": "stdout",
     "output_type": "stream",
     "text": [
      "682 /bitstream/1807/24491/82/OAF_pass_ps.wav\n",
      "683 /bitstream/1807/24491/83/OAF_pain_ps.wav\n",
      "684 /bitstream/1807/24491/84/OAF_page_ps.wav\n",
      "685 /bitstream/1807/24491/85/OAF_pad_ps.wav\n",
      "686 /bitstream/1807/24491/86/OAF_numb_ps.wav\n",
      "687 /bitstream/1807/24491/87/OAF_note_ps.wav\n",
      "688 /bitstream/1807/24491/88/OAF_nice_ps.wav\n",
      "689 /bitstream/1807/24491/89/OAF_neat_ps.wav\n",
      "690 /bitstream/1807/24491/90/OAF_near_ps.wav\n",
      "691 /bitstream/1807/24491/91/OAF_name_ps.wav\n",
      "692 /bitstream/1807/24491/92/OAF_nag_ps.wav\n",
      "693 /bitstream/1807/24491/93/OAF_mouse_ps.wav\n",
      "694 /bitstream/1807/24491/94/OAF_mop_ps.wav\n",
      "695 /bitstream/1807/24491/95/OAF_moon_ps.wav\n",
      "696 /bitstream/1807/24491/96/OAF_mood_ps.wav\n",
      "697 /bitstream/1807/24491/97/OAF_mode_ps.wav\n",
      "698 /bitstream/1807/24491/98/OAF_mob_ps.wav\n",
      "699 /bitstream/1807/24491/99/OAF_mill_ps.wav\n",
      "700 /bitstream/1807/24491/100/OAF_met_ps.wav\n",
      "701 /bitstream/1807/24491/101/OAF_mess_ps.wav\n",
      "702 /bitstream/1807/24491/102/OAF_merge_ps.wav\n",
      "703 /bitstream/1807/24491/103/OAF_match_ps.wav\n",
      "704 /bitstream/1807/24491/104/OAF_make_ps.wav\n",
      "705 /bitstream/1807/24491/105/OAF_luck_ps.wav\n",
      "706 /bitstream/1807/24491/106/OAF_love_ps.wav\n",
      "707 /bitstream/1807/24491/107/OAF_lot_ps.wav\n",
      "708 /bitstream/1807/24491/108/OAF_lose_ps.wav\n",
      "709 /bitstream/1807/24491/109/OAF_lore_ps.wav\n",
      "710 /bitstream/1807/24491/110/OAF_long_ps.wav\n",
      "711 /bitstream/1807/24491/111/OAF_loaf_ps.wav\n",
      "712 /bitstream/1807/24491/112/OAF_live_ps.wav\n",
      "713 /bitstream/1807/24491/113/OAF_limb_ps.wav\n",
      "714 /bitstream/1807/24491/114/OAF_life_ps.wav\n",
      "715 /bitstream/1807/24491/115/OAF_lid_ps.wav\n",
      "716 /bitstream/1807/24491/116/OAF_lease_ps.wav\n",
      "717 /bitstream/1807/24491/117/OAF_learn_ps.wav\n",
      "718 /bitstream/1807/24491/118/OAF_lean_ps.wav\n",
      "719 /bitstream/1807/24491/119/OAF_laud_ps.wav\n",
      "720 /bitstream/1807/24491/120/OAF_late_ps.wav\n",
      "721 /bitstream/1807/24491/121/OAF_knock_ps.wav\n",
      "722 /bitstream/1807/24491/122/OAF_kite_ps.wav\n",
      "723 /bitstream/1807/24491/123/OAF_king_ps.wav\n",
      "724 /bitstream/1807/24491/124/OAF_kill_ps.wav\n",
      "725 /bitstream/1807/24491/125/OAF_kick_ps.wav\n",
      "726 /bitstream/1807/24491/126/OAF_keg_ps.wav\n",
      "727 /bitstream/1807/24491/127/OAF_keep_ps.wav\n",
      "728 /bitstream/1807/24491/128/OAF_keen_ps.wav\n",
      "729 /bitstream/1807/24491/129/OAF_juice_ps.wav\n",
      "730 /bitstream/1807/24491/130/OAF_jug_ps.wav\n",
      "731 /bitstream/1807/24491/131/OAF_judge_ps.wav\n",
      "732 /bitstream/1807/24491/132/OAF_join_ps.wav\n",
      "733 /bitstream/1807/24491/133/OAF_jar_ps.wav\n",
      "734 /bitstream/1807/24491/134/OAF_jail_ps.wav\n",
      "735 /bitstream/1807/24491/135/OAF_hush_ps.wav\n",
      "736 /bitstream/1807/24491/136/OAF_hurl_ps.wav\n",
      "737 /bitstream/1807/24491/137/OAF_home_ps.wav\n",
      "738 /bitstream/1807/24491/138/OAF_hole_ps.wav\n",
      "739 /bitstream/1807/24491/139/OAF_hit_ps.wav\n",
      "740 /bitstream/1807/24491/140/OAF_hire_ps.wav\n",
      "741 /bitstream/1807/24491/141/OAF_haze_ps.wav\n",
      "742 /bitstream/1807/24491/142/OAF_have_ps.wav\n",
      "743 /bitstream/1807/24491/143/OAF_hate_ps.wav\n",
      "744 /bitstream/1807/24491/144/OAF_hash_ps.wav\n",
      "745 /bitstream/1807/24491/145/OAF_hall_ps.wav\n",
      "746 /bitstream/1807/24491/146/OAF_half_ps.wav\n",
      "747 /bitstream/1807/24491/147/OAF_gun_ps.wav\n",
      "748 /bitstream/1807/24491/148/OAF_goose_ps.wav\n",
      "749 /bitstream/1807/24491/149/OAF_good_ps.wav\n",
      "750 /bitstream/1807/24491/150/OAF_goal_ps.wav\n",
      "751 /bitstream/1807/24491/151/OAF_gin_ps.wav\n",
      "752 /bitstream/1807/24491/152/OAF_get_ps.wav\n",
      "753 /bitstream/1807/24491/153/OAF_germ_ps.wav\n",
      "754 /bitstream/1807/24491/154/OAF_gaze_ps.wav\n",
      "755 /bitstream/1807/24491/155/OAF_gas_ps.wav\n",
      "756 /bitstream/1807/24491/156/OAF_gap_ps.wav\n",
      "757 /bitstream/1807/24491/157/OAF_food_ps.wav\n",
      "758 /bitstream/1807/24491/158/OAF_five_ps.wav\n",
      "759 /bitstream/1807/24491/159/OAF_fit_ps.wav\n",
      "760 /bitstream/1807/24491/160/OAF_fat_ps.wav\n",
      "761 /bitstream/1807/24491/161/OAF_far_ps.wav\n",
      "762 /bitstream/1807/24491/162/OAF_fall_ps.wav\n",
      "763 /bitstream/1807/24491/163/OAF_fail_ps.wav\n",
      "764 /bitstream/1807/24491/164/OAF_door_ps.wav\n",
      "765 /bitstream/1807/24491/165/OAF_doll_ps.wav\n",
      "766 /bitstream/1807/24491/166/OAF_dog_ps.wav\n",
      "767 /bitstream/1807/24491/167/OAF_dodge_ps.wav\n",
      "768 /bitstream/1807/24491/168/OAF_ditch_ps.wav\n",
      "769 /bitstream/1807/24491/169/OAF_dip_ps.wav\n",
      "770 /bitstream/1807/24491/170/OAF_dime_ps.wav\n",
      "771 /bitstream/1807/24491/171/OAF_deep_ps.wav\n",
      "772 /bitstream/1807/24491/172/OAF_death_ps.wav\n",
      "773 /bitstream/1807/24491/173/OAF_dead_ps.wav\n",
      "774 /bitstream/1807/24491/174/OAF_date_ps.wav\n",
      "775 /bitstream/1807/24491/175/OAF_dab_ps.wav\n",
      "776 /bitstream/1807/24491/176/OAF_cool_ps.wav\n",
      "777 /bitstream/1807/24491/177/OAF_choice_ps.wav\n",
      "778 /bitstream/1807/24491/178/OAF_chief_ps.wav\n",
      "779 /bitstream/1807/24491/179/OAF_cheek_ps.wav\n",
      "780 /bitstream/1807/24491/180/OAF_check_ps.wav\n",
      "781 /bitstream/1807/24491/181/OAF_chat_ps.wav\n",
      "782 /bitstream/1807/24491/182/OAF_chalk_ps.wav\n",
      "783 /bitstream/1807/24491/183/OAF_chair_ps.wav\n",
      "784 /bitstream/1807/24491/184/OAF_chain_ps.wav\n",
      "785 /bitstream/1807/24491/185/OAF_cause_ps.wav\n",
      "786 /bitstream/1807/24491/186/OAF_came_ps.wav\n",
      "787 /bitstream/1807/24491/187/OAF_calm_ps.wav\n",
      "788 /bitstream/1807/24491/188/OAF_cab_ps.wav\n",
      "789 /bitstream/1807/24491/189/OAF_burn_ps.wav\n",
      "790 /bitstream/1807/24491/190/OAF_bought_ps.wav\n",
      "791 /bitstream/1807/24491/191/OAF_book_ps.wav\n",
      "792 /bitstream/1807/24491/192/OAF_bone_ps.wav\n",
      "793 /bitstream/1807/24491/193/OAF_boat_ps.wav\n",
      "794 /bitstream/1807/24491/194/OAF_bite_ps.wav\n",
      "795 /bitstream/1807/24491/195/OAF_beg_ps.wav\n",
      "796 /bitstream/1807/24491/196/OAF_bean_ps.wav\n",
      "797 /bitstream/1807/24491/197/OAF_bath_ps.wav\n",
      "798 /bitstream/1807/24491/198/OAF_base_ps.wav\n",
      "799 /bitstream/1807/24491/199/OAF_bar_ps.wav\n",
      "800 /bitstream/1807/24491/200/OAF_back_ps.wav\n",
      "801 /bitstream/1807/24492/1/OAF_youth_fear.wav\n",
      "802 /bitstream/1807/24492/2/OAF_young_fear.wav\n",
      "803 /bitstream/1807/24492/3/OAF_yes_fear.wav\n",
      "804 /bitstream/1807/24492/4/OAF_yearn_fear.wav\n",
      "805 /bitstream/1807/24492/5/OAF_witch_fear.wav\n",
      "806 /bitstream/1807/24492/6/OAF_wire_fear.wav\n",
      "807 /bitstream/1807/24492/7/OAF_wife_fear.wav\n",
      "808 /bitstream/1807/24492/8/OAF_white_fear.wav\n",
      "809 /bitstream/1807/24492/9/OAF_whip_fear.wav\n",
      "810 /bitstream/1807/24492/10/OAF_which_fear.wav\n",
      "811 /bitstream/1807/24492/11/OAF_when_fear.wav\n",
      "812 /bitstream/1807/24492/12/OAF_wheat_fear.wav\n",
      "813 /bitstream/1807/24492/13/OAF_week_fear.wav\n",
      "814 /bitstream/1807/24492/14/OAF_wash_fear.wav\n",
      "815 /bitstream/1807/24492/15/OAF_walk_fear.wav\n",
      "816 /bitstream/1807/24492/16/OAF_wag_fear.wav\n",
      "817 /bitstream/1807/24492/17/OAF_vote_fear.wav\n",
      "818 /bitstream/1807/24492/18/OAF_void_fear.wav\n",
      "819 /bitstream/1807/24492/19/OAF_voice_fear.wav\n",
      "820 /bitstream/1807/24492/20/OAF_vine_fear.wav\n",
      "821 /bitstream/1807/24492/21/OAF_turn_fear.wav\n",
      "822 /bitstream/1807/24492/22/OAF_tough_fear.wav\n",
      "823 /bitstream/1807/24492/23/OAF_tool_fear.wav\n",
      "824 /bitstream/1807/24492/24/OAF_ton_fear.wav\n",
      "825 /bitstream/1807/24492/25/OAF_tire_fear.wav\n",
      "826 /bitstream/1807/24492/26/OAF_tip_fear.wav\n",
      "827 /bitstream/1807/24492/27/OAF_time_fear.wav\n",
      "828 /bitstream/1807/24492/28/OAF_thumb_fear.wav\n",
      "829 /bitstream/1807/24492/29/OAF_thought_fear.wav\n",
      "830 /bitstream/1807/24492/30/OAF_third_fear.wav\n",
      "831 /bitstream/1807/24492/31/OAF_thin_fear.wav\n",
      "832 /bitstream/1807/24492/32/OAF_tell_fear.wav\n",
      "833 /bitstream/1807/24492/33/OAF_team_fear.wav\n",
      "834 /bitstream/1807/24492/34/OAF_tape_fear.wav\n",
      "835 /bitstream/1807/24492/35/OAF_talk_fear.wav\n",
      "836 /bitstream/1807/24492/36/OAF_take_fear.wav\n",
      "837 /bitstream/1807/24492/37/OAF_sure_fear.wav\n",
      "838 /bitstream/1807/24492/38/OAF_such_fear.wav\n",
      "839 /bitstream/1807/24492/39/OAF_sub_fear.wav\n",
      "840 /bitstream/1807/24492/40/OAF_south_fear.wav\n",
      "841 /bitstream/1807/24492/41/OAF_sour_fear.wav\n",
      "842 /bitstream/1807/24492/42/OAF_soup_fear.wav\n",
      "843 /bitstream/1807/24492/43/OAF_soap_fear.wav\n",
      "844 /bitstream/1807/24492/44/OAF_size_fear.wav\n",
      "845 /bitstream/1807/24492/45/OAF_shout_fear.wav\n",
      "846 /bitstream/1807/24492/46/OAF_should_fear.wav\n",
      "847 /bitstream/1807/24492/47/OAF_shirt_fear.wav\n",
      "848 /bitstream/1807/24492/48/OAF_sheep_fear.wav\n",
      "849 /bitstream/1807/24492/49/OAF_shawl_fear.wav\n",
      "850 /bitstream/1807/24492/50/OAF_shall_fear.wav\n",
      "851 /bitstream/1807/24492/51/OAF_shack_fear.wav\n",
      "852 /bitstream/1807/24492/52/OAF_sell_fear.wav\n",
      "853 /bitstream/1807/24492/53/OAF_seize_fear.wav\n",
      "854 /bitstream/1807/24492/54/OAF_search_fear.wav\n",
      "855 /bitstream/1807/24492/55/OAF_sail_fear.wav\n",
      "856 /bitstream/1807/24492/56/OAF_said_fear.wav\n",
      "857 /bitstream/1807/24492/57/OAF_rush_fear.wav\n",
      "858 /bitstream/1807/24492/58/OAF_rough_fear.wav\n"
     ]
    },
    {
     "name": "stdout",
     "output_type": "stream",
     "text": [
      "859 /bitstream/1807/24492/59/OAF_rot_fear.wav\n",
      "860 /bitstream/1807/24492/60/OAF_rose_fear.wav\n",
      "861 /bitstream/1807/24492/61/OAF_room_fear.wav\n",
      "862 /bitstream/1807/24492/62/OAF_road_fear.wav\n",
      "863 /bitstream/1807/24492/63/OAF_ripe_fear.wav\n",
      "864 /bitstream/1807/24492/64/OAF_ring_fear.wav\n",
      "865 /bitstream/1807/24492/65/OAF_red_fear.wav\n",
      "866 /bitstream/1807/24492/66/OAF_read_fear.wav\n",
      "867 /bitstream/1807/24492/67/OAF_reach_fear.wav\n",
      "868 /bitstream/1807/24492/68/OAF_rat_fear.wav\n",
      "869 /bitstream/1807/24492/69/OAF_raise_fear.wav\n",
      "870 /bitstream/1807/24492/70/OAF_rain_fear.wav\n",
      "871 /bitstream/1807/24492/71/OAF_raid_fear.wav\n",
      "872 /bitstream/1807/24492/72/OAF_rag_fear.wav\n",
      "873 /bitstream/1807/24492/73/OAF_puff_fear.wav\n",
      "874 /bitstream/1807/24492/74/OAF_pool_fear.wav\n",
      "875 /bitstream/1807/24492/75/OAF_pole_fear.wav\n",
      "876 /bitstream/1807/24492/76/OAF_pike_fear.wav\n",
      "877 /bitstream/1807/24492/77/OAF_pick_fear.wav\n",
      "878 /bitstream/1807/24492/78/OAF_phone_fear.wav\n",
      "879 /bitstream/1807/24492/79/OAF_perch_fear.wav\n",
      "880 /bitstream/1807/24492/80/OAF_peg_fear.wav\n",
      "881 /bitstream/1807/24492/81/OAF_pearl_fear.wav\n",
      "882 /bitstream/1807/24492/82/OAF_pass_fear.wav\n",
      "883 /bitstream/1807/24492/83/OAF_pain_fear.wav\n",
      "884 /bitstream/1807/24492/84/OAF_page_fear.wav\n",
      "885 /bitstream/1807/24492/85/OAF_pad_fear.wav\n",
      "886 /bitstream/1807/24492/86/OAF_numb_fear.wav\n",
      "887 /bitstream/1807/24492/87/OAF_note_fear.wav\n",
      "888 /bitstream/1807/24492/88/OAF_nice_fear.wav\n",
      "889 /bitstream/1807/24492/89/OAF_neat_fear.wav\n",
      "890 /bitstream/1807/24492/90/OAF_near_fear.wav\n",
      "891 /bitstream/1807/24492/91/OAF_name_fear.wav\n",
      "892 /bitstream/1807/24492/92/OAF_nag_fear.wav\n",
      "893 /bitstream/1807/24492/93/OAF_mouse_fear.wav\n",
      "894 /bitstream/1807/24492/94/OAF_mop_fear.wav\n",
      "895 /bitstream/1807/24492/95/OAF_moon_fear.wav\n",
      "896 /bitstream/1807/24492/96/OAF_mood_fear.wav\n",
      "897 /bitstream/1807/24492/97/OAF_mode_fear.wav\n",
      "898 /bitstream/1807/24492/98/OAF_mob_fear.wav\n",
      "899 /bitstream/1807/24492/99/OAF_mill_fear.wav\n",
      "900 /bitstream/1807/24492/100/OAF_met_fear.wav\n",
      "901 /bitstream/1807/24492/101/OAF_mess_fear.wav\n",
      "902 /bitstream/1807/24492/102/OAF_merge_fear.wav\n",
      "903 /bitstream/1807/24492/103/OAF_match_fear.wav\n",
      "904 /bitstream/1807/24492/104/OAF_make_fear.wav\n",
      "905 /bitstream/1807/24492/105/OAF_luck_fear.wav\n",
      "906 /bitstream/1807/24492/106/OAF_love_fear.wav\n",
      "907 /bitstream/1807/24492/107/OAF_lot_fear.wav\n",
      "908 /bitstream/1807/24492/108/OAF_lose_fear.wav\n",
      "909 /bitstream/1807/24492/109/OAF_lore_fear.wav\n",
      "910 /bitstream/1807/24492/110/OAF_long_fear.wav\n",
      "911 /bitstream/1807/24492/111/OAF_loaf_fear.wav\n",
      "912 /bitstream/1807/24492/112/OAF_live_fear.wav\n",
      "913 /bitstream/1807/24492/113/OAF_limb_fear.wav\n",
      "914 /bitstream/1807/24492/114/OAF_life_fear.wav\n",
      "915 /bitstream/1807/24492/115/OAF_lid_fear.wav\n",
      "916 /bitstream/1807/24492/116/OAF_lease_fear.wav\n",
      "917 /bitstream/1807/24492/117/OAF_learn_fear.wav\n",
      "918 /bitstream/1807/24492/118/OAF_lean_fear.wav\n",
      "919 /bitstream/1807/24492/119/OAF_laud_fear.wav\n",
      "920 /bitstream/1807/24492/120/OAF_late_fear.wav\n",
      "921 /bitstream/1807/24492/121/OAF_knock_fear.wav\n",
      "922 /bitstream/1807/24492/122/OAF_kite_fear.wav\n",
      "923 /bitstream/1807/24492/123/OAF_king_fear.wav\n",
      "924 /bitstream/1807/24492/124/OAF_kill_fear.wav\n",
      "925 /bitstream/1807/24492/125/OAF_kick_fear.wav\n",
      "926 /bitstream/1807/24492/126/OAF_keg_fear.wav\n",
      "927 /bitstream/1807/24492/127/OAF_keep_fear.wav\n",
      "928 /bitstream/1807/24492/128/OAF_keen_fear.wav\n",
      "929 /bitstream/1807/24492/129/OAF_juice_fear.wav\n",
      "930 /bitstream/1807/24492/130/OAF_jug_fear.wav\n",
      "931 /bitstream/1807/24492/131/OAF_judge_fear.wav\n",
      "932 /bitstream/1807/24492/132/OAF_join_fear.wav\n",
      "933 /bitstream/1807/24492/133/OAF_jar_fear.wav\n",
      "934 /bitstream/1807/24492/134/OAF_jail_fear.wav\n",
      "935 /bitstream/1807/24492/135/OAF_hush_fear.wav\n",
      "936 /bitstream/1807/24492/136/OAF_hurl_fear.wav\n",
      "937 /bitstream/1807/24492/137/OAF_home_fear.wav\n",
      "938 /bitstream/1807/24492/138/OAF_hole_fear.wav\n",
      "939 /bitstream/1807/24492/139/OAF_hit_fear.wav\n",
      "940 /bitstream/1807/24492/140/OAF_hire_fear.wav\n",
      "941 /bitstream/1807/24492/141/OAF_haze_fear.wav\n",
      "942 /bitstream/1807/24492/142/OAF_have_fear.wav\n",
      "943 /bitstream/1807/24492/143/OAF_hate_fear.wav\n",
      "944 /bitstream/1807/24492/144/OAF_hash_fear.wav\n",
      "945 /bitstream/1807/24492/145/OAF_hall_fear.wav\n",
      "946 /bitstream/1807/24492/146/OAF_half_fear.wav\n",
      "947 /bitstream/1807/24492/147/OAF_gun_fear.wav\n",
      "948 /bitstream/1807/24492/148/OAF_goose_fear.wav\n",
      "949 /bitstream/1807/24492/149/OAF_good_fear.wav\n",
      "950 /bitstream/1807/24492/150/OAF_goal_fear.wav\n",
      "951 /bitstream/1807/24492/151/OAF_gin_fear.wav\n",
      "952 /bitstream/1807/24492/152/OAF_get_fear.wav\n",
      "953 /bitstream/1807/24492/153/OAF_germ_fear.wav\n",
      "954 /bitstream/1807/24492/154/OAF_gaze_fear.wav\n",
      "955 /bitstream/1807/24492/155/OAF_gas_fear.wav\n",
      "956 /bitstream/1807/24492/156/OAF_gap_fear.wav\n",
      "957 /bitstream/1807/24492/157/OAF_food_fear.wav\n",
      "958 /bitstream/1807/24492/158/OAF_five_fear.wav\n",
      "959 /bitstream/1807/24492/159/OAF_fit_fear.wav\n",
      "960 /bitstream/1807/24492/160/OAF_fat_fear.wav\n",
      "961 /bitstream/1807/24492/161/OAF_far_fear.wav\n",
      "962 /bitstream/1807/24492/162/OAF_fall_fear.wav\n",
      "963 /bitstream/1807/24492/163/OAF_fail_fear.wav\n",
      "964 /bitstream/1807/24492/164/OAF_door_fear.wav\n",
      "965 /bitstream/1807/24492/165/OAF_doll_fear.wav\n",
      "966 /bitstream/1807/24492/166/OAF_dog_fear.wav\n",
      "967 /bitstream/1807/24492/167/OAF_dodge_fear.wav\n",
      "968 /bitstream/1807/24492/168/OAF_ditch_fear.wav\n",
      "969 /bitstream/1807/24492/169/OAF_dip_fear.wav\n",
      "970 /bitstream/1807/24492/170/OAF_dime_fear.wav\n",
      "971 /bitstream/1807/24492/171/OAF_deep_fear.wav\n",
      "972 /bitstream/1807/24492/172/OAF_death_fear.wav\n",
      "973 /bitstream/1807/24492/173/OAF_dead_fear.wav\n",
      "974 /bitstream/1807/24492/174/OAF_date_fear.wav\n",
      "975 /bitstream/1807/24492/175/OAF_dab_fear.wav\n",
      "976 /bitstream/1807/24492/176/OAF_cool_fear.wav\n",
      "977 /bitstream/1807/24492/177/OAF_choice_fear.wav\n",
      "978 /bitstream/1807/24492/178/OAF_chief_fear.wav\n",
      "979 /bitstream/1807/24492/179/OAF_cheek_fear.wav\n",
      "980 /bitstream/1807/24492/180/OAF_check_fear.wav\n",
      "981 /bitstream/1807/24492/181/OAF_chat_fear.wav\n",
      "982 /bitstream/1807/24492/182/OAF_chalk_fear.wav\n",
      "983 /bitstream/1807/24492/183/OAF_chair_fear.wav\n",
      "984 /bitstream/1807/24492/184/OAF_chain_fear.wav\n",
      "985 /bitstream/1807/24492/185/OAF_cause_fear.wav\n",
      "986 /bitstream/1807/24492/186/OAF_came_fear.wav\n",
      "987 /bitstream/1807/24492/187/OAF_calm_fear.wav\n",
      "988 /bitstream/1807/24492/188/OAF_cab_fear.wav\n",
      "989 /bitstream/1807/24492/189/OAF_burn_fear.wav\n",
      "990 /bitstream/1807/24492/190/OAF_bought_fear.wav\n",
      "991 /bitstream/1807/24492/191/OAF_book_fear.wav\n",
      "992 /bitstream/1807/24492/192/OAF_bone_fear.wav\n",
      "993 /bitstream/1807/24492/193/OAF_boat_fear.wav\n",
      "994 /bitstream/1807/24492/194/OAF_bite_fear.wav\n",
      "995 /bitstream/1807/24492/195/OAF_beg_fear.wav\n",
      "996 /bitstream/1807/24492/196/OAF_bean_fear.wav\n",
      "997 /bitstream/1807/24492/197/OAF_bath_fear.wav\n",
      "998 /bitstream/1807/24492/198/OAF_base_fear.wav\n",
      "999 /bitstream/1807/24492/199/OAF_bar_fear.wav\n",
      "1000 /bitstream/1807/24492/200/OAF_back_fear.wav\n",
      "1001 /bitstream/1807/24493/1/YAF_youth_happy.wav\n",
      "1002 /bitstream/1807/24493/2/YAF_young_happy.wav\n",
      "1003 /bitstream/1807/24493/3/YAF_yes_happy.wav\n",
      "1004 /bitstream/1807/24493/4/YAF_yearn_happy.wav\n",
      "1005 /bitstream/1807/24493/5/YAF_witch_happy.wav\n",
      "1006 /bitstream/1807/24493/6/YAF_wire_happy.wav\n",
      "1007 /bitstream/1807/24493/7/YAF_wife_happy.wav\n",
      "1008 /bitstream/1807/24493/8/YAF_white_happy.wav\n",
      "1009 /bitstream/1807/24493/9/YAF_whip_happy.wav\n",
      "1010 /bitstream/1807/24493/10/YAF_which_happy.wav\n",
      "1011 /bitstream/1807/24493/11/YAF_when_happy.wav\n",
      "1012 /bitstream/1807/24493/12/YAF_wheat_happy.wav\n",
      "1013 /bitstream/1807/24493/13/YAF_week_happy.wav\n",
      "1014 /bitstream/1807/24493/14/YAF_wash_happy.wav\n",
      "1015 /bitstream/1807/24493/15/YAF_walk_happy.wav\n",
      "1016 /bitstream/1807/24493/16/YAF_wag_happy.wav\n",
      "1017 /bitstream/1807/24493/17/YAF_vote_happy.wav\n",
      "1018 /bitstream/1807/24493/18/YAF_void_happy.wav\n",
      "1019 /bitstream/1807/24493/19/YAF_voice_happy.wav\n",
      "1020 /bitstream/1807/24493/20/YAF_vine_happy.wav\n",
      "1021 /bitstream/1807/24493/21/YAF_turn_happy.wav\n",
      "1022 /bitstream/1807/24493/22/YAF_tough_happy.wav\n",
      "1023 /bitstream/1807/24493/23/YAF_tool_happy.wav\n",
      "1024 /bitstream/1807/24493/24/YAF_ton_happy.wav\n",
      "1025 /bitstream/1807/24493/25/YAF_tire_happy.wav\n",
      "1026 /bitstream/1807/24493/26/YAF_tip_happy.wav\n",
      "1027 /bitstream/1807/24493/27/YAF_time_happy.wav\n",
      "1028 /bitstream/1807/24493/28/YAF_thumb_happy.wav\n",
      "1029 /bitstream/1807/24493/29/YAF_thought_happy.wav\n"
     ]
    },
    {
     "name": "stdout",
     "output_type": "stream",
     "text": [
      "1030 /bitstream/1807/24493/30/YAF_third_happy.wav\n",
      "1031 /bitstream/1807/24493/31/YAF_thin_happy.wav\n",
      "1032 /bitstream/1807/24493/32/YAF_tell_happy.wav\n",
      "1033 /bitstream/1807/24493/33/YAF_team_happy.wav\n",
      "1034 /bitstream/1807/24493/34/YAF_tape_happy.wav\n",
      "1035 /bitstream/1807/24493/35/YAF_talk_happy.wav\n",
      "1036 /bitstream/1807/24493/36/YAF_take_happy.wav\n",
      "1037 /bitstream/1807/24493/37/YAF_sure_happy.wav\n",
      "1038 /bitstream/1807/24493/38/YAF_such_happy.wav\n",
      "1039 /bitstream/1807/24493/39/YAF_sub_happy.wav\n",
      "1040 /bitstream/1807/24493/40/YAF_south_happy.wav\n",
      "1041 /bitstream/1807/24493/41/YAF_sour_happy.wav\n",
      "1042 /bitstream/1807/24493/42/YAF_soup_happy.wav\n",
      "1043 /bitstream/1807/24493/43/YAF_soap_happy.wav\n",
      "1044 /bitstream/1807/24493/44/YAF_size_happy.wav\n",
      "1045 /bitstream/1807/24493/45/YAF_shout_happy.wav\n",
      "1046 /bitstream/1807/24493/46/YAF_should_happy.wav\n",
      "1047 /bitstream/1807/24493/47/YAF_shirt_happy.wav\n",
      "1048 /bitstream/1807/24493/48/YAF_sheep_happy.wav\n",
      "1049 /bitstream/1807/24493/49/YAF_shawl_happy.wav\n",
      "1050 /bitstream/1807/24493/50/YAF_shall_happy.wav\n",
      "1051 /bitstream/1807/24493/51/YAF_shack_happy.wav\n",
      "1052 /bitstream/1807/24493/52/YAF_sell_happy.wav\n",
      "1053 /bitstream/1807/24493/53/YAF_seize_happy.wav\n",
      "1054 /bitstream/1807/24493/54/YAF_search_happy.wav\n",
      "1055 /bitstream/1807/24493/55/YAF_sail_happy.wav\n",
      "1056 /bitstream/1807/24493/56/YAF_said_happy.wav\n",
      "1057 /bitstream/1807/24493/57/YAF_rush_happy.wav\n",
      "1058 /bitstream/1807/24493/58/YAF_rough_happy.wav\n",
      "1059 /bitstream/1807/24493/59/YAF_rot_happy.wav\n",
      "1060 /bitstream/1807/24493/60/YAF_rose_happy.wav\n",
      "1061 /bitstream/1807/24493/61/YAF_room_happy.wav\n",
      "1062 /bitstream/1807/24493/62/YAF_road_happy.wav\n",
      "1063 /bitstream/1807/24493/63/YAF_ripe_happy.wav\n",
      "1064 /bitstream/1807/24493/64/YAF_ring_happy.wav\n",
      "1065 /bitstream/1807/24493/65/YAF_red_happy.wav\n",
      "1066 /bitstream/1807/24493/66/YAF_read_happy.wav\n",
      "1067 /bitstream/1807/24493/67/YAF_reach_happy.wav\n",
      "1068 /bitstream/1807/24493/68/YAF_rat_happy.wav\n",
      "1069 /bitstream/1807/24493/69/YAF_raise_happy.wav\n",
      "1070 /bitstream/1807/24493/70/YAF_rain_happy.wav\n",
      "1071 /bitstream/1807/24493/71/YAF_raid_happy.wav\n",
      "1072 /bitstream/1807/24493/72/YAF_rag_happy.wav\n",
      "1073 /bitstream/1807/24493/73/YAF_puff_happy.wav\n",
      "1074 /bitstream/1807/24493/74/YAF_pool_happy.wav\n",
      "1075 /bitstream/1807/24493/75/YAF_pole_happy.wav\n",
      "1076 /bitstream/1807/24493/76/YAF_pike_happy.wav\n",
      "1077 /bitstream/1807/24493/77/YAF_pick_happy.wav\n",
      "1078 /bitstream/1807/24493/78/YAF_phone_happy.wav\n",
      "1079 /bitstream/1807/24493/79/YAF_perch_happy.wav\n",
      "1080 /bitstream/1807/24493/80/YAF_peg_happy.wav\n",
      "1081 /bitstream/1807/24493/81/YAF_pearl_happy.wav\n",
      "1082 /bitstream/1807/24493/82/YAF_pass_happy.wav\n",
      "1083 /bitstream/1807/24493/83/YAF_pain_happy.wav\n",
      "1084 /bitstream/1807/24493/84/YAF_page_happy.wav\n",
      "1085 /bitstream/1807/24493/85/YAF_pad_happy.wav\n",
      "1086 /bitstream/1807/24493/86/YAF_numb_happy.wav\n",
      "1087 /bitstream/1807/24493/87/YAF_note_happy.wav\n",
      "1088 /bitstream/1807/24493/88/YAF_nice_happy.wav\n",
      "1089 /bitstream/1807/24493/89/YAF_neat_happy.wav\n",
      "1090 /bitstream/1807/24493/90/YAF_near_happy.wav\n",
      "1091 /bitstream/1807/24493/91/YAF_name_happy.wav\n",
      "1092 /bitstream/1807/24493/92/YAF_nag_happy.wav\n",
      "1093 /bitstream/1807/24493/93/YAF_mouse_happy.wav\n",
      "1094 /bitstream/1807/24493/94/YAF_mop_happy.wav\n",
      "1095 /bitstream/1807/24493/95/YAF_moon_happy.wav\n",
      "1096 /bitstream/1807/24493/96/YAF_mood_happy.wav\n",
      "1097 /bitstream/1807/24493/97/YAF_mode_happy.wav\n",
      "1098 /bitstream/1807/24493/98/YAF_mob_happy.wav\n",
      "1099 /bitstream/1807/24493/99/YAF_mill_happy.wav\n",
      "1100 /bitstream/1807/24493/100/YAF_met_happy.wav\n",
      "1101 /bitstream/1807/24493/101/YAF_mess_happy.wav\n",
      "1102 /bitstream/1807/24493/102/YAF_merge_happy.wav\n",
      "1103 /bitstream/1807/24493/103/YAF_match_happy.wav\n",
      "1104 /bitstream/1807/24493/104/YAF_make_happy.wav\n",
      "1105 /bitstream/1807/24493/105/YAF_luck_happy.wav\n",
      "1106 /bitstream/1807/24493/106/YAF_love_happy.wav\n",
      "1107 /bitstream/1807/24493/107/YAF_lot_happy.wav\n",
      "1108 /bitstream/1807/24493/108/YAF_lose_happy.wav\n",
      "1109 /bitstream/1807/24493/109/YAF_lore_happy.wav\n",
      "1110 /bitstream/1807/24493/110/YAF_long_happy.wav\n",
      "1111 /bitstream/1807/24493/111/YAF_loaf_happy.wav\n",
      "1112 /bitstream/1807/24493/112/YAF_live_happy.wav\n",
      "1113 /bitstream/1807/24493/113/YAF_limb_happy.wav\n",
      "1114 /bitstream/1807/24493/114/YAF_life_happy.wav\n",
      "1115 /bitstream/1807/24493/115/YAF_lid_happy.wav\n",
      "1116 /bitstream/1807/24493/116/YAF_lease_happy.wav\n",
      "1117 /bitstream/1807/24493/117/YAF_learn_happy.wav\n",
      "1118 /bitstream/1807/24493/118/YAF_lean_happy.wav\n",
      "1119 /bitstream/1807/24493/119/YAF_laud_happy.wav\n",
      "1120 /bitstream/1807/24493/120/YAF_late_happy.wav\n",
      "1121 /bitstream/1807/24493/121/YAF_knock_happy.wav\n",
      "1122 /bitstream/1807/24493/122/YAF_kite_happy.wav\n",
      "1123 /bitstream/1807/24493/123/YAF_king_happy.wav\n",
      "1124 /bitstream/1807/24493/124/YAF_kill_happy.wav\n",
      "1125 /bitstream/1807/24493/125/YAF_kick_happy.wav\n",
      "1126 /bitstream/1807/24493/126/YAF_keg_happy.wav\n",
      "1127 /bitstream/1807/24493/127/YAF_keep_happy.wav\n",
      "1128 /bitstream/1807/24493/128/YAF_keen_happy.wav\n",
      "1129 /bitstream/1807/24493/129/YAF_juice_happy.wav\n",
      "1130 /bitstream/1807/24493/130/YAF_jug_happy.wav\n",
      "1131 /bitstream/1807/24493/131/YAF_judge_happy.wav\n",
      "1132 /bitstream/1807/24493/132/YAF_join_happy.wav\n",
      "1133 /bitstream/1807/24493/133/YAF_jar_happy.wav\n",
      "1134 /bitstream/1807/24493/134/YAF_jail_happy.wav\n",
      "1135 /bitstream/1807/24493/135/YAF_hush_happy.wav\n",
      "1136 /bitstream/1807/24493/136/YAF_hurl_happy.wav\n",
      "1137 /bitstream/1807/24493/137/YAF_home_happy.wav\n",
      "1138 /bitstream/1807/24493/138/YAF_hole_happy.wav\n",
      "1139 /bitstream/1807/24493/139/YAF_hit_happy.wav\n",
      "1140 /bitstream/1807/24493/140/YAF_hire_happy.wav\n",
      "1141 /bitstream/1807/24493/141/YAF_haze_happy.wav\n",
      "1142 /bitstream/1807/24493/142/YAF_have_happy.wav\n",
      "1143 /bitstream/1807/24493/143/YAF_hate_happy.wav\n",
      "1144 /bitstream/1807/24493/144/YAF_hash_happy.wav\n",
      "1145 /bitstream/1807/24493/145/YAF_hall_happy.wav\n",
      "1146 /bitstream/1807/24493/146/YAF_half_happy.wav\n",
      "1147 /bitstream/1807/24493/147/YAF_gun_happy.wav\n",
      "1148 /bitstream/1807/24493/148/YAF_goose_happy.wav\n",
      "1149 /bitstream/1807/24493/149/YAF_good_happy.wav\n",
      "1150 /bitstream/1807/24493/150/YAF_goal_happy.wav\n",
      "1151 /bitstream/1807/24493/151/YAF_gin_happy.wav\n",
      "1152 /bitstream/1807/24493/152/YAF_get_happy.wav\n",
      "1153 /bitstream/1807/24493/153/YAF_germ_happy.wav\n",
      "1154 /bitstream/1807/24493/154/YAF_gaze_happy.wav\n",
      "1155 /bitstream/1807/24493/155/YAF_gas_happy.wav\n",
      "1156 /bitstream/1807/24493/156/YAF_gap_happy.wav\n",
      "1157 /bitstream/1807/24493/157/YAF_food_happy.wav\n",
      "1158 /bitstream/1807/24493/158/YAF_five_happy.wav\n",
      "1159 /bitstream/1807/24493/159/YAF_fit_happy.wav\n",
      "1160 /bitstream/1807/24493/160/YAF_fat_happy.wav\n",
      "1161 /bitstream/1807/24493/161/YAF_far_happy.wav\n",
      "1162 /bitstream/1807/24493/162/YAF_fall_happy.wav\n",
      "1163 /bitstream/1807/24493/163/YAF_fail_happy.wav\n",
      "1164 /bitstream/1807/24493/164/YAF_door_happy.wav\n",
      "1165 /bitstream/1807/24493/165/YAF_doll_happy.wav\n",
      "1166 /bitstream/1807/24493/166/YAF_dog_happy.wav\n",
      "1167 /bitstream/1807/24493/167/YAF_dodge_happy.wav\n",
      "1168 /bitstream/1807/24493/168/YAF_ditch_happy.wav\n",
      "1169 /bitstream/1807/24493/169/YAF_dip_happy.wav\n",
      "1170 /bitstream/1807/24493/170/YAF_dime_happy.wav\n",
      "1171 /bitstream/1807/24493/171/YAF_deep_happy.wav\n",
      "1172 /bitstream/1807/24493/172/YAF_death_happy.wav\n",
      "1173 /bitstream/1807/24493/173/YAF_dead_happy.wav\n",
      "1174 /bitstream/1807/24493/174/YAF_date_happy.wav\n",
      "1175 /bitstream/1807/24493/175/YAF_dab_happy.wav\n",
      "1176 /bitstream/1807/24493/176/YAF_cool_happy.wav\n",
      "1177 /bitstream/1807/24493/177/YAF_choice_happy.wav\n",
      "1178 /bitstream/1807/24493/178/YAF_chief_happy.wav\n",
      "1179 /bitstream/1807/24493/179/YAF_cheek_happy.wav\n",
      "1180 /bitstream/1807/24493/180/YAF_check_happy.wav\n",
      "1181 /bitstream/1807/24493/181/YAF_chat_happy.wav\n",
      "1182 /bitstream/1807/24493/182/YAF_chalk_happy.wav\n",
      "1183 /bitstream/1807/24493/183/YAF_chair_happy.wav\n",
      "1184 /bitstream/1807/24493/184/YAF_chain_happy.wav\n",
      "1185 /bitstream/1807/24493/185/YAF_cause_happy.wav\n",
      "1186 /bitstream/1807/24493/186/YAF_came_happy.wav\n",
      "1187 /bitstream/1807/24493/187/YAF_calm_happy.wav\n",
      "1188 /bitstream/1807/24493/188/YAF_cab_happy.wav\n",
      "1189 /bitstream/1807/24493/189/YAF_burn_happy.wav\n",
      "1190 /bitstream/1807/24493/190/YAF_bought_happy.wav\n",
      "1191 /bitstream/1807/24493/191/YAF_book_happy.wav\n",
      "1192 /bitstream/1807/24493/192/YAF_bone_happy.wav\n",
      "1193 /bitstream/1807/24493/193/YAF_boat_happy.wav\n",
      "1194 /bitstream/1807/24493/194/YAF_bite_happy.wav\n"
     ]
    },
    {
     "name": "stdout",
     "output_type": "stream",
     "text": [
      "1195 /bitstream/1807/24493/195/YAF_beg_happy.wav\n",
      "1196 /bitstream/1807/24493/196/YAF_bean_happy.wav\n",
      "1197 /bitstream/1807/24493/197/YAF_bath_happy.wav\n",
      "1198 /bitstream/1807/24493/198/YAF_base_happy.wav\n",
      "1199 /bitstream/1807/24493/199/YAF_bar_happy.wav\n",
      "1200 /bitstream/1807/24493/200/YAF_back_happy.wav\n",
      "1201 /bitstream/1807/24494/1/OAF_youth_disgust.wav\n",
      "1202 /bitstream/1807/24494/2/OAF_young_disgust.wav\n",
      "1203 /bitstream/1807/24494/3/OAF_yes_disgust.wav\n",
      "1204 /bitstream/1807/24494/4/OAF_yearn_disgust.wav\n",
      "1205 /bitstream/1807/24494/5/OAF_witch_disgust.wav\n",
      "1206 /bitstream/1807/24494/6/OAF_wire_disgust.wav\n",
      "1207 /bitstream/1807/24494/7/OAF_wife_disgust.wav\n",
      "1208 /bitstream/1807/24494/8/OAF_white_disgust.wav\n",
      "1209 /bitstream/1807/24494/9/OAF_whip_disgust.wav\n",
      "1210 /bitstream/1807/24494/10/OAF_which_disgust.wav\n",
      "1211 /bitstream/1807/24494/11/OAF_when_disgust.wav\n",
      "1212 /bitstream/1807/24494/12/OAF_wheat_disgust.wav\n",
      "1213 /bitstream/1807/24494/13/OAF_week_disgust.wav\n",
      "1214 /bitstream/1807/24494/14/OAF_wash_disgust.wav\n",
      "1215 /bitstream/1807/24494/15/OAF_walk_disgust.wav\n",
      "1216 /bitstream/1807/24494/16/OAF_wag_disgust.wav\n",
      "1217 /bitstream/1807/24494/17/OAF_vote_disgust.wav\n",
      "1218 /bitstream/1807/24494/18/OAF_void_disgust.wav\n",
      "1219 /bitstream/1807/24494/19/OAF_voice_disgust.wav\n",
      "1220 /bitstream/1807/24494/20/OAF_vine_disgust.wav\n",
      "1221 /bitstream/1807/24494/21/OAF_turn_disgust.wav\n",
      "1222 /bitstream/1807/24494/22/OAF_tough_disgust.wav\n",
      "1223 /bitstream/1807/24494/23/OAF_tool_disgust.wav\n",
      "1224 /bitstream/1807/24494/24/OAF_ton_disgust.wav\n",
      "1225 /bitstream/1807/24494/25/OAF_tire_disgust.wav\n",
      "1226 /bitstream/1807/24494/26/OAF_tip_disgust.wav\n",
      "1227 /bitstream/1807/24494/27/OAF_time_disgust.wav\n",
      "1228 /bitstream/1807/24494/28/OAF_thumb_disgust.wav\n",
      "1229 /bitstream/1807/24494/29/OAF_thought_disgust.wav\n",
      "1230 /bitstream/1807/24494/30/OAF_third_disgust.wav\n",
      "1231 /bitstream/1807/24494/31/OAF_thin_disgust.wav\n",
      "1232 /bitstream/1807/24494/32/OAF_tell_disgust.wav\n",
      "1233 /bitstream/1807/24494/33/OAF_team_disgust.wav\n",
      "1234 /bitstream/1807/24494/34/OAF_tape_disgust.wav\n",
      "1235 /bitstream/1807/24494/35/OAF_talk_disgust.wav\n",
      "1236 /bitstream/1807/24494/36/OAF_take_disgust.wav\n",
      "1237 /bitstream/1807/24494/37/OAF_sure_disgust.wav\n",
      "1238 /bitstream/1807/24494/38/OAF_such_disgust.wav\n",
      "1239 /bitstream/1807/24494/39/OAF_sub_disgust.wav\n",
      "1240 /bitstream/1807/24494/40/OAF_south_disgust.wav\n",
      "1241 /bitstream/1807/24494/41/OAF_sour_disgust.wav\n",
      "1242 /bitstream/1807/24494/42/OAF_soup_disgust.wav\n",
      "1243 /bitstream/1807/24494/43/OAF_soap_disgust.wav\n",
      "1244 /bitstream/1807/24494/44/OAF_size_disgust.wav\n",
      "1245 /bitstream/1807/24494/45/OAF_shout_disgust.wav\n",
      "1246 /bitstream/1807/24494/46/OAF_should_disgust.wav\n",
      "1247 /bitstream/1807/24494/47/OAF_shirt_disgust.wav\n",
      "1248 /bitstream/1807/24494/48/OAF_sheep_disgust.wav\n",
      "1249 /bitstream/1807/24494/49/OAF_shawl_disgust.wav\n",
      "1250 /bitstream/1807/24494/50/OAF_shall_disgust.wav\n",
      "1251 /bitstream/1807/24494/51/OAF_shack_disgust.wav\n",
      "1252 /bitstream/1807/24494/52/OAF_sell_disgust.wav\n",
      "1253 /bitstream/1807/24494/53/OAF_seize_disgust.wav\n",
      "1254 /bitstream/1807/24494/54/OAF_search_disgust.wav\n",
      "1255 /bitstream/1807/24494/55/OAF_sail_disgust.wav\n",
      "1256 /bitstream/1807/24494/56/OAF_said_disgust.wav\n",
      "1257 /bitstream/1807/24494/57/OAF_rush_disgust.wav\n",
      "1258 /bitstream/1807/24494/58/OAF_rough_disgust.wav\n",
      "1259 /bitstream/1807/24494/59/OAF_rot_disgust.wav\n",
      "1260 /bitstream/1807/24494/60/OAF_rose_disgust.wav\n",
      "1261 /bitstream/1807/24494/61/OAF_room_disgust.wav\n",
      "1262 /bitstream/1807/24494/62/OAF_road_disgust.wav\n",
      "1263 /bitstream/1807/24494/63/OAF_ripe_disgust.wav\n",
      "1264 /bitstream/1807/24494/64/OAF_ring_disgust.wav\n",
      "1265 /bitstream/1807/24494/65/OAF_red_disgust.wav\n",
      "1266 /bitstream/1807/24494/66/OAF_read_disgust.wav\n",
      "1267 /bitstream/1807/24494/67/OAF_reach_disgust.wav\n",
      "1268 /bitstream/1807/24494/68/OAF_rat_disgust.wav\n",
      "1269 /bitstream/1807/24494/69/OAF_raise_disgust.wav\n",
      "1270 /bitstream/1807/24494/70/OAF_rain_disgust.wav\n",
      "1271 /bitstream/1807/24494/71/OAF_raid_disgust.wav\n",
      "1272 /bitstream/1807/24494/72/OAF_rag_disgust.wav\n",
      "1273 /bitstream/1807/24494/73/OAF_puff_disgust.wav\n",
      "1274 /bitstream/1807/24494/74/OAF_pool_disgust.wav\n",
      "1275 /bitstream/1807/24494/75/OAF_pole_disgust.wav\n",
      "1276 /bitstream/1807/24494/76/OAF_pike_disgust.wav\n",
      "1277 /bitstream/1807/24494/77/OAF_pick_disgust.wav\n",
      "1278 /bitstream/1807/24494/78/OAF_phone_disgust.wav\n",
      "1279 /bitstream/1807/24494/79/OAF_perch_disgust.wav\n",
      "1280 /bitstream/1807/24494/80/OAF_peg_disgust.wav\n",
      "1281 /bitstream/1807/24494/81/OAF_pearl_disgust.wav\n",
      "1282 /bitstream/1807/24494/82/OAF_pass_disgust.wav\n",
      "1283 /bitstream/1807/24494/83/OAF_pain_disgust.wav\n",
      "1284 /bitstream/1807/24494/84/OAF_page_disgust.wav\n",
      "1285 /bitstream/1807/24494/85/OAF_pad_disgust.wav\n",
      "1286 /bitstream/1807/24494/86/OAF_numb_disgust.wav\n",
      "1287 /bitstream/1807/24494/87/OAF_note_disgust.wav\n",
      "1288 /bitstream/1807/24494/88/OAF_nice_disgust.wav\n",
      "1289 /bitstream/1807/24494/89/OAF_neat_disgust.wav\n",
      "1290 /bitstream/1807/24494/90/OAF_near_disgust.wav\n",
      "1291 /bitstream/1807/24494/91/OAF_name_disgust.wav\n",
      "1292 /bitstream/1807/24494/92/OAF_nag_disgust.wav\n",
      "1293 /bitstream/1807/24494/93/OAF_mouse_disgust.wav\n",
      "1294 /bitstream/1807/24494/94/OAF_mop_disgust.wav\n",
      "1295 /bitstream/1807/24494/95/OAF_moon_disgust.wav\n",
      "1296 /bitstream/1807/24494/96/OAF_mood_disgust.wav\n",
      "1297 /bitstream/1807/24494/97/OAF_mode_disgust.wav\n",
      "1298 /bitstream/1807/24494/98/OAF_mob_disgust.wav\n",
      "1299 /bitstream/1807/24494/99/OAF_mill_disgust.wav\n",
      "1300 /bitstream/1807/24494/100/OAF_met_disgust.wav\n",
      "1301 /bitstream/1807/24494/101/OAF_mess_disgust.wav\n",
      "1302 /bitstream/1807/24494/102/OAF_merge_disgust.wav\n",
      "1303 /bitstream/1807/24494/103/OAF_match_disgust.wav\n",
      "1304 /bitstream/1807/24494/104/OAF_make_disgust.wav\n",
      "1305 /bitstream/1807/24494/105/OAF_luck_disgust.wav\n",
      "1306 /bitstream/1807/24494/106/OAF_love_disgust.wav\n",
      "1307 /bitstream/1807/24494/107/OAF_lot_disgust.wav\n",
      "1308 /bitstream/1807/24494/108/OAF_lose_disgust.wav\n",
      "1309 /bitstream/1807/24494/109/OAF_lore_disgust.wav\n",
      "1310 /bitstream/1807/24494/110/OAF_long_disgust.wav\n",
      "1311 /bitstream/1807/24494/111/OAF_loaf_disgust.wav\n",
      "1312 /bitstream/1807/24494/112/OAF_live_disgust.wav\n",
      "1313 /bitstream/1807/24494/113/OAF_limb_disgust.wav\n",
      "1314 /bitstream/1807/24494/114/OAF_life_disgust.wav\n",
      "1315 /bitstream/1807/24494/115/OAF_lid_disgust.wav\n",
      "1316 /bitstream/1807/24494/116/OAF_lease_disgust.wav\n",
      "1317 /bitstream/1807/24494/117/OAF_learn_disgust.wav\n",
      "1318 /bitstream/1807/24494/118/OAF_lean_disgust.wav\n",
      "1319 /bitstream/1807/24494/119/OAF_laud_disgust.wav\n",
      "1320 /bitstream/1807/24494/120/OAF_late_disgust.wav\n",
      "1321 /bitstream/1807/24494/121/OAF_knock_disgust.wav\n",
      "1322 /bitstream/1807/24494/122/OAF_kite_disgust.wav\n",
      "1323 /bitstream/1807/24494/123/OAF_king_disgust.wav\n",
      "1324 /bitstream/1807/24494/124/OAF_kill_disgust.wav\n",
      "1325 /bitstream/1807/24494/125/OAF_kick_disgust.wav\n",
      "1326 /bitstream/1807/24494/126/OAF_keg_disgust.wav\n",
      "1327 /bitstream/1807/24494/127/OAF_keep_disgust.wav\n",
      "1328 /bitstream/1807/24494/128/OAF_keen_disgust.wav\n",
      "1329 /bitstream/1807/24494/129/OAF_juice_disgust.wav\n",
      "1330 /bitstream/1807/24494/130/OAF_jug_disgust.wav\n",
      "1331 /bitstream/1807/24494/131/OAF_judge_disgust.wav\n",
      "1332 /bitstream/1807/24494/132/OAF_join_disgust.wav\n",
      "1333 /bitstream/1807/24494/133/OAF_jar_disgust.wav\n",
      "1334 /bitstream/1807/24494/134/OAF_jail_disgust.wav\n",
      "1335 /bitstream/1807/24494/135/OAF_hush_disgust.wav\n",
      "1336 /bitstream/1807/24494/136/OAF_hurl_disgust.wav\n",
      "1337 /bitstream/1807/24494/137/OAF_home_disgust.wav\n",
      "1338 /bitstream/1807/24494/138/OAF_hole_disgust.wav\n",
      "1339 /bitstream/1807/24494/139/OAF_hit_disgust.wav\n",
      "1340 /bitstream/1807/24494/140/OAF_hire_disgust.wav\n",
      "1341 /bitstream/1807/24494/141/OAF_haze_disgust.wav\n",
      "1342 /bitstream/1807/24494/142/OAF_have_disgust.wav\n",
      "1343 /bitstream/1807/24494/143/OAF_hate_disgust.wav\n",
      "1344 /bitstream/1807/24494/144/OAF_hash_disgust.wav\n",
      "1345 /bitstream/1807/24494/145/OAF_hall_disgust.wav\n",
      "1346 /bitstream/1807/24494/146/OAF_half_disgust.wav\n",
      "1347 /bitstream/1807/24494/147/OAF_gun_disgust.wav\n",
      "1348 /bitstream/1807/24494/148/OAF_goose_disgust.wav\n",
      "1349 /bitstream/1807/24494/149/OAF_good_disgust.wav\n",
      "1350 /bitstream/1807/24494/150/OAF_goal_disgust.wav\n",
      "1351 /bitstream/1807/24494/151/OAF_gin_disgust.wav\n",
      "1352 /bitstream/1807/24494/152/OAF_get_disgust.wav\n",
      "1353 /bitstream/1807/24494/153/OAF_germ_disgust.wav\n",
      "1354 /bitstream/1807/24494/154/OAF_gaze_disgust.wav\n"
     ]
    },
    {
     "name": "stdout",
     "output_type": "stream",
     "text": [
      "1355 /bitstream/1807/24494/155/OAF_gas_disgust.wav\n",
      "1356 /bitstream/1807/24494/156/OAF_gap_disgust.wav\n",
      "1357 /bitstream/1807/24494/157/OAF_food_disgust.wav\n",
      "1358 /bitstream/1807/24494/158/OAF_five_disgust.wav\n",
      "1359 /bitstream/1807/24494/159/OAF_fit_disgust.wav\n",
      "1360 /bitstream/1807/24494/160/OAF_fat_disgust.wav\n",
      "1361 /bitstream/1807/24494/161/OAF_far_disgust.wav\n",
      "1362 /bitstream/1807/24494/162/OAF_fall_disgust.wav\n",
      "1363 /bitstream/1807/24494/163/OAF_fail_disgust.wav\n",
      "1364 /bitstream/1807/24494/164/OAF_door_disgust.wav\n",
      "1365 /bitstream/1807/24494/165/OAF_doll_disgust.wav\n",
      "1366 /bitstream/1807/24494/166/OAF_dog_disgust.wav\n",
      "1367 /bitstream/1807/24494/167/OAF_dodge_disgust.wav\n",
      "1368 /bitstream/1807/24494/168/OAF_ditch_disgust.wav\n",
      "1369 /bitstream/1807/24494/169/OAF_dip_disgust.wav\n",
      "1370 /bitstream/1807/24494/170/OAF_dime_disgust.wav\n",
      "1371 /bitstream/1807/24494/171/OAF_deep_disgust.wav\n",
      "1372 /bitstream/1807/24494/172/OAF_death_disgust.wav\n",
      "1373 /bitstream/1807/24494/173/OAF_dead_disgust.wav\n",
      "1374 /bitstream/1807/24494/174/OAF_date_disgust.wav\n",
      "1375 /bitstream/1807/24494/175/OAF_dab_disgust.wav\n",
      "1376 /bitstream/1807/24494/176/OAF_cool_disgust.wav\n",
      "1377 /bitstream/1807/24494/177/OAF_choice_disgust.wav\n",
      "1378 /bitstream/1807/24494/178/OAF_chief_disgust.wav\n",
      "1379 /bitstream/1807/24494/179/OAF_cheek_disgust.wav\n",
      "1380 /bitstream/1807/24494/180/OAF_check_disgust.wav\n",
      "1381 /bitstream/1807/24494/181/OAF_chat_disgust.wav\n",
      "1382 /bitstream/1807/24494/182/OAF_chalk_disgust.wav\n",
      "1383 /bitstream/1807/24494/183/OAF_chair_disgust.wav\n",
      "1384 /bitstream/1807/24494/184/OAF_chain_disgust.wav\n",
      "1385 /bitstream/1807/24494/185/OAF_cause_disgust.wav\n",
      "1386 /bitstream/1807/24494/186/OAF_came_disgust.wav\n",
      "1387 /bitstream/1807/24494/187/OAF_calm_disgust.wav\n",
      "1388 /bitstream/1807/24494/188/OAF_cab_disgust.wav\n",
      "1389 /bitstream/1807/24494/189/OAF_burn_disgust.wav\n",
      "1390 /bitstream/1807/24494/190/OAF_bought_disgust.wav\n",
      "1391 /bitstream/1807/24494/191/OAF_book_disgust.wav\n",
      "1392 /bitstream/1807/24494/192/OAF_bone_disgust.wav\n",
      "1393 /bitstream/1807/24494/193/OAF_boat_disgust.wav\n",
      "1394 /bitstream/1807/24494/194/OAF_bite_disgust.wav\n",
      "1395 /bitstream/1807/24494/195/OAF_beg_disgust.wav\n",
      "1396 /bitstream/1807/24494/196/OAF_bean_disgust.wav\n",
      "1397 /bitstream/1807/24494/197/OAF_bath_disgust.wav\n",
      "1398 /bitstream/1807/24494/198/OAF_base_disgust.wav\n",
      "1399 /bitstream/1807/24494/199/OAF_bar_disgust.wav\n",
      "1400 /bitstream/1807/24494/200/OAF_back_disgust.wav\n",
      "1401 /bitstream/1807/24495/1/YAF_youth_ps.wav\n",
      "1402 /bitstream/1807/24495/2/YAF_young_ps.wav\n",
      "1403 /bitstream/1807/24495/3/YAF_yes_ps.wav\n",
      "1404 /bitstream/1807/24495/4/YAF_yearn_ps.wav\n",
      "1405 /bitstream/1807/24495/5/YAF_witch_ps.wav\n",
      "1406 /bitstream/1807/24495/6/YAF_wire_ps.wav\n",
      "1407 /bitstream/1807/24495/7/YAF_wife_ps.wav\n",
      "1408 /bitstream/1807/24495/8/YAF_white_ps.wav\n",
      "1409 /bitstream/1807/24495/9/YAF_whip_ps.wav\n",
      "1410 /bitstream/1807/24495/10/YAF_which_ps.wav\n",
      "1411 /bitstream/1807/24495/11/YAF_when_ps.wav\n",
      "1412 /bitstream/1807/24495/12/YAF_wheat_ps.wav\n",
      "1413 /bitstream/1807/24495/13/YAF_week_ps.wav\n",
      "1414 /bitstream/1807/24495/14/YAF_wash_ps.wav\n",
      "1415 /bitstream/1807/24495/15/YAF_walk_ps.wav\n",
      "1416 /bitstream/1807/24495/16/YAF_wag_ps.wav\n",
      "1417 /bitstream/1807/24495/17/YAF_vote_ps.wav\n",
      "1418 /bitstream/1807/24495/18/YAF_void_ps.wav\n",
      "1419 /bitstream/1807/24495/19/YAF_voice_ps.wav\n",
      "1420 /bitstream/1807/24495/20/YAF_vine_ps.wav\n",
      "1421 /bitstream/1807/24495/21/YAF_turn_ps.wav\n",
      "1422 /bitstream/1807/24495/22/YAF_tough_ps.wav\n",
      "1423 /bitstream/1807/24495/23/YAF_tool_ps.wav\n",
      "1424 /bitstream/1807/24495/24/YAF_ton_ps.wav\n",
      "1425 /bitstream/1807/24495/25/YAF_tire_ps.wav\n",
      "1426 /bitstream/1807/24495/26/YAF_tip_ps.wav\n",
      "1427 /bitstream/1807/24495/27/YAF_time_ps.wav\n",
      "1428 /bitstream/1807/24495/28/YAF_thumb_ps.wav\n",
      "1429 /bitstream/1807/24495/29/YAF_thought_ps.wav\n",
      "1430 /bitstream/1807/24495/30/YAF_third_ps.wav\n",
      "1431 /bitstream/1807/24495/31/YAF_thin_ps.wav\n",
      "1432 /bitstream/1807/24495/32/YAF_tell_ps.wav\n",
      "1433 /bitstream/1807/24495/33/YAF_team_ps.wav\n",
      "1434 /bitstream/1807/24495/34/YAF_tape_ps.wav\n",
      "1435 /bitstream/1807/24495/35/YAF_talk_ps.wav\n",
      "1436 /bitstream/1807/24495/36/YAF_take_ps.wav\n",
      "1437 /bitstream/1807/24495/37/YAF_sure_ps.wav\n",
      "1438 /bitstream/1807/24495/38/YAF_such_ps.wav\n",
      "1439 /bitstream/1807/24495/39/YAF_sub_ps.wav\n",
      "1440 /bitstream/1807/24495/40/YAF_south_ps.wav\n",
      "1441 /bitstream/1807/24495/41/YAF_sour_ps.wav\n",
      "1442 /bitstream/1807/24495/42/YAF_soup_ps.wav\n",
      "1443 /bitstream/1807/24495/43/YAF_soap_ps.wav\n",
      "1444 /bitstream/1807/24495/44/YAF_size_ps.wav\n",
      "1445 /bitstream/1807/24495/45/YAF_shout_ps.wav\n",
      "1446 /bitstream/1807/24495/46/YAF_should_ps.wav\n",
      "1447 /bitstream/1807/24495/47/YAF_shirt_ps.wav\n",
      "1448 /bitstream/1807/24495/48/YAF_sheep_ps.wav\n",
      "1449 /bitstream/1807/24495/49/YAF_shawl_ps.wav\n",
      "1450 /bitstream/1807/24495/50/YAF_shall_ps.wav\n",
      "1451 /bitstream/1807/24495/51/YAF_shack_ps.wav\n",
      "1452 /bitstream/1807/24495/52/YAF_sell_ps.wav\n",
      "1453 /bitstream/1807/24495/53/YAF_seize_ps.wav\n",
      "1454 /bitstream/1807/24495/54/YAF_search_ps.wav\n",
      "1455 /bitstream/1807/24495/55/YAF_sail_ps.wav\n",
      "1456 /bitstream/1807/24495/56/YAF_said_ps.wav\n",
      "1457 /bitstream/1807/24495/57/YAF_rush_ps.wav\n",
      "1458 /bitstream/1807/24495/58/YAF_rough_ps.wav\n",
      "1459 /bitstream/1807/24495/59/YAF_rot_ps.wav\n",
      "1460 /bitstream/1807/24495/60/YAF_rose_ps.wav\n",
      "1461 /bitstream/1807/24495/61/YAF_room_ps.wav\n",
      "1462 /bitstream/1807/24495/62/YAF_road_ps.wav\n",
      "1463 /bitstream/1807/24495/63/YAF_ripe_ps.wav\n",
      "1464 /bitstream/1807/24495/64/YAF_ring_ps.wav\n",
      "1465 /bitstream/1807/24495/65/YAF_red_ps.wav\n",
      "1466 /bitstream/1807/24495/66/YAF_read_ps.wav\n",
      "1467 /bitstream/1807/24495/67/YAF_reach_ps.wav\n",
      "1468 /bitstream/1807/24495/68/YAF_rat_ps.wav\n",
      "1469 /bitstream/1807/24495/69/YAF_raise_ps.wav\n",
      "1470 /bitstream/1807/24495/70/YAF_rain_ps.wav\n",
      "1471 /bitstream/1807/24495/71/YAF_raid_ps.wav\n",
      "1472 /bitstream/1807/24495/72/YAF_rag_ps.wav\n",
      "1473 /bitstream/1807/24495/73/YAF_puff_ps.wav\n",
      "1474 /bitstream/1807/24495/74/YAF_pool_ps.wav\n",
      "1475 /bitstream/1807/24495/75/YAF_pole_ps.wav\n",
      "1476 /bitstream/1807/24495/76/YAF_pike_ps.wav\n",
      "1477 /bitstream/1807/24495/77/YAF_pick_ps.wav\n",
      "1478 /bitstream/1807/24495/78/YAF_phone_ps.wav\n",
      "1479 /bitstream/1807/24495/79/YAF_perch_ps.wav\n",
      "1480 /bitstream/1807/24495/80/YAF_peg_ps.wav\n",
      "1481 /bitstream/1807/24495/81/YAF_pearl_ps.wav\n",
      "1482 /bitstream/1807/24495/82/YAF_pass_ps.wav\n",
      "1483 /bitstream/1807/24495/83/YAF_pain_ps.wav\n",
      "1484 /bitstream/1807/24495/84/YAF_page_ps.wav\n",
      "1485 /bitstream/1807/24495/85/YAF_pad_ps.wav\n",
      "1486 /bitstream/1807/24495/86/YAF_numb_ps.wav\n",
      "1487 /bitstream/1807/24495/87/YAF_note_ps.wav\n",
      "1488 /bitstream/1807/24495/88/YAF_nice_ps.wav\n",
      "1489 /bitstream/1807/24495/89/YAF_neat_ps.wav\n",
      "1490 /bitstream/1807/24495/90/YAF_near_ps.wav\n",
      "1491 /bitstream/1807/24495/91/YAF_name_ps.wav\n",
      "1492 /bitstream/1807/24495/92/YAF_nag_ps.wav\n",
      "1493 /bitstream/1807/24495/93/YAF_mouse_ps.wav\n",
      "1494 /bitstream/1807/24495/94/YAF_mop_ps.wav\n",
      "1495 /bitstream/1807/24495/95/YAF_moon_ps.wav\n",
      "1496 /bitstream/1807/24495/96/YAF_mood_ps.wav\n",
      "1497 /bitstream/1807/24495/97/YAF_mode_ps.wav\n",
      "1498 /bitstream/1807/24495/98/YAF_mob_ps.wav\n",
      "1499 /bitstream/1807/24495/99/YAF_mill_ps.wav\n",
      "1500 /bitstream/1807/24495/100/YAF_met_ps.wav\n",
      "1501 /bitstream/1807/24495/101/YAF_mess_ps.wav\n",
      "1502 /bitstream/1807/24495/102/YAF_merge_ps.wav\n",
      "1503 /bitstream/1807/24495/103/YAF_match_ps.wav\n",
      "1504 /bitstream/1807/24495/104/YAF_make_ps.wav\n",
      "1505 /bitstream/1807/24495/105/YAF_luck_ps.wav\n",
      "1506 /bitstream/1807/24495/106/YAF_love_ps.wav\n",
      "1507 /bitstream/1807/24495/107/YAF_lot_ps.wav\n",
      "1508 /bitstream/1807/24495/108/YAF_lose_ps.wav\n",
      "1509 /bitstream/1807/24495/109/YAF_lore_ps.wav\n",
      "1510 /bitstream/1807/24495/110/YAF_long_ps.wav\n",
      "1511 /bitstream/1807/24495/111/YAF_loaf_ps.wav\n",
      "1512 /bitstream/1807/24495/112/YAF_live_ps.wav\n",
      "1513 /bitstream/1807/24495/113/YAF_limb_ps.wav\n",
      "1514 /bitstream/1807/24495/114/YAF_life_ps.wav\n",
      "1515 /bitstream/1807/24495/115/YAF_lid_ps.wav\n",
      "1516 /bitstream/1807/24495/116/YAF_lease_ps.wav\n",
      "1517 /bitstream/1807/24495/117/YAF_learn_ps.wav\n",
      "1518 /bitstream/1807/24495/118/YAF_lean_ps.wav\n",
      "1519 /bitstream/1807/24495/119/YAF_laud_ps.wav\n",
      "1520 /bitstream/1807/24495/120/YAF_late_ps.wav\n",
      "1521 /bitstream/1807/24495/121/YAF_knock_ps.wav\n",
      "1522 /bitstream/1807/24495/122/YAF_kite_ps.wav\n",
      "1523 /bitstream/1807/24495/123/YAF_king_ps.wav\n",
      "1524 /bitstream/1807/24495/124/YAF_kill_ps.wav\n",
      "1525 /bitstream/1807/24495/125/YAF_kick_ps.wav\n",
      "1526 /bitstream/1807/24495/126/YAF_keg_ps.wav\n"
     ]
    },
    {
     "name": "stdout",
     "output_type": "stream",
     "text": [
      "1527 /bitstream/1807/24495/127/YAF_keep_ps.wav\n",
      "1528 /bitstream/1807/24495/128/YAF_keen_ps.wav\n",
      "1529 /bitstream/1807/24495/129/YAF_juice_ps.wav\n",
      "1530 /bitstream/1807/24495/130/YAF_jug_ps.wav\n",
      "1531 /bitstream/1807/24495/131/YAF_judge_ps.wav\n",
      "1532 /bitstream/1807/24495/132/YAF_join_ps.wav\n",
      "1533 /bitstream/1807/24495/133/YAF_jar_ps.wav\n",
      "1534 /bitstream/1807/24495/134/YAF_jail_ps.wav\n",
      "1535 /bitstream/1807/24495/135/YAF_hush_ps.wav\n",
      "1536 /bitstream/1807/24495/136/YAF_hurl_ps.wav\n",
      "1537 /bitstream/1807/24495/137/YAF_home_ps.wav\n",
      "1538 /bitstream/1807/24495/138/YAF_hole_ps.wav\n",
      "1539 /bitstream/1807/24495/139/YAF_hit_ps.wav\n",
      "1540 /bitstream/1807/24495/140/YAF_hire_ps.wav\n",
      "1541 /bitstream/1807/24495/141/YAF_haze_ps.wav\n",
      "1542 /bitstream/1807/24495/142/YAF_have_ps.wav\n",
      "1543 /bitstream/1807/24495/143/YAF_hate_ps.wav\n",
      "1544 /bitstream/1807/24495/144/YAF_hash_ps.wav\n",
      "1545 /bitstream/1807/24495/145/YAF_hall_ps.wav\n",
      "1546 /bitstream/1807/24495/146/YAF_half_ps.wav\n",
      "1547 /bitstream/1807/24495/147/YAF_gun_ps.wav\n",
      "1548 /bitstream/1807/24495/148/YAF_goose_ps.wav\n",
      "1549 /bitstream/1807/24495/149/YAF_good_ps.wav\n",
      "1550 /bitstream/1807/24495/150/YAF_goal_ps.wav\n",
      "1551 /bitstream/1807/24495/151/YAF_gin_ps.wav\n",
      "1552 /bitstream/1807/24495/152/YAF_get_ps.wav\n",
      "1553 /bitstream/1807/24495/153/YAF_germ_ps.wav\n",
      "1554 /bitstream/1807/24495/154/YAF_gaze_ps.wav\n",
      "1555 /bitstream/1807/24495/155/YAF_gas_ps.wav\n",
      "1556 /bitstream/1807/24495/156/YAF_gap_ps.wav\n",
      "1557 /bitstream/1807/24495/157/YAF_food_ps.wav\n",
      "1558 /bitstream/1807/24495/158/YAF_five_ps.wav\n",
      "1559 /bitstream/1807/24495/159/YAF_fit_ps.wav\n",
      "1560 /bitstream/1807/24495/160/YAF_fat_ps.wav\n",
      "1561 /bitstream/1807/24495/161/YAF_far_ps.wav\n",
      "1562 /bitstream/1807/24495/162/YAF_fall_ps.wav\n",
      "1563 /bitstream/1807/24495/163/YAF_fail_ps.wav\n",
      "1564 /bitstream/1807/24495/164/YAF_door_ps.wav\n",
      "1565 /bitstream/1807/24495/165/YAF_doll_ps.wav\n",
      "1566 /bitstream/1807/24495/166/YAF_dog_ps.wav\n",
      "1567 /bitstream/1807/24495/167/YAF_dodge_ps.wav\n",
      "1568 /bitstream/1807/24495/168/YAF_ditch_ps.wav\n",
      "1569 /bitstream/1807/24495/169/YAF_dip_ps.wav\n",
      "1570 /bitstream/1807/24495/170/YAF_dime_ps.wav\n",
      "1571 /bitstream/1807/24495/171/YAF_deep_ps.wav\n",
      "1572 /bitstream/1807/24495/172/YAF_death_ps.wav\n",
      "1573 /bitstream/1807/24495/173/YAF_dead_ps.wav\n",
      "1574 /bitstream/1807/24495/174/YAF_date_ps.wav\n",
      "1575 /bitstream/1807/24495/175/YAF_dab_ps.wav\n",
      "1576 /bitstream/1807/24495/176/YAF_cool_ps.wav\n",
      "1577 /bitstream/1807/24495/177/YAF_choice_ps.wav\n",
      "1578 /bitstream/1807/24495/178/YAF_chief_ps.wav\n",
      "1579 /bitstream/1807/24495/179/YAF_cheek_ps.wav\n",
      "1580 /bitstream/1807/24495/180/YAF_check_ps.wav\n",
      "1581 /bitstream/1807/24495/181/YAF_chat_ps.wav\n",
      "1582 /bitstream/1807/24495/182/YAF_chalk_ps.wav\n",
      "1583 /bitstream/1807/24495/183/YAF_chair_ps.wav\n",
      "1584 /bitstream/1807/24495/184/YAF_chain_ps.wav\n",
      "1585 /bitstream/1807/24495/185/YAF_cause_ps.wav\n",
      "1586 /bitstream/1807/24495/186/YAF_came_ps.wav\n",
      "1587 /bitstream/1807/24495/187/YAF_calm_ps.wav\n",
      "1588 /bitstream/1807/24495/188/YAF_cab_ps.wav\n",
      "1589 /bitstream/1807/24495/189/YAF_burn_ps.wav\n",
      "1590 /bitstream/1807/24495/190/YAF_bought_ps.wav\n",
      "1591 /bitstream/1807/24495/191/YAF_book_ps.wav\n",
      "1592 /bitstream/1807/24495/192/YAF_bone_ps.wav\n",
      "1593 /bitstream/1807/24495/193/YAF_boat_ps.wav\n",
      "1594 /bitstream/1807/24495/194/YAF_bite_ps.wav\n",
      "1595 /bitstream/1807/24495/195/YAF_beg_ps.wav\n",
      "1596 /bitstream/1807/24495/196/YAF_bean_ps.wav\n",
      "1597 /bitstream/1807/24495/197/YAF_bath_ps.wav\n",
      "1598 /bitstream/1807/24495/198/YAF_base_ps.wav\n",
      "1599 /bitstream/1807/24495/199/YAF_bar_ps.wav\n",
      "1600 /bitstream/1807/24495/200/YAF_back_ps.wav\n",
      "1601 /bitstream/1807/24496/1/YAF_youth_neutral.wav\n",
      "1602 /bitstream/1807/24496/2/YAF_young_neutral.wav\n",
      "1603 /bitstream/1807/24496/3/YAF_yes_neutral.wav\n",
      "1604 /bitstream/1807/24496/4/YAF_yearn_neutral.wav\n",
      "1605 /bitstream/1807/24496/5/YAF_witch_neutral.wav\n",
      "1606 /bitstream/1807/24496/6/YAF_wire_neutral.wav\n",
      "1607 /bitstream/1807/24496/7/YAF_wife_neutral.wav\n",
      "1608 /bitstream/1807/24496/8/YAF_white_neutral.wav\n",
      "1609 /bitstream/1807/24496/9/YAF_whip_neutral.wav\n",
      "1610 /bitstream/1807/24496/10/YAF_which_neutral.wav\n",
      "1611 /bitstream/1807/24496/11/YAF_when_neutral.wav\n",
      "1612 /bitstream/1807/24496/12/YAF_wheat_neutral.wav\n",
      "1613 /bitstream/1807/24496/13/YAF_week_neutral.wav\n",
      "1614 /bitstream/1807/24496/14/YAF_wash_neutral.wav\n",
      "1615 /bitstream/1807/24496/15/YAF_walk_neutral.wav\n",
      "1616 /bitstream/1807/24496/16/YAF_wag_neutral.wav\n",
      "1617 /bitstream/1807/24496/17/YAF_vote_neutral.wav\n",
      "1618 /bitstream/1807/24496/18/YAF_void_neutral.wav\n",
      "1619 /bitstream/1807/24496/19/YAF_voice_neutral.wav\n",
      "1620 /bitstream/1807/24496/20/YAF_vine_neutral.wav\n",
      "1621 /bitstream/1807/24496/21/YAF_turn_neutral.wav\n",
      "1622 /bitstream/1807/24496/22/YAF_tough_neutral.wav\n",
      "1623 /bitstream/1807/24496/23/YAF_tool_neutral.wav\n",
      "1624 /bitstream/1807/24496/24/YAF_ton_neutral.wav\n",
      "1625 /bitstream/1807/24496/25/YAF_tire_neutral.wav\n",
      "1626 /bitstream/1807/24496/26/YAF_tip_neutral.wav\n",
      "1627 /bitstream/1807/24496/27/YAF_time_neutral.wav\n",
      "1628 /bitstream/1807/24496/28/YAF_thumb_neutral.wav\n",
      "1629 /bitstream/1807/24496/29/YAF_thought_neutral.wav\n",
      "1630 /bitstream/1807/24496/30/YAF_third_neutral.wav\n",
      "1631 /bitstream/1807/24496/31/YAF_thin_neutral.wav\n",
      "1632 /bitstream/1807/24496/32/YAF_tell_neutral.wav\n",
      "1633 /bitstream/1807/24496/33/YAF_team_neutral.wav\n",
      "1634 /bitstream/1807/24496/34/YAF_tape_neutral.wav\n",
      "1635 /bitstream/1807/24496/35/YAF_talk_neutral.wav\n",
      "1636 /bitstream/1807/24496/36/YAF_take_neutral.wav\n",
      "1637 /bitstream/1807/24496/37/YAF_sure_neutral.wav\n",
      "1638 /bitstream/1807/24496/38/YAF_such_neutral.wav\n",
      "1639 /bitstream/1807/24496/39/YAF_sub_neutral.wav\n",
      "1640 /bitstream/1807/24496/40/YAF_south_neutral.wav\n",
      "1641 /bitstream/1807/24496/41/YAF_sour_neutral.wav\n",
      "1642 /bitstream/1807/24496/42/YAF_soup_neutral.wav\n",
      "1643 /bitstream/1807/24496/43/YAF_soap_neutral.wav\n",
      "1644 /bitstream/1807/24496/44/YAF_size_neutral.wav\n",
      "1645 /bitstream/1807/24496/45/YAF_shout_neutral.wav\n",
      "1646 /bitstream/1807/24496/46/YAF_should_neutral.wav\n",
      "1647 /bitstream/1807/24496/47/YAF_shirt_neutral.wav\n",
      "1648 /bitstream/1807/24496/48/YAF_sheep_neutral.wav\n",
      "1649 /bitstream/1807/24496/49/YAF_shawl_neutral.wav\n",
      "1650 /bitstream/1807/24496/50/YAF_shall_neutral.wav\n",
      "1651 /bitstream/1807/24496/51/YAF_shack_neutral.wav\n",
      "1652 /bitstream/1807/24496/52/YAF_sell_neutral.wav\n",
      "1653 /bitstream/1807/24496/53/YAF_seize_neutral.wav\n",
      "1654 /bitstream/1807/24496/54/YAF_search_neutral.wav\n",
      "1655 /bitstream/1807/24496/55/YAF_sail_neutral.wav\n",
      "1656 /bitstream/1807/24496/56/YAF_said_neutral.wav\n",
      "1657 /bitstream/1807/24496/57/YAF_rush_neutral.wav\n",
      "1658 /bitstream/1807/24496/58/YAF_rough_neutral.wav\n",
      "1659 /bitstream/1807/24496/59/YAF_rot_neutral.wav\n",
      "1660 /bitstream/1807/24496/60/YAF_rose_neutral.wav\n",
      "1661 /bitstream/1807/24496/61/YAF_room_neutral.wav\n",
      "1662 /bitstream/1807/24496/62/YAF_road_neutral.wav\n",
      "1663 /bitstream/1807/24496/63/YAF_ripe_neutral.wav\n",
      "1664 /bitstream/1807/24496/64/YAF_ring_neutral.wav\n",
      "1665 /bitstream/1807/24496/65/YAF_red_neutral.wav\n",
      "1666 /bitstream/1807/24496/66/YAF_read_neutral.wav\n",
      "1667 /bitstream/1807/24496/67/YAF_reach_neutral.wav\n",
      "1668 /bitstream/1807/24496/68/YAF_rat_neutral.wav\n",
      "1669 /bitstream/1807/24496/69/YAF_raise_neutral.wav\n",
      "1670 /bitstream/1807/24496/70/YAF_rain_neutral.wav\n",
      "1671 /bitstream/1807/24496/71/YAF_raid_neutral.wav\n",
      "1672 /bitstream/1807/24496/72/YAF_rag_neutral.wav\n",
      "1673 /bitstream/1807/24496/73/YAF_puff_neutral.wav\n",
      "1674 /bitstream/1807/24496/74/YAF_pool_neutral.wav\n",
      "1675 /bitstream/1807/24496/75/YAF_pole_neutral.wav\n",
      "1676 /bitstream/1807/24496/76/YAF_pike_neutral.wav\n",
      "1677 /bitstream/1807/24496/77/YAF_pick_neutral.wav\n",
      "1678 /bitstream/1807/24496/78/YAF_phone_neutral.wav\n",
      "1679 /bitstream/1807/24496/79/YAF_perch_neutral.wav\n",
      "1680 /bitstream/1807/24496/80/YAF_peg_neutral.wav\n",
      "1681 /bitstream/1807/24496/81/YAF_pearl_neutral.wav\n",
      "1682 /bitstream/1807/24496/82/YAF_pass_neutral.wav\n",
      "1683 /bitstream/1807/24496/83/YAF_pain_neutral.wav\n",
      "1684 /bitstream/1807/24496/84/YAF_page_neutral.wav\n",
      "1685 /bitstream/1807/24496/85/YAF_pad_neutral.wav\n",
      "1686 /bitstream/1807/24496/86/YAF_numb_neutral.wav\n",
      "1687 /bitstream/1807/24496/87/YAF_note_neutral.wav\n",
      "1688 /bitstream/1807/24496/88/YAF_nice_neutral.wav\n",
      "1689 /bitstream/1807/24496/89/YAF_neat_neutral.wav\n",
      "1690 /bitstream/1807/24496/90/YAF_near_neutral.wav\n",
      "1691 /bitstream/1807/24496/91/YAF_name_neutral.wav\n",
      "1692 /bitstream/1807/24496/92/YAF_nag_neutral.wav\n",
      "1693 /bitstream/1807/24496/93/YAF_mouse_neutral.wav\n"
     ]
    },
    {
     "name": "stdout",
     "output_type": "stream",
     "text": [
      "1694 /bitstream/1807/24496/94/YAF_mop_neutral.wav\n",
      "1695 /bitstream/1807/24496/95/YAF_moon_neutral.wav\n",
      "1696 /bitstream/1807/24496/96/YAF_mood_neutral.wav\n",
      "1697 /bitstream/1807/24496/97/YAF_mode_neutral.wav\n",
      "1698 /bitstream/1807/24496/98/YAF_mob_neutral.wav\n",
      "1699 /bitstream/1807/24496/99/YAF_mill_neutral.wav\n",
      "1700 /bitstream/1807/24496/100/YAF_met_neutral.wav\n",
      "1701 /bitstream/1807/24496/101/YAF_mess_neutral.wav\n",
      "1702 /bitstream/1807/24496/102/YAF_merge_neutral.wav\n",
      "1703 /bitstream/1807/24496/103/YAF_match_neutral.wav\n",
      "1704 /bitstream/1807/24496/104/YAF_make_neutral.wav\n",
      "1705 /bitstream/1807/24496/105/YAF_luck_neutral.wav\n",
      "1706 /bitstream/1807/24496/106/YAF_love_neutral.wav\n",
      "1707 /bitstream/1807/24496/107/YAF_lot_neutral.wav\n",
      "1708 /bitstream/1807/24496/108/YAF_lose_neutral.wav\n",
      "1709 /bitstream/1807/24496/109/YAF_lore_neutral.wav\n",
      "1710 /bitstream/1807/24496/110/YAF_long_neutral.wav\n",
      "1711 /bitstream/1807/24496/111/YAF_loaf_neutral.wav\n",
      "1712 /bitstream/1807/24496/112/YAF_live_neutral.wav\n",
      "1713 /bitstream/1807/24496/113/YAF_limb_neutral.wav\n",
      "1714 /bitstream/1807/24496/114/YAF_life_neutral.wav\n",
      "1715 /bitstream/1807/24496/115/YAF_lid_neutral.wav\n",
      "1716 /bitstream/1807/24496/116/YAF_lease_neutral.wav\n",
      "1717 /bitstream/1807/24496/117/YAF_learn_neutral.wav\n",
      "1718 /bitstream/1807/24496/118/YAF_lean_neutral.wav\n",
      "1719 /bitstream/1807/24496/119/YAF_laud_neutral.wav\n",
      "1720 /bitstream/1807/24496/120/YAF_late_neutral.wav\n",
      "1721 /bitstream/1807/24496/121/YAF_knock_neutral.wav\n",
      "1722 /bitstream/1807/24496/122/YAF_kite_neutral.wav\n",
      "1723 /bitstream/1807/24496/123/YAF_king_neutral.wav\n",
      "1724 /bitstream/1807/24496/124/YAF_kill_neutral.wav\n",
      "1725 /bitstream/1807/24496/125/YAF_kick_neutral.wav\n",
      "1726 /bitstream/1807/24496/126/YAF_keg_neutral.wav\n",
      "1727 /bitstream/1807/24496/127/YAF_keep_neutral.wav\n",
      "1728 /bitstream/1807/24496/128/YAF_keen_neutral.wav\n",
      "1729 /bitstream/1807/24496/129/YAF_juice_neutral.wav\n",
      "1730 /bitstream/1807/24496/130/YAF_jug_neutral.wav\n",
      "1731 /bitstream/1807/24496/131/YAF_judge_neutral.wav\n",
      "1732 /bitstream/1807/24496/132/YAF_join_neutral.wav\n",
      "1733 /bitstream/1807/24496/133/YAF_jar_neutral.wav\n",
      "1734 /bitstream/1807/24496/134/YAF_jail_neutral.wav\n",
      "1735 /bitstream/1807/24496/135/YAF_hush_neutral.wav\n",
      "1736 /bitstream/1807/24496/136/YAF_hurl_neutral.wav\n",
      "1737 /bitstream/1807/24496/137/YAF_home_neutral.wav\n",
      "1738 /bitstream/1807/24496/138/YAF_hole_neutral.wav\n",
      "1739 /bitstream/1807/24496/139/YAF_hit_neutral.wav\n",
      "1740 /bitstream/1807/24496/140/YAF_hire_neutral.wav\n",
      "1741 /bitstream/1807/24496/141/YAF_haze_neutral.wav\n",
      "1742 /bitstream/1807/24496/142/YAF_have_neutral.wav\n",
      "1743 /bitstream/1807/24496/143/YAF_hate_neutral.wav\n",
      "1744 /bitstream/1807/24496/144/YAF_hash_neutral.wav\n",
      "1745 /bitstream/1807/24496/145/YAF_hall_neutral.wav\n",
      "1746 /bitstream/1807/24496/146/YAF_half_neutral.wav\n",
      "1747 /bitstream/1807/24496/147/YAF_gun_neutral.wav\n",
      "1748 /bitstream/1807/24496/148/YAF_goose_neutral.wav\n",
      "1749 /bitstream/1807/24496/149/YAF_good_neutral.wav\n",
      "1750 /bitstream/1807/24496/150/YAF_goal_neutral.wav\n",
      "1751 /bitstream/1807/24496/151/YAF_gin_neutral.wav\n",
      "1752 /bitstream/1807/24496/152/YAF_get_neutral.wav\n",
      "1753 /bitstream/1807/24496/153/YAF_germ_neutral.wav\n",
      "1754 /bitstream/1807/24496/154/YAF_gaze_neutral.wav\n",
      "1755 /bitstream/1807/24496/155/YAF_gas_neutral.wav\n",
      "1756 /bitstream/1807/24496/156/YAF_gap_neutral.wav\n",
      "1757 /bitstream/1807/24496/157/YAF_food_neutral.wav\n",
      "1758 /bitstream/1807/24496/158/YAF_five_neutral.wav\n",
      "1759 /bitstream/1807/24496/159/YAF_fit_neutral.wav\n",
      "1760 /bitstream/1807/24496/160/YAF_fat_neutral.wav\n",
      "1761 /bitstream/1807/24496/161/YAF_far_neutral.wav\n",
      "1762 /bitstream/1807/24496/162/YAF_fall_neutral.wav\n",
      "1763 /bitstream/1807/24496/163/YAF_fail_neutral.wav\n",
      "1764 /bitstream/1807/24496/164/YAF_door_neutral.wav\n",
      "1765 /bitstream/1807/24496/165/YAF_doll_neutral.wav\n",
      "1766 /bitstream/1807/24496/166/YAF_dog_neutral.wav\n",
      "1767 /bitstream/1807/24496/167/YAF_dodge_neutral.wav\n",
      "1768 /bitstream/1807/24496/168/YAF_ditch_neutral.wav\n",
      "1769 /bitstream/1807/24496/169/YAF_dip_neutral.wav\n",
      "1770 /bitstream/1807/24496/170/YAF_dime_neutral.wav\n",
      "1771 /bitstream/1807/24496/171/YAF_deep_neutral.wav\n",
      "1772 /bitstream/1807/24496/172/YAF_death_neutral.wav\n",
      "1773 /bitstream/1807/24496/173/YAF_dead_neutral.wav\n",
      "1774 /bitstream/1807/24496/174/YAF_date_neutral.wav\n",
      "1775 /bitstream/1807/24496/175/YAF_dab_neutral.wav\n",
      "1776 /bitstream/1807/24496/176/YAF_cool_neutral.wav\n",
      "1777 /bitstream/1807/24496/177/YAF_choice_neutral.wav\n",
      "1778 /bitstream/1807/24496/178/YAF_chief_neutral.wav\n",
      "1779 /bitstream/1807/24496/179/YAF_cheek_neutral.wav\n",
      "1780 /bitstream/1807/24496/180/YAF_check_neutral.wav\n",
      "1781 /bitstream/1807/24496/181/YAF_chat_neutral.wav\n",
      "1782 /bitstream/1807/24496/182/YAF_chalk_neutral.wav\n",
      "1783 /bitstream/1807/24496/183/YAF_chair_neutral.wav\n",
      "1784 /bitstream/1807/24496/184/YAF_chain_neutral.wav\n",
      "1785 /bitstream/1807/24496/185/YAF_cause_neutral.wav\n",
      "1786 /bitstream/1807/24496/186/YAF_came_neutral.wav\n",
      "1787 /bitstream/1807/24496/187/YAF_calm_neutral.wav\n",
      "1788 /bitstream/1807/24496/188/YAF_cab_neutral.wav\n",
      "1789 /bitstream/1807/24496/189/YAF_burn_neutral.wav\n",
      "1790 /bitstream/1807/24496/190/YAF_bought_neutral.wav\n",
      "1791 /bitstream/1807/24496/191/YAF_book_neutral.wav\n",
      "1792 /bitstream/1807/24496/192/YAF_bone_neutral.wav\n",
      "1793 /bitstream/1807/24496/193/YAF_boat_neutral.wav\n",
      "1794 /bitstream/1807/24496/194/YAF_bite_neutral.wav\n",
      "1795 /bitstream/1807/24496/195/YAF_beg_neutral.wav\n",
      "1796 /bitstream/1807/24496/196/YAF_bean_neutral.wav\n",
      "1797 /bitstream/1807/24496/197/YAF_bath_neutral.wav\n",
      "1798 /bitstream/1807/24496/198/YAF_base_neutral.wav\n",
      "1799 /bitstream/1807/24496/199/YAF_bar_neutral.wav\n",
      "1800 /bitstream/1807/24496/200/YAF_back_neutral.wav\n",
      "1801 /bitstream/1807/24497/1/OAF_youth_sad.wav\n",
      "1802 /bitstream/1807/24497/2/OAF_young_sad.wav\n",
      "1803 /bitstream/1807/24497/3/OAF_yes_sad.wav\n",
      "1804 /bitstream/1807/24497/4/OAF_yearn_sad.wav\n",
      "1805 /bitstream/1807/24497/5/OAF_witch_sad.wav\n",
      "1806 /bitstream/1807/24497/6/OAF_wire_sad.wav\n",
      "1807 /bitstream/1807/24497/7/OAF_wife_sad.wav\n",
      "1808 /bitstream/1807/24497/8/OAF_white_sad.wav\n",
      "1809 /bitstream/1807/24497/9/OAF_whip_sad.wav\n",
      "1810 /bitstream/1807/24497/10/OAF_which_sad.wav\n",
      "1811 /bitstream/1807/24497/11/OAF_when_sad.wav\n",
      "1812 /bitstream/1807/24497/12/OAF_wheat_sad.wav\n",
      "1813 /bitstream/1807/24497/13/OAF_week_sad.wav\n",
      "1814 /bitstream/1807/24497/14/OAF_wash_sad.wav\n",
      "1815 /bitstream/1807/24497/15/OAF_walk_sad.wav\n",
      "1816 /bitstream/1807/24497/16/OAF_wag_sad.wav\n",
      "1817 /bitstream/1807/24497/17/OAF_vote_sad.wav\n",
      "1818 /bitstream/1807/24497/18/OAF_void_sad.wav\n",
      "1819 /bitstream/1807/24497/19/OAF_voice_sad.wav\n",
      "1820 /bitstream/1807/24497/20/OAF_vine_sad.wav\n",
      "1821 /bitstream/1807/24497/21/OAF_turn_sad.wav\n",
      "1822 /bitstream/1807/24497/22/OAF_tough_sad.wav\n",
      "1823 /bitstream/1807/24497/23/OAF_tool_sad.wav\n",
      "1824 /bitstream/1807/24497/24/OAF_ton_sad.wav\n",
      "1825 /bitstream/1807/24497/25/OAF_tire_sad.wav\n",
      "1826 /bitstream/1807/24497/26/OAF_tip_sad.wav\n",
      "1827 /bitstream/1807/24497/27/OAF_time_sad.wav\n",
      "1828 /bitstream/1807/24497/28/OAF_thumb_sad.wav\n",
      "1829 /bitstream/1807/24497/29/OAF_thought_sad.wav\n",
      "1830 /bitstream/1807/24497/30/OAF_third_sad.wav\n",
      "1831 /bitstream/1807/24497/31/OAF_thin_sad.wav\n",
      "1832 /bitstream/1807/24497/32/OAF_tell_sad.wav\n",
      "1833 /bitstream/1807/24497/33/OAF_team_sad.wav\n",
      "1834 /bitstream/1807/24497/34/OAF_tape_sad.wav\n",
      "1835 /bitstream/1807/24497/35/OAF_talk_sad.wav\n",
      "1836 /bitstream/1807/24497/36/OAF_take_sad.wav\n",
      "1837 /bitstream/1807/24497/37/OAF_sure_sad.wav\n",
      "1838 /bitstream/1807/24497/38/OAF_such_sad.wav\n",
      "1839 /bitstream/1807/24497/39/OAF_sub_sad.wav\n",
      "1840 /bitstream/1807/24497/40/OAF_south_sad.wav\n",
      "1841 /bitstream/1807/24497/41/OAF_sour_sad.wav\n",
      "1842 /bitstream/1807/24497/42/OAF_soup_sad.wav\n",
      "1843 /bitstream/1807/24497/43/OAF_soap_sad.wav\n",
      "1844 /bitstream/1807/24497/44/OAF_size_sad.wav\n",
      "1845 /bitstream/1807/24497/45/OAF_shout_sad.wav\n",
      "1846 /bitstream/1807/24497/46/OAF_should_sad.wav\n",
      "1847 /bitstream/1807/24497/47/OAF_shirt_sad.wav\n",
      "1848 /bitstream/1807/24497/48/OAF_sheep_sad.wav\n",
      "1849 /bitstream/1807/24497/49/OAF_shawl_sad.wav\n",
      "1850 /bitstream/1807/24497/50/OAF_shall_sad.wav\n",
      "1851 /bitstream/1807/24497/51/OAF_shack_sad.wav\n",
      "1852 /bitstream/1807/24497/52/OAF_sell_sad.wav\n",
      "1853 /bitstream/1807/24497/53/OAF_seize_sad.wav\n",
      "1854 /bitstream/1807/24497/54/OAF_search_sad.wav\n",
      "1855 /bitstream/1807/24497/55/OAF_sail_sad.wav\n",
      "1856 /bitstream/1807/24497/56/OAF_said_sad.wav\n"
     ]
    },
    {
     "name": "stdout",
     "output_type": "stream",
     "text": [
      "1857 /bitstream/1807/24497/57/OAF_rush_sad.wav\n",
      "1858 /bitstream/1807/24497/58/OAF_rough_sad.wav\n",
      "1859 /bitstream/1807/24497/59/OAF_rot_sad.wav\n",
      "1860 /bitstream/1807/24497/60/OAF_rose_sad.wav\n",
      "1861 /bitstream/1807/24497/61/OAF_room_sad.wav\n",
      "1862 /bitstream/1807/24497/62/OAF_road_sad.wav\n",
      "1863 /bitstream/1807/24497/63/OAF_ripe_sad.wav\n",
      "1864 /bitstream/1807/24497/64/OAF_ring_sad.wav\n",
      "1865 /bitstream/1807/24497/65/OAF_red_sad.wav\n",
      "1866 /bitstream/1807/24497/66/OAF_read_sad.wav\n",
      "1867 /bitstream/1807/24497/67/OAF_reach_sad.wav\n",
      "1868 /bitstream/1807/24497/68/OAF_rat_sad.wav\n",
      "1869 /bitstream/1807/24497/69/OAF_raise_sad.wav\n",
      "1870 /bitstream/1807/24497/70/OAF_rain_sad.wav\n",
      "1871 /bitstream/1807/24497/71/OAF_raid_sad.wav\n",
      "1872 /bitstream/1807/24497/72/OAF_rag_sad.wav\n",
      "1873 /bitstream/1807/24497/73/OAF_puff_sad.wav\n",
      "1874 /bitstream/1807/24497/74/OAF_pool_sad.wav\n",
      "1875 /bitstream/1807/24497/75/OAF_pole_sad.wav\n",
      "1876 /bitstream/1807/24497/76/OAF_pike_sad.wav\n",
      "1877 /bitstream/1807/24497/77/OAF_pick_sad.wav\n",
      "1878 /bitstream/1807/24497/78/OAF_phone_sad.wav\n",
      "1879 /bitstream/1807/24497/79/OAF_perch_sad.wav\n",
      "1880 /bitstream/1807/24497/80/OAF_peg_sad.wav\n",
      "1881 /bitstream/1807/24497/81/OAF_pearl_sad.wav\n",
      "1882 /bitstream/1807/24497/82/OAF_pass_sad.wav\n",
      "1883 /bitstream/1807/24497/83/OAF_pain_sad.wav\n",
      "1884 /bitstream/1807/24497/84/OAF_page_sad.wav\n",
      "1885 /bitstream/1807/24497/85/OAF_pad_sad.wav\n",
      "1886 /bitstream/1807/24497/86/OAF_numb_sad.wav\n",
      "1887 /bitstream/1807/24497/87/OAF_note_sad.wav\n",
      "1888 /bitstream/1807/24497/88/OAF_nice_sad.wav\n",
      "1889 /bitstream/1807/24497/89/OAF_neat_sad.wav\n",
      "1890 /bitstream/1807/24497/90/OAF_near_sad.wav\n",
      "1891 /bitstream/1807/24497/91/OAF_name_sad.wav\n",
      "1892 /bitstream/1807/24497/92/OAF_nag_sad.wav\n",
      "1893 /bitstream/1807/24497/93/OAF_mouse_sad.wav\n",
      "1894 /bitstream/1807/24497/94/OAF_mop_sad.wav\n",
      "1895 /bitstream/1807/24497/95/OAF_moon_sad.wav\n",
      "1896 /bitstream/1807/24497/96/OAF_mood_sad.wav\n",
      "1897 /bitstream/1807/24497/97/OAF_mode_sad.wav\n",
      "1898 /bitstream/1807/24497/98/OAF_mob_sad.wav\n",
      "1899 /bitstream/1807/24497/99/OAF_mill_sad.wav\n",
      "1900 /bitstream/1807/24497/100/OAF_met_sad.wav\n",
      "1901 /bitstream/1807/24497/101/OAF_mess_sad.wav\n",
      "1902 /bitstream/1807/24497/102/OAF_merge_sad.wav\n",
      "1903 /bitstream/1807/24497/103/OAF_match_sad.wav\n",
      "1904 /bitstream/1807/24497/104/OAF_make_sad.wav\n",
      "1905 /bitstream/1807/24497/105/OAF_luck_sad.wav\n",
      "1906 /bitstream/1807/24497/106/OAF_love_sad.wav\n",
      "1907 /bitstream/1807/24497/107/OAF_lot_sad.wav\n",
      "1908 /bitstream/1807/24497/108/OAF_lose_sad.wav\n",
      "1909 /bitstream/1807/24497/109/OAF_lore_sad.wav\n",
      "1910 /bitstream/1807/24497/110/OAF_long_sad.wav\n",
      "1911 /bitstream/1807/24497/111/OAF_loaf_sad.wav\n",
      "1912 /bitstream/1807/24497/112/OAF_live_sad.wav\n",
      "1913 /bitstream/1807/24497/113/OAF_limb_sad.wav\n",
      "1914 /bitstream/1807/24497/114/OAF_life_sad.wav\n",
      "1915 /bitstream/1807/24497/115/OAF_lid_sad.wav\n",
      "1916 /bitstream/1807/24497/116/OAF_lease_sad.wav\n",
      "1917 /bitstream/1807/24497/117/OAF_learn_sad.wav\n",
      "1918 /bitstream/1807/24497/118/OAF_lean_sad.wav\n",
      "1919 /bitstream/1807/24497/119/OAF_laud_sad.wav\n",
      "1920 /bitstream/1807/24497/120/OAF_late_sad.wav\n",
      "1921 /bitstream/1807/24497/121/OAF_knock_sad.wav\n",
      "1922 /bitstream/1807/24497/122/OAF_kite_sad.wav\n",
      "1923 /bitstream/1807/24497/123/OAF_king_sad.wav\n",
      "1924 /bitstream/1807/24497/124/OAF_kill_sad.wav\n",
      "1925 /bitstream/1807/24497/125/OAF_kick_sad.wav\n",
      "1926 /bitstream/1807/24497/126/OAF_keg_sad.wav\n",
      "1927 /bitstream/1807/24497/127/OAF_keep_sad.wav\n",
      "1928 /bitstream/1807/24497/128/OAF_keen_sad.wav\n",
      "1929 /bitstream/1807/24497/129/OAF_juice_sad.wav\n",
      "1930 /bitstream/1807/24497/130/OAF_jug_sad.wav\n",
      "1931 /bitstream/1807/24497/131/OAF_judge_sad.wav\n",
      "1932 /bitstream/1807/24497/132/OAF_join_sad.wav\n",
      "1933 /bitstream/1807/24497/133/OAF_jar_sad.wav\n",
      "1934 /bitstream/1807/24497/134/OAF_jail_sad.wav\n",
      "1935 /bitstream/1807/24497/135/OAF_hush_sad.wav\n",
      "1936 /bitstream/1807/24497/136/OAF_hurl_sad.wav\n",
      "1937 /bitstream/1807/24497/137/OAF_home_sad.wav\n",
      "1938 /bitstream/1807/24497/138/OAF_hole_sad.wav\n",
      "1939 /bitstream/1807/24497/139/OAF_hit_sad.wav\n",
      "1940 /bitstream/1807/24497/140/OAF_hire_sad.wav\n",
      "1941 /bitstream/1807/24497/141/OAF_haze_sad.wav\n",
      "1942 /bitstream/1807/24497/142/OAF_have_sad.wav\n",
      "1943 /bitstream/1807/24497/143/OAF_hate_sad.wav\n",
      "1944 /bitstream/1807/24497/144/OAF_hash_sad.wav\n",
      "1945 /bitstream/1807/24497/145/OAF_hall_sad.wav\n",
      "1946 /bitstream/1807/24497/146/OAF_half_sad.wav\n",
      "1947 /bitstream/1807/24497/147/OAF_gun_sad.wav\n",
      "1948 /bitstream/1807/24497/148/OAF_goose_sad.wav\n",
      "1949 /bitstream/1807/24497/149/OAF_good_sad.wav\n",
      "1950 /bitstream/1807/24497/150/OAF_goal_sad.wav\n",
      "1951 /bitstream/1807/24497/151/OAF_gin_sad.wav\n",
      "1952 /bitstream/1807/24497/152/OAF_get_sad.wav\n",
      "1953 /bitstream/1807/24497/153/OAF_germ_sad.wav\n",
      "1954 /bitstream/1807/24497/154/OAF_gaze_sad.wav\n",
      "1955 /bitstream/1807/24497/155/OAF_gas_sad.wav\n",
      "1956 /bitstream/1807/24497/156/OAF_gap_sad.wav\n",
      "1957 /bitstream/1807/24497/157/OAF_food_sad.wav\n",
      "1958 /bitstream/1807/24497/158/OAF_five_sad.wav\n",
      "1959 /bitstream/1807/24497/159/OAF_fit_sad.wav\n",
      "1960 /bitstream/1807/24497/160/OAF_fat_sad.wav\n",
      "1961 /bitstream/1807/24497/161/OAF_far_sad.wav\n",
      "1962 /bitstream/1807/24497/162/OAF_fall_sad.wav\n",
      "1963 /bitstream/1807/24497/163/OAF_fail_sad.wav\n",
      "1964 /bitstream/1807/24497/164/OAF_door_sad.wav\n",
      "1965 /bitstream/1807/24497/165/OAF_doll_sad.wav\n",
      "1966 /bitstream/1807/24497/166/OAF_dog_sad.wav\n",
      "1967 /bitstream/1807/24497/167/OAF_dodge_sad.wav\n",
      "1968 /bitstream/1807/24497/168/OAF_ditch_sad.wav\n",
      "1969 /bitstream/1807/24497/169/OAF_dip_sad.wav\n",
      "1970 /bitstream/1807/24497/170/OAF_dime_sad.wav\n",
      "1971 /bitstream/1807/24497/171/OAF_deep_sad.wav\n",
      "1972 /bitstream/1807/24497/172/OAF_death_sad.wav\n",
      "1973 /bitstream/1807/24497/173/OAF_dead_sad.wav\n",
      "1974 /bitstream/1807/24497/174/OAF_date_sad.wav\n",
      "1975 /bitstream/1807/24497/175/OAF_dab_sad.wav\n",
      "1976 /bitstream/1807/24497/176/OAF_cool_sad.wav\n",
      "1977 /bitstream/1807/24497/177/OAF_choice_sad.wav\n",
      "1978 /bitstream/1807/24497/178/OAF_chief_sad.wav\n",
      "1979 /bitstream/1807/24497/179/OAF_cheek_sad.wav\n",
      "1980 /bitstream/1807/24497/180/OAF_check_sad.wav\n",
      "1981 /bitstream/1807/24497/181/OAF_chat_sad.wav\n",
      "1982 /bitstream/1807/24497/182/OAF_chalk_sad.wav\n",
      "1983 /bitstream/1807/24497/183/OAF_chair_sad.wav\n",
      "1984 /bitstream/1807/24497/184/OAF_chain_sad.wav\n",
      "1985 /bitstream/1807/24497/185/OAF_cause_sad.wav\n",
      "1986 /bitstream/1807/24497/186/OAF_came_sad.wav\n",
      "1987 /bitstream/1807/24497/187/OAF_calm_sad.wav\n",
      "1988 /bitstream/1807/24497/188/OAF_cab_sad.wav\n",
      "1989 /bitstream/1807/24497/189/OAF_burn_sad.wav\n",
      "1990 /bitstream/1807/24497/190/OAF_bought_sad.wav\n",
      "1991 /bitstream/1807/24497/191/OAF_book_sad.wav\n",
      "1992 /bitstream/1807/24497/192/OAF_bone_sad.wav\n",
      "1993 /bitstream/1807/24497/193/OAF_boat_sad.wav\n",
      "1994 /bitstream/1807/24497/194/OAF_bite_sad.wav\n",
      "1995 /bitstream/1807/24497/195/OAF_beg_sad.wav\n",
      "1996 /bitstream/1807/24497/196/OAF_bean_sad.wav\n",
      "1997 /bitstream/1807/24497/197/OAF_bath_sad.wav\n",
      "1998 /bitstream/1807/24497/198/OAF_base_sad.wav\n",
      "1999 /bitstream/1807/24497/199/OAF_bar_sad.wav\n",
      "2000 /bitstream/1807/24497/200/OAF_back_sad.wav\n",
      "2001 /bitstream/1807/24498/1/YAF_youth_disgust.wav\n",
      "2002 /bitstream/1807/24498/2/YAF_young_disgust.wav\n",
      "2003 /bitstream/1807/24498/3/YAF_yes_disgust.wav\n",
      "2004 /bitstream/1807/24498/4/YAF_yearn_disgust.wav\n",
      "2005 /bitstream/1807/24498/5/YAF_witch_disgust.wav\n",
      "2006 /bitstream/1807/24498/6/YAF_wire_disgust.wav\n",
      "2007 /bitstream/1807/24498/7/YAF_wife_disgust.wav\n",
      "2008 /bitstream/1807/24498/8/YAF_white_disgust.wav\n",
      "2009 /bitstream/1807/24498/9/YAF_whip_disgust.wav\n",
      "2010 /bitstream/1807/24498/10/YAF_which_disgust.wav\n",
      "2011 /bitstream/1807/24498/11/YAF_when_disgust.wav\n",
      "2012 /bitstream/1807/24498/12/YAF_wheat_disgust.wav\n",
      "2013 /bitstream/1807/24498/13/YAF_week_disgust.wav\n",
      "2014 /bitstream/1807/24498/14/YAF_wash_disgust.wav\n",
      "2015 /bitstream/1807/24498/15/YAF_walk_disgust.wav\n",
      "2016 /bitstream/1807/24498/16/YAF_wag_disgust.wav\n",
      "2017 /bitstream/1807/24498/17/YAF_vote_disgust.wav\n",
      "2018 /bitstream/1807/24498/18/YAF_void_disgust.wav\n",
      "2019 /bitstream/1807/24498/19/YAF_voice_disgust.wav\n",
      "2020 /bitstream/1807/24498/20/YAF_vine_disgust.wav\n",
      "2021 /bitstream/1807/24498/21/YAF_turn_disgust.wav\n",
      "2022 /bitstream/1807/24498/22/YAF_tough_disgust.wav\n",
      "2023 /bitstream/1807/24498/23/YAF_tool_disgust.wav\n",
      "2024 /bitstream/1807/24498/24/YAF_ton_disgust.wav\n",
      "2025 /bitstream/1807/24498/25/YAF_tire_disgust.wav\n",
      "2026 /bitstream/1807/24498/26/YAF_tip_disgust.wav\n",
      "2027 /bitstream/1807/24498/27/YAF_time_disgust.wav\n"
     ]
    },
    {
     "name": "stdout",
     "output_type": "stream",
     "text": [
      "2028 /bitstream/1807/24498/28/YAF_thumb_disgust.wav\n",
      "2029 /bitstream/1807/24498/29/YAF_thought_disgust.wav\n",
      "2030 /bitstream/1807/24498/30/YAF_third_disgust.wav\n",
      "2031 /bitstream/1807/24498/31/YAF_thin_disgust.wav\n",
      "2032 /bitstream/1807/24498/32/YAF_tell_disgust.wav\n",
      "2033 /bitstream/1807/24498/33/YAF_team_disgust.wav\n",
      "2034 /bitstream/1807/24498/34/YAF_tape_disgust.wav\n",
      "2035 /bitstream/1807/24498/35/YAF_talk_disgust.wav\n",
      "2036 /bitstream/1807/24498/36/YAF_take_disgust.wav\n",
      "2037 /bitstream/1807/24498/37/YAF_sure_disgust.wav\n",
      "2038 /bitstream/1807/24498/38/YAF_such_disgust.wav\n",
      "2039 /bitstream/1807/24498/39/YAF_sub_disgust.wav\n",
      "2040 /bitstream/1807/24498/40/YAF_south_disgust.wav\n",
      "2041 /bitstream/1807/24498/41/YAF_sour_disgust.wav\n",
      "2042 /bitstream/1807/24498/42/YAF_soup_disgust.wav\n",
      "2043 /bitstream/1807/24498/43/YAF_soap_disgust.wav\n",
      "2044 /bitstream/1807/24498/44/YAF_size_disgust.wav\n",
      "2045 /bitstream/1807/24498/45/YAF_shout_disgust.wav\n",
      "2046 /bitstream/1807/24498/46/YAF_should_disgust.wav\n",
      "2047 /bitstream/1807/24498/47/YAF_shirt_disgust.wav\n",
      "2048 /bitstream/1807/24498/48/YAF_sheep_disgust.wav\n",
      "2049 /bitstream/1807/24498/49/YAF_shawl_disgust.wav\n",
      "2050 /bitstream/1807/24498/50/YAF_shall_disgust.wav\n",
      "2051 /bitstream/1807/24498/51/YAF_shack_disgust.wav\n",
      "2052 /bitstream/1807/24498/52/YAF_sell_disgust.wav\n",
      "2053 /bitstream/1807/24498/53/YAF_seize_disgust.wav\n",
      "2054 /bitstream/1807/24498/54/YAF_search_disgust.wav\n",
      "2055 /bitstream/1807/24498/55/YAF_sail_disgust.wav\n",
      "2056 /bitstream/1807/24498/56/YAF_said_disgust.wav\n",
      "2057 /bitstream/1807/24498/57/YAF_rush_disgust.wav\n",
      "2058 /bitstream/1807/24498/58/YAF_rough_disgust.wav\n",
      "2059 /bitstream/1807/24498/59/YAF_rot_disgust.wav\n",
      "2060 /bitstream/1807/24498/60/YAF_rose_disgust.wav\n",
      "2061 /bitstream/1807/24498/61/YAF_room_disgust.wav\n",
      "2062 /bitstream/1807/24498/62/YAF_road_disgust.wav\n",
      "2063 /bitstream/1807/24498/63/YAF_ripe_disgust.wav\n",
      "2064 /bitstream/1807/24498/64/YAF_ring_disgust.wav\n",
      "2065 /bitstream/1807/24498/65/YAF_red_disgust.wav\n",
      "2066 /bitstream/1807/24498/66/YAF_read_disgust.wav\n",
      "2067 /bitstream/1807/24498/67/YAF_reach_disgust.wav\n",
      "2068 /bitstream/1807/24498/68/YAF_rat_disgust.wav\n",
      "2069 /bitstream/1807/24498/69/YAF_raise_disgust.wav\n",
      "2070 /bitstream/1807/24498/70/YAF_rain_disgust.wav\n",
      "2071 /bitstream/1807/24498/71/YAF_raid_disgust.wav\n",
      "2072 /bitstream/1807/24498/72/YAF_rag_disgust.wav\n",
      "2073 /bitstream/1807/24498/73/YAF_puff_disgust.wav\n",
      "2074 /bitstream/1807/24498/74/YAF_pool_disgust.wav\n",
      "2075 /bitstream/1807/24498/75/YAF_pole_disgust.wav\n",
      "2076 /bitstream/1807/24498/76/YAF_pike_disgust.wav\n",
      "2077 /bitstream/1807/24498/77/YAF_pick_disgust.wav\n",
      "2078 /bitstream/1807/24498/78/YAF_phone_disgust.wav\n",
      "2079 /bitstream/1807/24498/79/YAF_perch_disgust.wav\n",
      "2080 /bitstream/1807/24498/80/YAF_peg_disgust.wav\n",
      "2081 /bitstream/1807/24498/81/YAF_pearl_disgust.wav\n",
      "2082 /bitstream/1807/24498/82/YAF_pass_disgust.wav\n",
      "2083 /bitstream/1807/24498/83/YAF_pain_disgust.wav\n",
      "2084 /bitstream/1807/24498/84/YAF_page_disgust.wav\n",
      "2085 /bitstream/1807/24498/85/YAF_pad_disgust.wav\n",
      "2086 /bitstream/1807/24498/86/YAF_numb_disgust.wav\n",
      "2087 /bitstream/1807/24498/87/YAF_note_disgust.wav\n",
      "2088 /bitstream/1807/24498/88/YAF_nice_disgust.wav\n",
      "2089 /bitstream/1807/24498/89/YAF_neat_disgust.wav\n",
      "2090 /bitstream/1807/24498/90/YAF_near_disgust.wav\n",
      "2091 /bitstream/1807/24498/91/YAF_name_disgust.wav\n",
      "2092 /bitstream/1807/24498/92/YAF_nag_disgust.wav\n",
      "2093 /bitstream/1807/24498/93/YAF_mouse_disgust.wav\n",
      "2094 /bitstream/1807/24498/94/YAF_mop_disgust.wav\n",
      "2095 /bitstream/1807/24498/95/YAF_moon_disgust.wav\n",
      "2096 /bitstream/1807/24498/96/YAF_mood_disgust.wav\n",
      "2097 /bitstream/1807/24498/97/YAF_mode_disgust.wav\n",
      "2098 /bitstream/1807/24498/98/YAF_mob_disgust.wav\n",
      "2099 /bitstream/1807/24498/99/YAF_mill_disgust.wav\n",
      "2100 /bitstream/1807/24498/100/YAF_met_disgust.wav\n",
      "2101 /bitstream/1807/24498/101/YAF_mess_disgust.wav\n",
      "2102 /bitstream/1807/24498/102/YAF_merge_disgust.wav\n",
      "2103 /bitstream/1807/24498/103/YAF_match_disgust.wav\n",
      "2104 /bitstream/1807/24498/104/YAF_make_disgust.wav\n",
      "2105 /bitstream/1807/24498/105/YAF_luck_disgust.wav\n",
      "2106 /bitstream/1807/24498/106/YAF_love_disgust.wav\n",
      "2107 /bitstream/1807/24498/107/YAF_lot_disgust.wav\n",
      "2108 /bitstream/1807/24498/108/YAF_lose_disgust.wav\n",
      "2109 /bitstream/1807/24498/109/YAF_lore_disgust.wav\n",
      "2110 /bitstream/1807/24498/110/YAF_long_disgust.wav\n",
      "2111 /bitstream/1807/24498/111/YAF_loaf_disgust.wav\n",
      "2112 /bitstream/1807/24498/112/YAF_live_disgust.wav\n",
      "2113 /bitstream/1807/24498/113/YAF_limb_disgust.wav\n",
      "2114 /bitstream/1807/24498/114/YAF_life_disgust.wav\n",
      "2115 /bitstream/1807/24498/115/YAF_lid_disgust.wav\n",
      "2116 /bitstream/1807/24498/116/YAF_lease_disgust.wav\n",
      "2117 /bitstream/1807/24498/117/YAF_learn_disgust.wav\n",
      "2118 /bitstream/1807/24498/118/YAF_lean_disgust.wav\n",
      "2119 /bitstream/1807/24498/119/YAF_laud_disgust.wav\n",
      "2120 /bitstream/1807/24498/120/YAF_late_disgust.wav\n",
      "2121 /bitstream/1807/24498/121/YAF_knock_disgust.wav\n",
      "2122 /bitstream/1807/24498/122/YAF_kite_disgust.wav\n",
      "2123 /bitstream/1807/24498/123/YAF_king_disgust.wav\n",
      "2124 /bitstream/1807/24498/124/YAF_kill_disgust.wav\n",
      "2125 /bitstream/1807/24498/125/YAF_kick_disgust.wav\n",
      "2126 /bitstream/1807/24498/126/YAF_keg_disgust.wav\n",
      "2127 /bitstream/1807/24498/127/YAF_keep_disgust.wav\n",
      "2128 /bitstream/1807/24498/128/YAF_keen_disgust.wav\n",
      "2129 /bitstream/1807/24498/129/YAF_juice_disgust.wav\n",
      "2130 /bitstream/1807/24498/130/YAF_jug_disgust.wav\n",
      "2131 /bitstream/1807/24498/131/YAF_judge_disgust.wav\n",
      "2132 /bitstream/1807/24498/132/YAF_join_disgust.wav\n",
      "2133 /bitstream/1807/24498/133/YAF_jar_disgust.wav\n",
      "2134 /bitstream/1807/24498/134/YAF_jail_disgust.wav\n",
      "2135 /bitstream/1807/24498/135/YAF_hush_disgust.wav\n",
      "2136 /bitstream/1807/24498/136/YAF_hurl_disgust.wav\n",
      "2137 /bitstream/1807/24498/137/YAF_home_disgust.wav\n",
      "2138 /bitstream/1807/24498/138/YAF_hole_disgust.wav\n",
      "2139 /bitstream/1807/24498/139/YAF_hit_disgust.wav\n",
      "2140 /bitstream/1807/24498/140/YAF_hire_disgust.wav\n",
      "2141 /bitstream/1807/24498/141/YAF_haze_disgust.wav\n",
      "2142 /bitstream/1807/24498/142/YAF_have_disgust.wav\n",
      "2143 /bitstream/1807/24498/143/YAF_hate_disgust.wav\n",
      "2144 /bitstream/1807/24498/144/YAF_hash_disgust.wav\n",
      "2145 /bitstream/1807/24498/145/YAF_hall_disgust.wav\n",
      "2146 /bitstream/1807/24498/146/YAF_half_disgust.wav\n",
      "2147 /bitstream/1807/24498/147/YAF_gun_disgust.wav\n",
      "2148 /bitstream/1807/24498/148/YAF_goose_disgust.wav\n",
      "2149 /bitstream/1807/24498/149/YAF_good_disgust.wav\n",
      "2150 /bitstream/1807/24498/150/YAF_goal_disgust.wav\n",
      "2151 /bitstream/1807/24498/151/YAF_gin_disgust.wav\n",
      "2152 /bitstream/1807/24498/152/YAF_get_disgust.wav\n",
      "2153 /bitstream/1807/24498/153/YAF_germ_disgust.wav\n",
      "2154 /bitstream/1807/24498/154/YAF_gaze_disgust.wav\n",
      "2155 /bitstream/1807/24498/155/YAF_gas_disgust.wav\n",
      "2156 /bitstream/1807/24498/156/YAF_gap_disgust.wav\n",
      "2157 /bitstream/1807/24498/157/YAF_food_disgust.wav\n",
      "2158 /bitstream/1807/24498/158/YAF_five_disgust.wav\n",
      "2159 /bitstream/1807/24498/159/YAF_fit_disgust.wav\n",
      "2160 /bitstream/1807/24498/160/YAF_fat_disgust.wav\n",
      "2161 /bitstream/1807/24498/161/YAF_far_disgust.wav\n",
      "2162 /bitstream/1807/24498/162/YAF_fall_disgust.wav\n",
      "2163 /bitstream/1807/24498/163/YAF_fail_disgust.wav\n",
      "2164 /bitstream/1807/24498/164/YAF_door_disgust.wav\n",
      "2165 /bitstream/1807/24498/165/YAF_doll_disgust.wav\n",
      "2166 /bitstream/1807/24498/166/YAF_dog_disgust.wav\n",
      "2167 /bitstream/1807/24498/167/YAF_dodge_disgust.wav\n",
      "2168 /bitstream/1807/24498/168/YAF_ditch_disgust.wav\n",
      "2169 /bitstream/1807/24498/169/YAF_dip_disgust.wav\n",
      "2170 /bitstream/1807/24498/170/YAF_dime_disgust.wav\n",
      "2171 /bitstream/1807/24498/171/YAF_deep_disgust.wav\n",
      "2172 /bitstream/1807/24498/172/YAF_death_disgust.wav\n",
      "2173 /bitstream/1807/24498/173/YAF_dead_disgust.wav\n",
      "2174 /bitstream/1807/24498/174/YAF_date_disgust.wav\n",
      "2175 /bitstream/1807/24498/175/YAF_dab_disgust.wav\n",
      "2176 /bitstream/1807/24498/176/YAF_cool_disgust.wav\n",
      "2177 /bitstream/1807/24498/177/YAF_choice_disgust.wav\n",
      "2178 /bitstream/1807/24498/178/YAF_chief_disgust.wav\n",
      "2179 /bitstream/1807/24498/179/YAF_cheek_disgust.wav\n",
      "2180 /bitstream/1807/24498/180/YAF_check_disgust.wav\n",
      "2181 /bitstream/1807/24498/181/YAF_chat_disgust.wav\n",
      "2182 /bitstream/1807/24498/182/YAF_chalk_disgust.wav\n",
      "2183 /bitstream/1807/24498/183/YAF_chair_disgust.wav\n",
      "2184 /bitstream/1807/24498/184/YAF_chain_disgust.wav\n",
      "2185 /bitstream/1807/24498/185/YAF_cause_disgust.wav\n",
      "2186 /bitstream/1807/24498/186/YAF_came_disgust.wav\n"
     ]
    },
    {
     "name": "stdout",
     "output_type": "stream",
     "text": [
      "2187 /bitstream/1807/24498/187/YAF_calm_disgust.wav\n",
      "2188 /bitstream/1807/24498/188/YAF_cab_disgust.wav\n",
      "2189 /bitstream/1807/24498/189/YAF_burn_disgust.wav\n",
      "2190 /bitstream/1807/24498/190/YAF_bought_disgust.wav\n",
      "2191 /bitstream/1807/24498/191/YAF_book_disgust.wav\n",
      "2192 /bitstream/1807/24498/192/YAF_bone_disgust.wav\n",
      "2193 /bitstream/1807/24498/193/YAF_boat_disgust.wav\n",
      "2194 /bitstream/1807/24498/194/YAF_bite_disgust.wav\n",
      "2195 /bitstream/1807/24498/195/YAF_beg_disgust.wav\n",
      "2196 /bitstream/1807/24498/196/YAF_bean_disgust.wav\n",
      "2197 /bitstream/1807/24498/197/YAF_bath_disgust.wav\n",
      "2198 /bitstream/1807/24498/198/YAF_base_disgust.wav\n",
      "2199 /bitstream/1807/24498/199/YAF_bar_disgust.wav\n",
      "2200 /bitstream/1807/24498/200/YAF_back_disgust.wav\n",
      "2201 /bitstream/1807/24499/1/OAF_youth_angry.wav\n",
      "2202 /bitstream/1807/24499/2/OAF_young_angry.wav\n",
      "2203 /bitstream/1807/24499/3/OAF_yes_angry.wav\n",
      "2204 /bitstream/1807/24499/4/OAF_yearn_angry.wav\n",
      "2205 /bitstream/1807/24499/5/OAF_witch_angry.wav\n",
      "2206 /bitstream/1807/24499/6/OAF_wire_angry.wav\n",
      "2207 /bitstream/1807/24499/7/OAF_wife_angry.wav\n",
      "2208 /bitstream/1807/24499/8/OAF_white_angry.wav\n",
      "2209 /bitstream/1807/24499/9/OAF_whip_angry.wav\n",
      "2210 /bitstream/1807/24499/10/OAF_which_angry.wav\n",
      "2211 /bitstream/1807/24499/11/OAF_when_angry.wav\n",
      "2212 /bitstream/1807/24499/12/OAF_wheat_angry.wav\n",
      "2213 /bitstream/1807/24499/13/OAF_week_angry.wav\n",
      "2214 /bitstream/1807/24499/14/OAF_wash_angry.wav\n",
      "2215 /bitstream/1807/24499/15/OAF_walk_angry.wav\n",
      "2216 /bitstream/1807/24499/16/OAF_wag_angry.wav\n",
      "2217 /bitstream/1807/24499/17/OAF_vote_angry.wav\n",
      "2218 /bitstream/1807/24499/18/OAF_void_angry.wav\n",
      "2219 /bitstream/1807/24499/19/OAF_voice_angry.wav\n",
      "2220 /bitstream/1807/24499/20/OAF_vine_angry.wav\n",
      "2221 /bitstream/1807/24499/21/OAF_turn_angry.wav\n",
      "2222 /bitstream/1807/24499/22/OAF_tough_angry.wav\n",
      "2223 /bitstream/1807/24499/23/OAF_tool_angry.wav\n",
      "2224 /bitstream/1807/24499/24/OAF_ton_angry.wav\n",
      "2225 /bitstream/1807/24499/25/OAF_tire_angry.wav\n",
      "2226 /bitstream/1807/24499/26/OAF_tip_angry.wav\n",
      "2227 /bitstream/1807/24499/27/OAF_time_angry.wav\n",
      "2228 /bitstream/1807/24499/28/OAF_thumb_angry.wav\n",
      "2229 /bitstream/1807/24499/29/OAF_thought_angry.wav\n",
      "2230 /bitstream/1807/24499/30/OAF_third_angry.wav\n",
      "2231 /bitstream/1807/24499/31/OAF_thin_angry.wav\n",
      "2232 /bitstream/1807/24499/32/OAF_tell_angry.wav\n",
      "2233 /bitstream/1807/24499/33/OAF_team_angry.wav\n",
      "2234 /bitstream/1807/24499/34/OAF_tape_angry.wav\n",
      "2235 /bitstream/1807/24499/35/OAF_talk_angry.wav\n",
      "2236 /bitstream/1807/24499/36/OAF_take_angry.wav\n",
      "2237 /bitstream/1807/24499/37/OAF_sure_angry.wav\n",
      "2238 /bitstream/1807/24499/38/OAF_such_angry.wav\n",
      "2239 /bitstream/1807/24499/39/OAF_sub_angry.wav\n",
      "2240 /bitstream/1807/24499/40/OAF_south_angry.wav\n",
      "2241 /bitstream/1807/24499/41/OAF_sour_angry.wav\n",
      "2242 /bitstream/1807/24499/42/OAF_soup_angry.wav\n",
      "2243 /bitstream/1807/24499/43/OAF_soap_angry.wav\n",
      "2244 /bitstream/1807/24499/44/OAF_size_angry.wav\n",
      "2245 /bitstream/1807/24499/45/OAF_shout_angry.wav\n",
      "2246 /bitstream/1807/24499/46/OAF_should_angry.wav\n",
      "2247 /bitstream/1807/24499/47/OAF_shirt_angry.wav\n",
      "2248 /bitstream/1807/24499/48/OAF_sheep_angry.wav\n",
      "2249 /bitstream/1807/24499/49/OAF_shawl_angry.wav\n",
      "2250 /bitstream/1807/24499/50/OAF_shall_angry.wav\n",
      "2251 /bitstream/1807/24499/51/OAF_shack_angry.wav\n",
      "2252 /bitstream/1807/24499/52/OAF_sell_angry.wav\n",
      "2253 /bitstream/1807/24499/53/OAF_seize_angry.wav\n",
      "2254 /bitstream/1807/24499/54/OAF_search_angry.wav\n",
      "2255 /bitstream/1807/24499/55/OAF_sail_angry.wav\n",
      "2256 /bitstream/1807/24499/56/OAF_said_angry.wav\n",
      "2257 /bitstream/1807/24499/57/OAF_rush_angry.wav\n",
      "2258 /bitstream/1807/24499/58/OAF_rough_angry.wav\n",
      "2259 /bitstream/1807/24499/59/OAF_rot_angry.wav\n",
      "2260 /bitstream/1807/24499/60/OAF_rose_angry.wav\n",
      "2261 /bitstream/1807/24499/61/OAF_room_angry.wav\n",
      "2262 /bitstream/1807/24499/62/OAF_road_angry.wav\n",
      "2263 /bitstream/1807/24499/63/OAF_ripe_angry.wav\n",
      "2264 /bitstream/1807/24499/64/OAF_ring_angry.wav\n",
      "2265 /bitstream/1807/24499/65/OAF_red_angry.wav\n",
      "2266 /bitstream/1807/24499/66/OAF_read_angry.wav\n",
      "2267 /bitstream/1807/24499/67/OAF_reach_angry.wav\n",
      "2268 /bitstream/1807/24499/68/OAF_rat_angry.wav\n",
      "2269 /bitstream/1807/24499/69/OAF_raise_angry.wav\n",
      "2270 /bitstream/1807/24499/70/OAF_rain_angry.wav\n",
      "2271 /bitstream/1807/24499/71/OAF_raid_angry.wav\n",
      "2272 /bitstream/1807/24499/72/OAF_rag_angry.wav\n",
      "2273 /bitstream/1807/24499/73/OAF_puff_angry.wav\n",
      "2274 /bitstream/1807/24499/74/OAF_pool_angry.wav\n",
      "2275 /bitstream/1807/24499/75/OAF_pole_angry.wav\n",
      "2276 /bitstream/1807/24499/76/OAF_pike_angry.wav\n",
      "2277 /bitstream/1807/24499/77/OAF_pick_angry.wav\n",
      "2278 /bitstream/1807/24499/78/OAF_phone_angry.wav\n",
      "2279 /bitstream/1807/24499/79/OAF_perch_angry.wav\n",
      "2280 /bitstream/1807/24499/80/OAF_peg_angry.wav\n",
      "2281 /bitstream/1807/24499/81/OAF_pearl_angry.wav\n",
      "2282 /bitstream/1807/24499/82/OAF_pass_angry.wav\n",
      "2283 /bitstream/1807/24499/83/OAF_pain_angry.wav\n",
      "2284 /bitstream/1807/24499/84/OAF_page_angry.wav\n",
      "2285 /bitstream/1807/24499/85/OAF_pad_angry.wav\n",
      "2286 /bitstream/1807/24499/86/OAF_numb_angry.wav\n",
      "2287 /bitstream/1807/24499/87/OAF_note_angry.wav\n",
      "2288 /bitstream/1807/24499/88/OAF_nice_angry.wav\n",
      "2289 /bitstream/1807/24499/89/OAF_neat_angry.wav\n",
      "2290 /bitstream/1807/24499/90/OAF_near_angry.wav\n",
      "2291 /bitstream/1807/24499/91/OAF_name_angry.wav\n",
      "2292 /bitstream/1807/24499/92/OAF_nag_angry.wav\n",
      "2293 /bitstream/1807/24499/93/OAF_mouse_angry.wav\n",
      "2294 /bitstream/1807/24499/94/OAF_mop_angry.wav\n",
      "2295 /bitstream/1807/24499/95/OAF_moon_angry.wav\n",
      "2296 /bitstream/1807/24499/96/OAF_mood_angry.wav\n",
      "2297 /bitstream/1807/24499/97/OAF_mode_angry.wav\n",
      "2298 /bitstream/1807/24499/98/OAF_mob_angry.wav\n",
      "2299 /bitstream/1807/24499/99/OAF_mill_angry.wav\n",
      "2300 /bitstream/1807/24499/100/OAF_met_angry.wav\n",
      "2301 /bitstream/1807/24499/101/OAF_mess_angry.wav\n",
      "2302 /bitstream/1807/24499/102/OAF_merge_angry.wav\n",
      "2303 /bitstream/1807/24499/103/OAF_match_angry.wav\n",
      "2304 /bitstream/1807/24499/104/OAF_make_angry.wav\n",
      "2305 /bitstream/1807/24499/105/OAF_luck_angry.wav\n",
      "2306 /bitstream/1807/24499/106/OAF_love_angry.wav\n",
      "2307 /bitstream/1807/24499/107/OAF_lot_angry.wav\n",
      "2308 /bitstream/1807/24499/108/OAF_lose_angry.wav\n",
      "2309 /bitstream/1807/24499/109/OAF_lore_angry.wav\n",
      "2310 /bitstream/1807/24499/110/OAF_long_angry.wav\n",
      "2311 /bitstream/1807/24499/111/OAF_loaf_angry.wav\n",
      "2312 /bitstream/1807/24499/112/OAF_live_angry.wav\n",
      "2313 /bitstream/1807/24499/113/OAF_limb_angry.wav\n",
      "2314 /bitstream/1807/24499/114/OAF_life_angry.wav\n",
      "2315 /bitstream/1807/24499/115/OAF_lid_angry.wav\n",
      "2316 /bitstream/1807/24499/116/OAF_lease_angry.wav\n",
      "2317 /bitstream/1807/24499/117/OAF_learn_angry.wav\n",
      "2318 /bitstream/1807/24499/118/OAF_lean_angry.wav\n",
      "2319 /bitstream/1807/24499/119/OAF_laud_angry.wav\n",
      "2320 /bitstream/1807/24499/120/OAF_late_angry.wav\n",
      "2321 /bitstream/1807/24499/121/OAF_knock_angry.wav\n",
      "2322 /bitstream/1807/24499/122/OAF_kite_angry.wav\n",
      "2323 /bitstream/1807/24499/123/OAF_king_angry.wav\n",
      "2324 /bitstream/1807/24499/124/OAF_kill_angry.wav\n",
      "2325 /bitstream/1807/24499/125/OAF_kick_angry.wav\n",
      "2326 /bitstream/1807/24499/126/OAF_keg_angry.wav\n",
      "2327 /bitstream/1807/24499/127/OAF_keep_angry.wav\n",
      "2328 /bitstream/1807/24499/128/OAF_keen_angry.wav\n",
      "2329 /bitstream/1807/24499/129/OAF_juice_angry.wav\n",
      "2330 /bitstream/1807/24499/130/OAF_jug_angry.wav\n",
      "2331 /bitstream/1807/24499/131/OAF_judge_angry.wav\n",
      "2332 /bitstream/1807/24499/132/OAF_join_angry.wav\n",
      "2333 /bitstream/1807/24499/133/OAF_jar_angry.wav\n",
      "2334 /bitstream/1807/24499/134/OAF_jail_angry.wav\n",
      "2335 /bitstream/1807/24499/135/OAF_hush_angry.wav\n",
      "2336 /bitstream/1807/24499/136/OAF_hurl_angry.wav\n",
      "2337 /bitstream/1807/24499/137/OAF_home_angry.wav\n",
      "2338 /bitstream/1807/24499/138/OAF_hole_angry.wav\n",
      "2339 /bitstream/1807/24499/139/OAF_hit_angry.wav\n",
      "2340 /bitstream/1807/24499/140/OAF_hire_angry.wav\n",
      "2341 /bitstream/1807/24499/141/OAF_haze_angry.wav\n",
      "2342 /bitstream/1807/24499/142/OAF_have_angry.wav\n",
      "2343 /bitstream/1807/24499/143/OAF_hate_angry.wav\n",
      "2344 /bitstream/1807/24499/144/OAF_hash_angry.wav\n",
      "2345 /bitstream/1807/24499/145/OAF_hall_angry.wav\n",
      "2346 /bitstream/1807/24499/146/OAF_half_angry.wav\n",
      "2347 /bitstream/1807/24499/147/OAF_gun_angry.wav\n",
      "2348 /bitstream/1807/24499/148/OAF_goose_angry.wav\n",
      "2349 /bitstream/1807/24499/149/OAF_good_angry.wav\n",
      "2350 /bitstream/1807/24499/150/OAF_goal_angry.wav\n",
      "2351 /bitstream/1807/24499/151/OAF_gin_angry.wav\n",
      "2352 /bitstream/1807/24499/152/OAF_get_angry.wav\n"
     ]
    },
    {
     "name": "stdout",
     "output_type": "stream",
     "text": [
      "2353 /bitstream/1807/24499/153/OAF_germ_angry.wav\n",
      "2354 /bitstream/1807/24499/154/OAF_gaze_angry.wav\n",
      "2355 /bitstream/1807/24499/155/OAF_gas_angry.wav\n",
      "2356 /bitstream/1807/24499/156/OAF_gap_angry.wav\n",
      "2357 /bitstream/1807/24499/157/OAF_food_angry.wav\n",
      "2358 /bitstream/1807/24499/158/OAF_five_angry.wav\n",
      "2359 /bitstream/1807/24499/159/OAF_fit_angry.wav\n",
      "2360 /bitstream/1807/24499/160/OAF_fat_angry.wav\n",
      "2361 /bitstream/1807/24499/161/OAF_far_angry.wav\n",
      "2362 /bitstream/1807/24499/162/OAF_fall_angry.wav\n",
      "2363 /bitstream/1807/24499/163/OAF_fail_angry.wav\n",
      "2364 /bitstream/1807/24499/164/OAF_door_angry.wav\n",
      "2365 /bitstream/1807/24499/165/OAF_doll_angry.wav\n",
      "2366 /bitstream/1807/24499/166/OAF_dog_angry.wav\n",
      "2367 /bitstream/1807/24499/167/OAF_dodge_angry.wav\n",
      "2368 /bitstream/1807/24499/168/OAF_ditch_angry.wav\n",
      "2369 /bitstream/1807/24499/169/OAF_dip_angry.wav\n",
      "2370 /bitstream/1807/24499/170/OAF_dime_angry.wav\n",
      "2371 /bitstream/1807/24499/171/OAF_deep_angry.wav\n",
      "2372 /bitstream/1807/24499/172/OAF_death_angry.wav\n",
      "2373 /bitstream/1807/24499/173/OAF_dead_angry.wav\n",
      "2374 /bitstream/1807/24499/174/OAF_date_angry.wav\n",
      "2375 /bitstream/1807/24499/175/OAF_dab_angry.wav\n",
      "2376 /bitstream/1807/24499/176/OAF_cool_angry.wav\n",
      "2377 /bitstream/1807/24499/177/OAF_choice_angry.wav\n",
      "2378 /bitstream/1807/24499/178/OAF_chief_angry.wav\n",
      "2379 /bitstream/1807/24499/179/OAF_cheek_angry.wav\n",
      "2380 /bitstream/1807/24499/180/OAF_check_angry.wav\n",
      "2381 /bitstream/1807/24499/181/OAF_chat_angry.wav\n",
      "2382 /bitstream/1807/24499/182/OAF_chalk_angry.wav\n",
      "2383 /bitstream/1807/24499/183/OAF_chair_angry.wav\n",
      "2384 /bitstream/1807/24499/184/OAF_chain_angry.wav\n",
      "2385 /bitstream/1807/24499/185/OAF_cause_angry.wav\n",
      "2386 /bitstream/1807/24499/186/OAF_came_angry.wav\n",
      "2387 /bitstream/1807/24499/187/OAF_calm_angry.wav\n",
      "2388 /bitstream/1807/24499/188/OAF_cab_angry.wav\n",
      "2389 /bitstream/1807/24499/189/OAF_burn_angry.wav\n",
      "2390 /bitstream/1807/24499/190/OAF_bought_angry.wav\n",
      "2391 /bitstream/1807/24499/191/OAF_book_angry.wav\n",
      "2392 /bitstream/1807/24499/192/OAF_bone_angry.wav\n",
      "2393 /bitstream/1807/24499/193/OAF_boat_angry.wav\n",
      "2394 /bitstream/1807/24499/194/OAF_bite_angry.wav\n",
      "2395 /bitstream/1807/24499/195/OAF_beg_angry.wav\n",
      "2396 /bitstream/1807/24499/196/OAF_bean_angry.wav\n",
      "2397 /bitstream/1807/24499/197/OAF_bath_angry.wav\n",
      "2398 /bitstream/1807/24499/198/OAF_base_angry.wav\n",
      "2399 /bitstream/1807/24499/199/OAF_bar_angry.wav\n",
      "2400 /bitstream/1807/24499/200/OAF_back_angry.wav\n",
      "2401 /bitstream/1807/24500/1/YAF_youth_sad.wav\n",
      "2402 /bitstream/1807/24500/2/YAF_young_sad.wav\n",
      "2403 /bitstream/1807/24500/3/YAF_yes_sad.wav\n",
      "2404 /bitstream/1807/24500/4/YAF_yearn_sad.wav\n",
      "2405 /bitstream/1807/24500/5/YAF_witch_sad.wav\n",
      "2406 /bitstream/1807/24500/6/YAF_wire_sad.wav\n",
      "2407 /bitstream/1807/24500/7/YAF_wife_sad.wav\n",
      "2408 /bitstream/1807/24500/8/YAF_white_sad.wav\n",
      "2409 /bitstream/1807/24500/9/YAF_whip_sad.wav\n",
      "2410 /bitstream/1807/24500/10/YAF_which_sad.wav\n",
      "2411 /bitstream/1807/24500/11/YAF_when_sad.wav\n",
      "2412 /bitstream/1807/24500/12/YAF_wheat_sad.wav\n",
      "2413 /bitstream/1807/24500/13/YAF_week_sad.wav\n",
      "2414 /bitstream/1807/24500/14/YAF_wash_sad.wav\n",
      "2415 /bitstream/1807/24500/15/YAF_walk_sad.wav\n",
      "2416 /bitstream/1807/24500/16/YAF_wag_sad.wav\n",
      "2417 /bitstream/1807/24500/17/YAF_vote_sad.wav\n",
      "2418 /bitstream/1807/24500/18/YAF_void_sad.wav\n",
      "2419 /bitstream/1807/24500/19/YAF_voice_sad.wav\n",
      "2420 /bitstream/1807/24500/20/YAF_vine_sad.wav\n",
      "2421 /bitstream/1807/24500/21/YAF_turn_sad.wav\n",
      "2422 /bitstream/1807/24500/22/YAF_tough_sad.wav\n",
      "2423 /bitstream/1807/24500/23/YAF_tool_sad.wav\n",
      "2424 /bitstream/1807/24500/24/YAF_ton_sad.wav\n",
      "2425 /bitstream/1807/24500/25/YAF_tire_sad.wav\n",
      "2426 /bitstream/1807/24500/26/YAF_tip_sad.wav\n",
      "2427 /bitstream/1807/24500/27/YAF_time_sad.wav\n",
      "2428 /bitstream/1807/24500/28/YAF_thumb_sad.wav\n",
      "2429 /bitstream/1807/24500/29/YAF_thought_sad.wav\n",
      "2430 /bitstream/1807/24500/30/YAF_third_sad.wav\n",
      "2431 /bitstream/1807/24500/31/YAF_thin_sad.wav\n",
      "2432 /bitstream/1807/24500/32/YAF_tell_sad.wav\n",
      "2433 /bitstream/1807/24500/33/YAF_team_sad.wav\n",
      "2434 /bitstream/1807/24500/34/YAF_tape_sad.wav\n",
      "2435 /bitstream/1807/24500/35/YAF_talk_sad.wav\n",
      "2436 /bitstream/1807/24500/36/YAF_take_sad.wav\n",
      "2437 /bitstream/1807/24500/37/YAF_sure_sad.wav\n",
      "2438 /bitstream/1807/24500/38/YAF_such_sad.wav\n",
      "2439 /bitstream/1807/24500/39/YAF_sub_sad.wav\n",
      "2440 /bitstream/1807/24500/40/YAF_south_sad.wav\n",
      "2441 /bitstream/1807/24500/41/YAF_sour_sad.wav\n",
      "2442 /bitstream/1807/24500/42/YAF_soup_sad.wav\n",
      "2443 /bitstream/1807/24500/43/YAF_soap_sad.wav\n",
      "2444 /bitstream/1807/24500/44/YAF_size_sad.wav\n",
      "2445 /bitstream/1807/24500/45/YAF_shout_sad.wav\n",
      "2446 /bitstream/1807/24500/46/YAF_should_sad.wav\n",
      "2447 /bitstream/1807/24500/47/YAF_shirt_sad.wav\n",
      "2448 /bitstream/1807/24500/48/YAF_sheep_sad.wav\n",
      "2449 /bitstream/1807/24500/49/YAF_shawl_sad.wav\n",
      "2450 /bitstream/1807/24500/50/YAF_shall_sad.wav\n",
      "2451 /bitstream/1807/24500/51/YAF_shack_sad.wav\n",
      "2452 /bitstream/1807/24500/52/YAF_sell_sad.wav\n",
      "2453 /bitstream/1807/24500/53/YAF_seize_sad.wav\n",
      "2454 /bitstream/1807/24500/54/YAF_search_sad.wav\n",
      "2455 /bitstream/1807/24500/55/YAF_sail_sad.wav\n",
      "2456 /bitstream/1807/24500/56/YAF_said_sad.wav\n",
      "2457 /bitstream/1807/24500/57/YAF_rush_sad.wav\n",
      "2458 /bitstream/1807/24500/58/YAF_rough_sad.wav\n",
      "2459 /bitstream/1807/24500/59/YAF_rot_sad.wav\n",
      "2460 /bitstream/1807/24500/60/YAF_rose_sad.wav\n",
      "2461 /bitstream/1807/24500/61/YAF_room_sad.wav\n",
      "2462 /bitstream/1807/24500/62/YAF_road_sad.wav\n",
      "2463 /bitstream/1807/24500/63/YAF_ripe_sad.wav\n",
      "2464 /bitstream/1807/24500/64/YAF_ring_sad.wav\n",
      "2465 /bitstream/1807/24500/65/YAF_red_sad.wav\n",
      "2466 /bitstream/1807/24500/66/YAF_read_sad.wav\n",
      "2467 /bitstream/1807/24500/67/YAF_reach_sad.wav\n",
      "2468 /bitstream/1807/24500/68/YAF_rat_sad.wav\n",
      "2469 /bitstream/1807/24500/69/YAF_raise_sad.wav\n",
      "2470 /bitstream/1807/24500/70/YAF_rain_sad.wav\n",
      "2471 /bitstream/1807/24500/71/YAF_raid_sad.wav\n",
      "2472 /bitstream/1807/24500/72/YAF_rag_sad.wav\n",
      "2473 /bitstream/1807/24500/73/YAF_puff_sad.wav\n",
      "2474 /bitstream/1807/24500/74/YAF_pool_sad.wav\n",
      "2475 /bitstream/1807/24500/75/YAF_pole_sad.wav\n",
      "2476 /bitstream/1807/24500/76/YAF_pike_sad.wav\n",
      "2477 /bitstream/1807/24500/77/YAF_pick_sad.wav\n",
      "2478 /bitstream/1807/24500/78/YAF_phone_sad.wav\n",
      "2479 /bitstream/1807/24500/79/YAF_perch_sad.wav\n",
      "2480 /bitstream/1807/24500/80/YAF_peg_sad.wav\n",
      "2481 /bitstream/1807/24500/81/YAF_pearl_sad.wav\n",
      "2482 /bitstream/1807/24500/82/YAF_pass_sad.wav\n",
      "2483 /bitstream/1807/24500/83/YAF_pain_sad.wav\n",
      "2484 /bitstream/1807/24500/84/YAF_page_sad.wav\n",
      "2485 /bitstream/1807/24500/85/YAF_pad_sad.wav\n",
      "2486 /bitstream/1807/24500/86/YAF_numb_sad.wav\n",
      "2487 /bitstream/1807/24500/87/YAF_note_sad.wav\n",
      "2488 /bitstream/1807/24500/88/YAF_nice_sad.wav\n",
      "2489 /bitstream/1807/24500/89/YAF_neat_sad.wav\n",
      "2490 /bitstream/1807/24500/90/YAF_near_sad.wav\n",
      "2491 /bitstream/1807/24500/91/YAF_name_sad.wav\n",
      "2492 /bitstream/1807/24500/92/YAF_nag_sad.wav\n",
      "2493 /bitstream/1807/24500/93/YAF_mouse_sad.wav\n",
      "2494 /bitstream/1807/24500/94/YAF_mop_sad.wav\n",
      "2495 /bitstream/1807/24500/95/YAF_moon_sad.wav\n",
      "2496 /bitstream/1807/24500/96/YAF_mood_sad.wav\n",
      "2497 /bitstream/1807/24500/97/YAF_mode_sad.wav\n",
      "2498 /bitstream/1807/24500/98/YAF_mob_sad.wav\n",
      "2499 /bitstream/1807/24500/99/YAF_mill_sad.wav\n",
      "2500 /bitstream/1807/24500/100/YAF_met_sad.wav\n",
      "2501 /bitstream/1807/24500/101/YAF_mess_sad.wav\n",
      "2502 /bitstream/1807/24500/102/YAF_merge_sad.wav\n",
      "2503 /bitstream/1807/24500/103/YAF_match_sad.wav\n",
      "2504 /bitstream/1807/24500/104/YAF_make_sad.wav\n",
      "2505 /bitstream/1807/24500/105/YAF_luck_sad.wav\n",
      "2506 /bitstream/1807/24500/106/YAF_love_sad.wav\n",
      "2507 /bitstream/1807/24500/107/YAF_lot_sad.wav\n",
      "2508 /bitstream/1807/24500/108/YAF_lose_sad.wav\n",
      "2509 /bitstream/1807/24500/109/YAF_lore_sad.wav\n",
      "2510 /bitstream/1807/24500/110/YAF_long_sad.wav\n",
      "2511 /bitstream/1807/24500/111/YAF_loaf_sad.wav\n",
      "2512 /bitstream/1807/24500/112/YAF_live_sad.wav\n",
      "2513 /bitstream/1807/24500/113/YAF_limb_sad.wav\n",
      "2514 /bitstream/1807/24500/114/YAF_life_sad.wav\n",
      "2515 /bitstream/1807/24500/115/YAF_lid_sad.wav\n",
      "2516 /bitstream/1807/24500/116/YAF_lease_sad.wav\n",
      "2517 /bitstream/1807/24500/117/YAF_learn_sad.wav\n",
      "2518 /bitstream/1807/24500/118/YAF_lean_sad.wav\n",
      "2519 /bitstream/1807/24500/119/YAF_laud_sad.wav\n",
      "2520 /bitstream/1807/24500/120/YAF_late_sad.wav\n",
      "2521 /bitstream/1807/24500/121/YAF_knock_sad.wav\n",
      "2522 /bitstream/1807/24500/122/YAF_kite_sad.wav\n",
      "2523 /bitstream/1807/24500/123/YAF_king_sad.wav\n"
     ]
    },
    {
     "name": "stdout",
     "output_type": "stream",
     "text": [
      "2524 /bitstream/1807/24500/124/YAF_kill_sad.wav\n",
      "2525 /bitstream/1807/24500/125/YAF_kick_sad.wav\n",
      "2526 /bitstream/1807/24500/126/YAF_keg_sad.wav\n",
      "2527 /bitstream/1807/24500/127/YAF_keep_sad.wav\n",
      "2528 /bitstream/1807/24500/128/YAF_keen_sad.wav\n",
      "2529 /bitstream/1807/24500/129/YAF_juice_sad.wav\n",
      "2530 /bitstream/1807/24500/130/YAF_jug_sad.wav\n",
      "2531 /bitstream/1807/24500/131/YAF_judge_sad.wav\n",
      "2532 /bitstream/1807/24500/132/YAF_join_sad.wav\n",
      "2533 /bitstream/1807/24500/133/YAF_jar_sad.wav\n",
      "2534 /bitstream/1807/24500/134/YAF_jail_sad.wav\n",
      "2535 /bitstream/1807/24500/135/YAF_hush_sad.wav\n",
      "2536 /bitstream/1807/24500/136/YAF_hurl_sad.wav\n",
      "2537 /bitstream/1807/24500/137/YAF_home_sad.wav\n",
      "2538 /bitstream/1807/24500/138/YAF_hole_sad.wav\n",
      "2539 /bitstream/1807/24500/139/YAF_hit_sad.wav\n",
      "2540 /bitstream/1807/24500/140/YAF_hire_sad.wav\n",
      "2541 /bitstream/1807/24500/141/YAF_haze_sad.wav\n",
      "2542 /bitstream/1807/24500/142/YAF_have_sad.wav\n",
      "2543 /bitstream/1807/24500/143/YAF_hate_sad.wav\n",
      "2544 /bitstream/1807/24500/144/YAF_hash_sad.wav\n",
      "2545 /bitstream/1807/24500/145/YAF_hall_sad.wav\n",
      "2546 /bitstream/1807/24500/146/YAF_half_sad.wav\n",
      "2547 /bitstream/1807/24500/147/YAF_gun_sad.wav\n",
      "2548 /bitstream/1807/24500/148/YAF_goose_sad.wav\n",
      "2549 /bitstream/1807/24500/149/YAF_good_sad.wav\n",
      "2550 /bitstream/1807/24500/150/YAF_goal_sad.wav\n",
      "2551 /bitstream/1807/24500/151/YAF_gin_sad.wav\n",
      "2552 /bitstream/1807/24500/152/YAF_get_sad.wav\n",
      "2553 /bitstream/1807/24500/153/YAF_germ_sad.wav\n",
      "2554 /bitstream/1807/24500/154/YAF_gaze_sad.wav\n",
      "2555 /bitstream/1807/24500/155/YAF_gas_sad.wav\n",
      "2556 /bitstream/1807/24500/156/YAF_gap_sad.wav\n",
      "2557 /bitstream/1807/24500/157/YAF_food_sad.wav\n",
      "2558 /bitstream/1807/24500/158/YAF_five_sad.wav\n",
      "2559 /bitstream/1807/24500/159/YAF_fit_sad.wav\n",
      "2560 /bitstream/1807/24500/160/YAF_fat_sad.wav\n",
      "2561 /bitstream/1807/24500/161/YAF_far_sad.wav\n",
      "2562 /bitstream/1807/24500/162/YAF_fall_sad.wav\n",
      "2563 /bitstream/1807/24500/163/YAF_fail_sad.wav\n",
      "2564 /bitstream/1807/24500/164/YAF_door_sad.wav\n",
      "2565 /bitstream/1807/24500/165/YAF_doll_sad.wav\n",
      "2566 /bitstream/1807/24500/166/YAF_dog_sad.wav\n",
      "2567 /bitstream/1807/24500/167/YAF_dodge_sad.wav\n",
      "2568 /bitstream/1807/24500/168/YAF_ditch_sad.wav\n",
      "2569 /bitstream/1807/24500/169/YAF_dip_sad.wav\n",
      "2570 /bitstream/1807/24500/170/YAF_dime_sad.wav\n",
      "2571 /bitstream/1807/24500/171/YAF_deep_sad.wav\n",
      "2572 /bitstream/1807/24500/172/YAF_death_sad.wav\n",
      "2573 /bitstream/1807/24500/173/YAF_dead_sad.wav\n",
      "2574 /bitstream/1807/24500/174/YAF_date_sad.wav\n",
      "2575 /bitstream/1807/24500/175/YAF_dab_sad.wav\n",
      "2576 /bitstream/1807/24500/176/YAF_cool_sad.wav\n",
      "2577 /bitstream/1807/24500/177/YAF_choice_sad.wav\n",
      "2578 /bitstream/1807/24500/178/YAF_chief_sad.wav\n",
      "2579 /bitstream/1807/24500/179/YAF_cheek_sad.wav\n",
      "2580 /bitstream/1807/24500/180/YAF_check_sad.wav\n",
      "2581 /bitstream/1807/24500/181/YAF_chat_sad.wav\n",
      "2582 /bitstream/1807/24500/182/YAF_chalk_sad.wav\n",
      "2583 /bitstream/1807/24500/183/YAF_chair_sad.wav\n",
      "2584 /bitstream/1807/24500/184/YAF_chain_sad.wav\n",
      "2585 /bitstream/1807/24500/185/YAF_cause_sad.wav\n",
      "2586 /bitstream/1807/24500/186/YAF_came_sad.wav\n",
      "2587 /bitstream/1807/24500/187/YAF_calm_sad.wav\n",
      "2588 /bitstream/1807/24500/188/YAF_cab_sad.wav\n",
      "2589 /bitstream/1807/24500/189/YAF_burn_sad.wav\n",
      "2590 /bitstream/1807/24500/190/YAF_bought_sad.wav\n",
      "2591 /bitstream/1807/24500/191/YAF_book_sad.wav\n",
      "2592 /bitstream/1807/24500/192/YAF_bone_sad.wav\n",
      "2593 /bitstream/1807/24500/193/YAF_boat_sad.wav\n",
      "2594 /bitstream/1807/24500/194/YAF_bite_sad.wav\n",
      "2595 /bitstream/1807/24500/195/YAF_beg_sad.wav\n",
      "2596 /bitstream/1807/24500/196/YAF_bean_sad.wav\n",
      "2597 /bitstream/1807/24500/197/YAF_bath_sad.wav\n",
      "2598 /bitstream/1807/24500/198/YAF_base_sad.wav\n",
      "2599 /bitstream/1807/24500/199/YAF_bar_sad.wav\n",
      "2600 /bitstream/1807/24500/200/YAF_back_sad.wav\n",
      "2601 /bitstream/1807/24501/1/OAF_youth_happy.wav\n",
      "2602 /bitstream/1807/24501/2/OAF_young_happy.wav\n",
      "2603 /bitstream/1807/24501/3/OAF_yes_happy.wav\n",
      "2604 /bitstream/1807/24501/4/OAF_yearn_happy.wav\n",
      "2605 /bitstream/1807/24501/5/OAF_witch_happy.wav\n",
      "2606 /bitstream/1807/24501/6/OAF_wire_happy.wav\n",
      "2607 /bitstream/1807/24501/7/OAF_wife_happy.wav\n",
      "2608 /bitstream/1807/24501/8/OAF_white_happy.wav\n",
      "2609 /bitstream/1807/24501/9/OAF_whip_happy.wav\n",
      "2610 /bitstream/1807/24501/10/OAF_which_happy.wav\n",
      "2611 /bitstream/1807/24501/11/OAF_when_happy.wav\n",
      "2612 /bitstream/1807/24501/12/OAF_wheat_happy.wav\n",
      "2613 /bitstream/1807/24501/13/OAF_week_happy.wav\n",
      "2614 /bitstream/1807/24501/14/OAF_wash_happy.wav\n",
      "2615 /bitstream/1807/24501/15/OAF_walk_happy.wav\n",
      "2616 /bitstream/1807/24501/16/OAF_wag_happy.wav\n",
      "2617 /bitstream/1807/24501/17/OAF_vote_happy.wav\n",
      "2618 /bitstream/1807/24501/18/OAF_void_happy.wav\n",
      "2619 /bitstream/1807/24501/19/OAF_voice_happy.wav\n",
      "2620 /bitstream/1807/24501/20/OAF_vine_happy.wav\n",
      "2621 /bitstream/1807/24501/21/OAF_turn_happy.wav\n",
      "2622 /bitstream/1807/24501/22/OAF_tough_happy.wav\n",
      "2623 /bitstream/1807/24501/23/OAF_tool_happy.wav\n",
      "2624 /bitstream/1807/24501/24/OAF_ton_happy.wav\n",
      "2625 /bitstream/1807/24501/25/OAF_tire_happy.wav\n",
      "2626 /bitstream/1807/24501/26/OAF_tip_happy.wav\n",
      "2627 /bitstream/1807/24501/27/OAF_time_happy.wav\n",
      "2628 /bitstream/1807/24501/28/OAF_thumb_happy.wav\n",
      "2629 /bitstream/1807/24501/29/OAF_thought_happy.wav\n",
      "2630 /bitstream/1807/24501/30/OAF_third_happy.wav\n",
      "2631 /bitstream/1807/24501/31/OAF_thin_happy.wav\n",
      "2632 /bitstream/1807/24501/32/OAF_tell_happy.wav\n",
      "2633 /bitstream/1807/24501/33/OAF_team_happy.wav\n",
      "2634 /bitstream/1807/24501/34/OAF_tape_happy.wav\n",
      "2635 /bitstream/1807/24501/35/OAF_talk_happy.wav\n",
      "2636 /bitstream/1807/24501/36/OAF_take_happy.wav\n",
      "2637 /bitstream/1807/24501/37/OAF_sure_happy.wav\n",
      "2638 /bitstream/1807/24501/38/OAF_such_happy.wav\n",
      "2639 /bitstream/1807/24501/39/OAF_sub_happy.wav\n",
      "2640 /bitstream/1807/24501/40/OAF_south_happy.wav\n",
      "2641 /bitstream/1807/24501/41/OAF_sour_happy.wav\n",
      "2642 /bitstream/1807/24501/42/OAF_soup_happy.wav\n",
      "2643 /bitstream/1807/24501/43/OAF_soap_happy.wav\n",
      "2644 /bitstream/1807/24501/44/OAF_size_happy.wav\n",
      "2645 /bitstream/1807/24501/45/OAF_shout_happy.wav\n",
      "2646 /bitstream/1807/24501/46/OAF_should_happy.wav\n",
      "2647 /bitstream/1807/24501/47/OAF_shirt_happy.wav\n",
      "2648 /bitstream/1807/24501/48/OAF_sheep_happy.wav\n",
      "2649 /bitstream/1807/24501/49/OAF_shawl_happy.wav\n",
      "2650 /bitstream/1807/24501/50/OAF_shall_happy.wav\n",
      "2651 /bitstream/1807/24501/51/OAF_shack_happy.wav\n",
      "2652 /bitstream/1807/24501/52/OAF_sell_happy.wav\n",
      "2653 /bitstream/1807/24501/53/OAF_seize_happy.wav\n",
      "2654 /bitstream/1807/24501/54/OAF_search_happy.wav\n",
      "2655 /bitstream/1807/24501/55/OAF_sail_happy.wav\n",
      "2656 /bitstream/1807/24501/56/OAF_said_happy.wav\n",
      "2657 /bitstream/1807/24501/57/OAF_rush_happy.wav\n",
      "2658 /bitstream/1807/24501/58/OAF_rough_happy.wav\n",
      "2659 /bitstream/1807/24501/59/OAF_rot_happy.wav\n",
      "2660 /bitstream/1807/24501/60/OAF_rose_happy.wav\n",
      "2661 /bitstream/1807/24501/61/OAF_room_happy.wav\n",
      "2662 /bitstream/1807/24501/62/OAF_road_happy.wav\n",
      "2663 /bitstream/1807/24501/63/OAF_ripe_happy.wav\n",
      "2664 /bitstream/1807/24501/64/OAF_ring_happy.wav\n",
      "2665 /bitstream/1807/24501/65/OAF_red_happy.wav\n",
      "2666 /bitstream/1807/24501/66/OAF_read_happy.wav\n",
      "2667 /bitstream/1807/24501/67/OAF_reach_happy.wav\n",
      "2668 /bitstream/1807/24501/68/OAF_rat_happy.wav\n",
      "2669 /bitstream/1807/24501/69/OAF_raise_happy.wav\n",
      "2670 /bitstream/1807/24501/70/OAF_rain_happy.wav\n",
      "2671 /bitstream/1807/24501/71/OAF_raid_happy.wav\n",
      "2672 /bitstream/1807/24501/72/OAF_rag_happy.wav\n",
      "2673 /bitstream/1807/24501/73/OAF_puff_happy.wav\n",
      "2674 /bitstream/1807/24501/74/OAF_pool_happy.wav\n",
      "2675 /bitstream/1807/24501/75/OAF_pole_happy.wav\n",
      "2676 /bitstream/1807/24501/76/OAF_pike_happy.wav\n",
      "2677 /bitstream/1807/24501/77/OAF_pick_happy.wav\n",
      "2678 /bitstream/1807/24501/78/OAF_phone_happy.wav\n",
      "2679 /bitstream/1807/24501/79/OAF_perch_happy.wav\n",
      "2680 /bitstream/1807/24501/80/OAF_peg_happy.wav\n",
      "2681 /bitstream/1807/24501/81/OAF_pearl_happy.wav\n",
      "2682 /bitstream/1807/24501/82/OAF_pass_happy.wav\n",
      "2683 /bitstream/1807/24501/83/OAF_pain_happy.wav\n",
      "2684 /bitstream/1807/24501/84/OAF_page_happy.wav\n",
      "2685 /bitstream/1807/24501/85/OAF_pad_happy.wav\n",
      "2686 /bitstream/1807/24501/86/OAF_numb_happy.wav\n",
      "2687 /bitstream/1807/24501/87/OAF_note_happy.wav\n",
      "2688 /bitstream/1807/24501/88/OAF_nice_happy.wav\n",
      "2689 /bitstream/1807/24501/89/OAF_neat_happy.wav\n",
      "2690 /bitstream/1807/24501/90/OAF_near_happy.wav\n",
      "2691 /bitstream/1807/24501/91/OAF_name_happy.wav\n",
      "2692 /bitstream/1807/24501/92/OAF_nag_happy.wav\n"
     ]
    },
    {
     "name": "stdout",
     "output_type": "stream",
     "text": [
      "2693 /bitstream/1807/24501/93/OAF_mouse_happy.wav\n",
      "2694 /bitstream/1807/24501/94/OAF_mop_happy.wav\n",
      "2695 /bitstream/1807/24501/95/OAF_moon_happy.wav\n",
      "2696 /bitstream/1807/24501/96/OAF_mood_happy.wav\n",
      "2697 /bitstream/1807/24501/97/OAF_mode_happy.wav\n",
      "2698 /bitstream/1807/24501/98/OAF_mob_happy.wav\n",
      "2699 /bitstream/1807/24501/99/OAF_mill_happy.wav\n",
      "2700 /bitstream/1807/24501/100/OAF_met_happy.wav\n",
      "2701 /bitstream/1807/24501/101/OAF_mess_happy.wav\n",
      "2702 /bitstream/1807/24501/102/OAF_merge_happy.wav\n",
      "2703 /bitstream/1807/24501/103/OAF_match_happy.wav\n",
      "2704 /bitstream/1807/24501/104/OAF_make_happy.wav\n",
      "2705 /bitstream/1807/24501/105/OAF_luck_happy.wav\n",
      "2706 /bitstream/1807/24501/106/OAF_love_happy.wav\n",
      "2707 /bitstream/1807/24501/107/OAF_lot_happy.wav\n",
      "2708 /bitstream/1807/24501/108/OAF_lose_happy.wav\n",
      "2709 /bitstream/1807/24501/109/OAF_lore_happy.wav\n",
      "2710 /bitstream/1807/24501/110/OAF_long_happy.wav\n",
      "2711 /bitstream/1807/24501/111/OAF_loaf_happy.wav\n",
      "2712 /bitstream/1807/24501/112/OAF_live_happy.wav\n",
      "2713 /bitstream/1807/24501/113/OAF_limb_happy.wav\n",
      "2714 /bitstream/1807/24501/114/OAF_life_happy.wav\n",
      "2715 /bitstream/1807/24501/115/OAF_lid_happy.wav\n",
      "2716 /bitstream/1807/24501/116/OAF_lease_happy.wav\n",
      "2717 /bitstream/1807/24501/117/OAF_learn_happy.wav\n",
      "2718 /bitstream/1807/24501/118/OAF_lean_happy.wav\n",
      "2719 /bitstream/1807/24501/119/OAF_laud_happy.wav\n",
      "2720 /bitstream/1807/24501/120/OAF_late_happy.wav\n",
      "2721 /bitstream/1807/24501/121/OAF_knock_happy.wav\n",
      "2722 /bitstream/1807/24501/122/OAF_kite_happy.wav\n",
      "2723 /bitstream/1807/24501/123/OAF_king_happy.wav\n",
      "2724 /bitstream/1807/24501/124/OAF_kill_happy.wav\n",
      "2725 /bitstream/1807/24501/125/OAF_kick_happy.wav\n",
      "2726 /bitstream/1807/24501/126/OAF_keg_happy.wav\n",
      "2727 /bitstream/1807/24501/127/OAF_keep_happy.wav\n",
      "2728 /bitstream/1807/24501/128/OAF_keen_happy.wav\n",
      "2729 /bitstream/1807/24501/129/OAF_juice_happy.wav\n",
      "2730 /bitstream/1807/24501/130/OAF_jug_happy.wav\n",
      "2731 /bitstream/1807/24501/131/OAF_judge_happy.wav\n",
      "2732 /bitstream/1807/24501/132/OAF_join_happy.wav\n",
      "2733 /bitstream/1807/24501/133/OAF_jar_happy.wav\n",
      "2734 /bitstream/1807/24501/134/OAF_jail_happy.wav\n",
      "2735 /bitstream/1807/24501/135/OAF_hush_happy.wav\n",
      "2736 /bitstream/1807/24501/136/OAF_hurl_happy.wav\n",
      "2737 /bitstream/1807/24501/137/OAF_home_happy.wav\n",
      "2738 /bitstream/1807/24501/138/OAF_hole_happy.wav\n",
      "2739 /bitstream/1807/24501/139/OAF_hit_happy.wav\n",
      "2740 /bitstream/1807/24501/140/OAF_hire_happy.wav\n",
      "2741 /bitstream/1807/24501/141/OAF_haze_happy.wav\n",
      "2742 /bitstream/1807/24501/142/OAF_have_happy.wav\n",
      "2743 /bitstream/1807/24501/143/OAF_hate_happy.wav\n",
      "2744 /bitstream/1807/24501/144/OAF_hash_happy.wav\n",
      "2745 /bitstream/1807/24501/145/OAF_hall_happy.wav\n",
      "2746 /bitstream/1807/24501/146/OAF_half_happy.wav\n",
      "2747 /bitstream/1807/24501/147/OAF_gun_happy.wav\n",
      "2748 /bitstream/1807/24501/148/OAF_goose_happy.wav\n",
      "2749 /bitstream/1807/24501/149/OAF_good_happy.wav\n",
      "2750 /bitstream/1807/24501/150/OAF_goal_happy.wav\n",
      "2751 /bitstream/1807/24501/151/OAF_gin_happy.wav\n",
      "2752 /bitstream/1807/24501/152/OAF_get_happy.wav\n",
      "2753 /bitstream/1807/24501/153/OAF_germ_happy.wav\n",
      "2754 /bitstream/1807/24501/154/OAF_gaze_happy.wav\n",
      "2755 /bitstream/1807/24501/155/OAF_gas_happy.wav\n",
      "2756 /bitstream/1807/24501/156/OAF_gap_happy.wav\n",
      "2757 /bitstream/1807/24501/157/OAF_food_happy.wav\n",
      "2758 /bitstream/1807/24501/158/OAF_five_happy.wav\n",
      "2759 /bitstream/1807/24501/159/OAF_fit_happy.wav\n",
      "2760 /bitstream/1807/24501/160/OAF_fat_happy.wav\n",
      "2761 /bitstream/1807/24501/161/OAF_far_happy.wav\n",
      "2762 /bitstream/1807/24501/162/OAF_fall_happy.wav\n",
      "2763 /bitstream/1807/24501/163/OAF_fail_happy.wav\n",
      "2764 /bitstream/1807/24501/164/OAF_door_happy.wav\n",
      "2765 /bitstream/1807/24501/165/OAF_doll_happy.wav\n",
      "2766 /bitstream/1807/24501/166/OAF_dog_happy.wav\n",
      "2767 /bitstream/1807/24501/167/OAF_dodge_happy.wav\n",
      "2768 /bitstream/1807/24501/168/OAF_ditch_happy.wav\n",
      "2769 /bitstream/1807/24501/169/OAF_dip_happy.wav\n",
      "2770 /bitstream/1807/24501/170/OAF_dime_happy.wav\n",
      "2771 /bitstream/1807/24501/171/OAF_deep_happy.wav\n",
      "2772 /bitstream/1807/24501/172/OAF_death_happy.wav\n",
      "2773 /bitstream/1807/24501/173/OAF_dead_happy.wav\n",
      "2774 /bitstream/1807/24501/174/OAF_date_happy.wav\n",
      "2775 /bitstream/1807/24501/175/OAF_dab_happy.wav\n",
      "2776 /bitstream/1807/24501/176/OAF_cool_happy.wav\n",
      "2777 /bitstream/1807/24501/177/OAF_choice_happy.wav\n",
      "2778 /bitstream/1807/24501/178/OAF_chief_happy.wav\n",
      "2779 /bitstream/1807/24501/179/OAF_cheek_happy.wav\n",
      "2780 /bitstream/1807/24501/180/OAF_check_happy.wav\n",
      "2781 /bitstream/1807/24501/181/OAF_chat_happy.wav\n",
      "2782 /bitstream/1807/24501/182/OAF_chalk_happy.wav\n",
      "2783 /bitstream/1807/24501/183/OAF_chair_happy.wav\n",
      "2784 /bitstream/1807/24501/184/OAF_chain_happy.wav\n",
      "2785 /bitstream/1807/24501/185/OAF_cause_happy.wav\n",
      "2786 /bitstream/1807/24501/186/OAF_came_happy.wav\n",
      "2787 /bitstream/1807/24501/187/OAF_calm_happy.wav\n",
      "2788 /bitstream/1807/24501/188/OAF_cab_happy.wav\n",
      "2789 /bitstream/1807/24501/189/OAF_burn_happy.wav\n",
      "2790 /bitstream/1807/24501/190/OAF_bought_happy.wav\n",
      "2791 /bitstream/1807/24501/191/OAF_book_happy.wav\n",
      "2792 /bitstream/1807/24501/192/OAF_bone_happy.wav\n",
      "2793 /bitstream/1807/24501/193/OAF_boat_happy.wav\n",
      "2794 /bitstream/1807/24501/194/OAF_bite_happy.wav\n",
      "2795 /bitstream/1807/24501/195/OAF_beg_happy.wav\n",
      "2796 /bitstream/1807/24501/196/OAF_bean_happy.wav\n",
      "2797 /bitstream/1807/24501/197/OAF_bath_happy.wav\n",
      "2798 /bitstream/1807/24501/198/OAF_base_happy.wav\n",
      "2799 /bitstream/1807/24501/199/OAF_bar_happy.wav\n",
      "2800 /bitstream/1807/24501/200/OAF_back_happy.wav\n"
     ]
    }
   ],
   "source": [
    "download()"
   ]
  },
  {
   "cell_type": "code",
   "execution_count": 6,
   "metadata": {},
   "outputs": [
    {
     "name": "stderr",
     "output_type": "stream",
     "text": [
      " 10%|███                          | 292/2800 [00:01<00:15, 165.98it/s]WARNING:root:frame length (2400) is greater than FFT size (1024), frame will be truncated. Increase NFFT to avoid.\n",
      "100%|████████████████████████████| 2800/2800 [00:16<00:00, 164.78it/s]\n"
     ]
    }
   ],
   "source": [
    "wav_files = [f for f in os.listdir('./data') if f.endswith('.wav')]\n",
    "text_files = [f for f in os.listdir('./data') if f.endswith('.txt')]\n",
    "\n",
    "inputs, targets = [], []\n",
    "for (wav_file, text_file) in tqdm(zip(wav_files, text_files), total=len(wav_files), ncols=70):\n",
    "    path = './data/' + wav_file\n",
    "    try:\n",
    "        fs, audio = wavfile.read(path)\n",
    "    except:\n",
    "        continue\n",
    "    input = mfcc(audio, samplerate=fs, nfft=1024)\n",
    "    inputs.append(input)\n",
    "    with open('./data/'+text_file) as f:\n",
    "        targets.append(f.read())\n",
    "\n",
    "inputs = tf.keras.preprocessing.sequence.pad_sequences(\n",
    "    inputs, dtype='float32', padding='post')\n",
    "\n",
    "chars = list(set([c for target in targets for c in target]))\n",
    "PARAMS['num_classes'] = len(chars) + 1\n",
    "\n",
    "idx2char = {idx: char for idx, char in enumerate(chars)}\n",
    "char2idx = {char: idx for idx, char in idx2char.items()}\n",
    "\n",
    "targets = [[char2idx[c] for c in target] for target in targets]\n",
    "\n",
    "inputs_val = np.expand_dims(inputs[-1], 0)\n",
    "targets_val = targets[-1]\n",
    "\n",
    "inputs_train = inputs[:-1]\n",
    "targets_train = targets[:-1]\n",
    "targets_train = tf.SparseTensor(*sparse_tuple_from(targets_train))"
   ]
  },
  {
   "cell_type": "code",
   "execution_count": 7,
   "metadata": {},
   "outputs": [
    {
     "name": "stdout",
     "output_type": "stream",
     "text": [
      "INFO:tensorflow:Using default config.\n"
     ]
    },
    {
     "name": "stderr",
     "output_type": "stream",
     "text": [
      "INFO:tensorflow:Using default config.\n"
     ]
    },
    {
     "name": "stdout",
     "output_type": "stream",
     "text": [
      "WARNING:tensorflow:Using temporary folder as model directory: /var/folders/sx/fv0r97j96fz8njp14dt5g7940000gn/T/tmp74175gf2\n"
     ]
    },
    {
     "name": "stderr",
     "output_type": "stream",
     "text": [
      "WARNING:tensorflow:Using temporary folder as model directory: /var/folders/sx/fv0r97j96fz8njp14dt5g7940000gn/T/tmp74175gf2\n"
     ]
    },
    {
     "name": "stdout",
     "output_type": "stream",
     "text": [
      "INFO:tensorflow:Using config: {'_model_dir': '/var/folders/sx/fv0r97j96fz8njp14dt5g7940000gn/T/tmp74175gf2', '_tf_random_seed': None, '_save_summary_steps': 100, '_save_checkpoints_steps': None, '_save_checkpoints_secs': 600, '_session_config': None, '_keep_checkpoint_max': 5, '_keep_checkpoint_every_n_hours': 10000, '_log_step_count_steps': 100, '_service': None, '_cluster_spec': <tensorflow.python.training.server_lib.ClusterSpec object at 0x12121a898>, '_task_type': 'worker', '_task_id': 0, '_global_id_in_cluster': 0, '_master': '', '_evaluation_master': '', '_is_chief': True, '_num_ps_replicas': 0, '_num_worker_replicas': 1}\n"
     ]
    },
    {
     "name": "stderr",
     "output_type": "stream",
     "text": [
      "INFO:tensorflow:Using config: {'_model_dir': '/var/folders/sx/fv0r97j96fz8njp14dt5g7940000gn/T/tmp74175gf2', '_tf_random_seed': None, '_save_summary_steps': 100, '_save_checkpoints_steps': None, '_save_checkpoints_secs': 600, '_session_config': None, '_keep_checkpoint_max': 5, '_keep_checkpoint_every_n_hours': 10000, '_log_step_count_steps': 100, '_service': None, '_cluster_spec': <tensorflow.python.training.server_lib.ClusterSpec object at 0x12121a898>, '_task_type': 'worker', '_task_id': 0, '_global_id_in_cluster': 0, '_master': '', '_evaluation_master': '', '_is_chief': True, '_num_ps_replicas': 0, '_num_worker_replicas': 1}\n"
     ]
    },
    {
     "name": "stdout",
     "output_type": "stream",
     "text": [
      "WARNING:tensorflow:Estimator's model_fn (<function model_fn at 0x11fb2eae8>) includes params argument, but params are not passed to Estimator.\n"
     ]
    },
    {
     "name": "stderr",
     "output_type": "stream",
     "text": [
      "WARNING:tensorflow:Estimator's model_fn (<function model_fn at 0x11fb2eae8>) includes params argument, but params are not passed to Estimator.\n"
     ]
    },
    {
     "name": "stdout",
     "output_type": "stream",
     "text": [
      "INFO:tensorflow:Calling model_fn.\n"
     ]
    },
    {
     "name": "stderr",
     "output_type": "stream",
     "text": [
      "INFO:tensorflow:Calling model_fn.\n"
     ]
    },
    {
     "name": "stdout",
     "output_type": "stream",
     "text": [
      "INFO:tensorflow:Done calling model_fn.\n"
     ]
    },
    {
     "name": "stderr",
     "output_type": "stream",
     "text": [
      "INFO:tensorflow:Done calling model_fn.\n"
     ]
    },
    {
     "name": "stdout",
     "output_type": "stream",
     "text": [
      "INFO:tensorflow:Create CheckpointSaverHook.\n"
     ]
    },
    {
     "name": "stderr",
     "output_type": "stream",
     "text": [
      "INFO:tensorflow:Create CheckpointSaverHook.\n"
     ]
    },
    {
     "name": "stdout",
     "output_type": "stream",
     "text": [
      "INFO:tensorflow:Graph was finalized.\n"
     ]
    },
    {
     "name": "stderr",
     "output_type": "stream",
     "text": [
      "INFO:tensorflow:Graph was finalized.\n"
     ]
    },
    {
     "name": "stdout",
     "output_type": "stream",
     "text": [
      "INFO:tensorflow:Running local_init_op.\n"
     ]
    },
    {
     "name": "stderr",
     "output_type": "stream",
     "text": [
      "INFO:tensorflow:Running local_init_op.\n"
     ]
    },
    {
     "name": "stdout",
     "output_type": "stream",
     "text": [
      "INFO:tensorflow:Done running local_init_op.\n"
     ]
    },
    {
     "name": "stderr",
     "output_type": "stream",
     "text": [
      "INFO:tensorflow:Done running local_init_op.\n"
     ]
    },
    {
     "name": "stdout",
     "output_type": "stream",
     "text": [
      "INFO:tensorflow:Saving checkpoints for 1 into /var/folders/sx/fv0r97j96fz8njp14dt5g7940000gn/T/tmp74175gf2/model.ckpt.\n"
     ]
    },
    {
     "name": "stderr",
     "output_type": "stream",
     "text": [
      "INFO:tensorflow:Saving checkpoints for 1 into /var/folders/sx/fv0r97j96fz8njp14dt5g7940000gn/T/tmp74175gf2/model.ckpt.\n"
     ]
    },
    {
     "name": "stdout",
     "output_type": "stream",
     "text": [
      "INFO:tensorflow:loss = 493.68723, step = 1\n"
     ]
    },
    {
     "name": "stderr",
     "output_type": "stream",
     "text": [
      "INFO:tensorflow:loss = 493.68723, step = 1\n"
     ]
    },
    {
     "name": "stdout",
     "output_type": "stream",
     "text": [
      "INFO:tensorflow:edit_dist = 3.3405912\n"
     ]
    },
    {
     "name": "stderr",
     "output_type": "stream",
     "text": [
      "INFO:tensorflow:edit_dist = 3.3405912\n"
     ]
    },
    {
     "name": "stdout",
     "output_type": "stream",
     "text": [
      "INFO:tensorflow:global_step/sec: 6.32391\n"
     ]
    },
    {
     "name": "stderr",
     "output_type": "stream",
     "text": [
      "INFO:tensorflow:global_step/sec: 6.32391\n"
     ]
    },
    {
     "name": "stdout",
     "output_type": "stream",
     "text": [
      "INFO:tensorflow:loss = 33.780342, step = 101 (15.814 sec)\n"
     ]
    },
    {
     "name": "stderr",
     "output_type": "stream",
     "text": [
      "INFO:tensorflow:loss = 33.780342, step = 101 (15.814 sec)\n"
     ]
    },
    {
     "name": "stdout",
     "output_type": "stream",
     "text": [
      "INFO:tensorflow:edit_dist = 0.9237767 (15.814 sec)\n"
     ]
    },
    {
     "name": "stderr",
     "output_type": "stream",
     "text": [
      "INFO:tensorflow:edit_dist = 0.9237767 (15.814 sec)\n"
     ]
    },
    {
     "name": "stdout",
     "output_type": "stream",
     "text": [
      "INFO:tensorflow:global_step/sec: 6.34815\n"
     ]
    },
    {
     "name": "stderr",
     "output_type": "stream",
     "text": [
      "INFO:tensorflow:global_step/sec: 6.34815\n"
     ]
    },
    {
     "name": "stdout",
     "output_type": "stream",
     "text": [
      "INFO:tensorflow:loss = 22.969511, step = 201 (15.753 sec)\n"
     ]
    },
    {
     "name": "stderr",
     "output_type": "stream",
     "text": [
      "INFO:tensorflow:loss = 22.969511, step = 201 (15.753 sec)\n"
     ]
    },
    {
     "name": "stdout",
     "output_type": "stream",
     "text": [
      "INFO:tensorflow:edit_dist = 0.64042753 (15.753 sec)\n"
     ]
    },
    {
     "name": "stderr",
     "output_type": "stream",
     "text": [
      "INFO:tensorflow:edit_dist = 0.64042753 (15.753 sec)\n"
     ]
    },
    {
     "name": "stdout",
     "output_type": "stream",
     "text": [
      "INFO:tensorflow:global_step/sec: 6.1292\n"
     ]
    },
    {
     "name": "stderr",
     "output_type": "stream",
     "text": [
      "INFO:tensorflow:global_step/sec: 6.1292\n"
     ]
    },
    {
     "name": "stdout",
     "output_type": "stream",
     "text": [
      "INFO:tensorflow:loss = 18.041271, step = 301 (16.315 sec)\n"
     ]
    },
    {
     "name": "stderr",
     "output_type": "stream",
     "text": [
      "INFO:tensorflow:loss = 18.041271, step = 301 (16.315 sec)\n"
     ]
    },
    {
     "name": "stdout",
     "output_type": "stream",
     "text": [
      "INFO:tensorflow:edit_dist = 0.4439488 (16.315 sec)\n"
     ]
    },
    {
     "name": "stderr",
     "output_type": "stream",
     "text": [
      "INFO:tensorflow:edit_dist = 0.4439488 (16.315 sec)\n"
     ]
    },
    {
     "name": "stdout",
     "output_type": "stream",
     "text": [
      "INFO:tensorflow:global_step/sec: 6.47447\n"
     ]
    },
    {
     "name": "stderr",
     "output_type": "stream",
     "text": [
      "INFO:tensorflow:global_step/sec: 6.47447\n"
     ]
    },
    {
     "name": "stdout",
     "output_type": "stream",
     "text": [
      "INFO:tensorflow:loss = 14.68385, step = 401 (15.445 sec)\n"
     ]
    },
    {
     "name": "stderr",
     "output_type": "stream",
     "text": [
      "INFO:tensorflow:loss = 14.68385, step = 401 (15.445 sec)\n"
     ]
    },
    {
     "name": "stdout",
     "output_type": "stream",
     "text": [
      "INFO:tensorflow:edit_dist = 0.33288398 (15.445 sec)\n"
     ]
    },
    {
     "name": "stderr",
     "output_type": "stream",
     "text": [
      "INFO:tensorflow:edit_dist = 0.33288398 (15.445 sec)\n"
     ]
    },
    {
     "name": "stdout",
     "output_type": "stream",
     "text": [
      "INFO:tensorflow:global_step/sec: 6.27819\n"
     ]
    },
    {
     "name": "stderr",
     "output_type": "stream",
     "text": [
      "INFO:tensorflow:global_step/sec: 6.27819\n"
     ]
    },
    {
     "name": "stdout",
     "output_type": "stream",
     "text": [
      "INFO:tensorflow:loss = 12.546645, step = 501 (15.928 sec)\n"
     ]
    },
    {
     "name": "stderr",
     "output_type": "stream",
     "text": [
      "INFO:tensorflow:loss = 12.546645, step = 501 (15.928 sec)\n"
     ]
    },
    {
     "name": "stdout",
     "output_type": "stream",
     "text": [
      "INFO:tensorflow:edit_dist = 0.26428378 (15.928 sec)\n"
     ]
    },
    {
     "name": "stderr",
     "output_type": "stream",
     "text": [
      "INFO:tensorflow:edit_dist = 0.26428378 (15.928 sec)\n"
     ]
    },
    {
     "name": "stdout",
     "output_type": "stream",
     "text": [
      "INFO:tensorflow:global_step/sec: 6.09566\n"
     ]
    },
    {
     "name": "stderr",
     "output_type": "stream",
     "text": [
      "INFO:tensorflow:global_step/sec: 6.09566\n"
     ]
    },
    {
     "name": "stdout",
     "output_type": "stream",
     "text": [
      "INFO:tensorflow:loss = 10.570291, step = 601 (16.406 sec)\n"
     ]
    },
    {
     "name": "stderr",
     "output_type": "stream",
     "text": [
      "INFO:tensorflow:loss = 10.570291, step = 601 (16.406 sec)\n"
     ]
    },
    {
     "name": "stdout",
     "output_type": "stream",
     "text": [
      "INFO:tensorflow:edit_dist = 0.23011984 (16.406 sec)\n"
     ]
    },
    {
     "name": "stderr",
     "output_type": "stream",
     "text": [
      "INFO:tensorflow:edit_dist = 0.23011984 (16.406 sec)\n"
     ]
    },
    {
     "name": "stdout",
     "output_type": "stream",
     "text": [
      "INFO:tensorflow:global_step/sec: 5.88395\n"
     ]
    },
    {
     "name": "stderr",
     "output_type": "stream",
     "text": [
      "INFO:tensorflow:global_step/sec: 5.88395\n"
     ]
    },
    {
     "name": "stdout",
     "output_type": "stream",
     "text": [
      "INFO:tensorflow:loss = 9.879487, step = 701 (16.995 sec)\n"
     ]
    },
    {
     "name": "stderr",
     "output_type": "stream",
     "text": [
      "INFO:tensorflow:loss = 9.879487, step = 701 (16.995 sec)\n"
     ]
    },
    {
     "name": "stdout",
     "output_type": "stream",
     "text": [
      "INFO:tensorflow:edit_dist = 0.23076124 (16.995 sec)\n"
     ]
    },
    {
     "name": "stderr",
     "output_type": "stream",
     "text": [
      "INFO:tensorflow:edit_dist = 0.23076124 (16.995 sec)\n"
     ]
    },
    {
     "name": "stdout",
     "output_type": "stream",
     "text": [
      "INFO:tensorflow:global_step/sec: 5.91025\n"
     ]
    },
    {
     "name": "stderr",
     "output_type": "stream",
     "text": [
      "INFO:tensorflow:global_step/sec: 5.91025\n"
     ]
    },
    {
     "name": "stdout",
     "output_type": "stream",
     "text": [
      "INFO:tensorflow:loss = 9.744004, step = 801 (16.920 sec)\n"
     ]
    },
    {
     "name": "stderr",
     "output_type": "stream",
     "text": [
      "INFO:tensorflow:loss = 9.744004, step = 801 (16.920 sec)\n"
     ]
    },
    {
     "name": "stdout",
     "output_type": "stream",
     "text": [
      "INFO:tensorflow:edit_dist = 0.23491286 (16.919 sec)\n"
     ]
    },
    {
     "name": "stderr",
     "output_type": "stream",
     "text": [
      "INFO:tensorflow:edit_dist = 0.23491286 (16.919 sec)\n"
     ]
    },
    {
     "name": "stdout",
     "output_type": "stream",
     "text": [
      "INFO:tensorflow:global_step/sec: 6.28194\n"
     ]
    },
    {
     "name": "stderr",
     "output_type": "stream",
     "text": [
      "INFO:tensorflow:global_step/sec: 6.28194\n"
     ]
    },
    {
     "name": "stdout",
     "output_type": "stream",
     "text": [
      "INFO:tensorflow:loss = 8.869291, step = 901 (15.919 sec)\n"
     ]
    },
    {
     "name": "stderr",
     "output_type": "stream",
     "text": [
      "INFO:tensorflow:loss = 8.869291, step = 901 (15.919 sec)\n"
     ]
    },
    {
     "name": "stdout",
     "output_type": "stream",
     "text": [
      "INFO:tensorflow:edit_dist = 0.23263688 (15.919 sec)\n"
     ]
    },
    {
     "name": "stderr",
     "output_type": "stream",
     "text": [
      "INFO:tensorflow:edit_dist = 0.23263688 (15.919 sec)\n"
     ]
    },
    {
     "name": "stdout",
     "output_type": "stream",
     "text": [
      "INFO:tensorflow:global_step/sec: 6.05579\n"
     ]
    },
    {
     "name": "stderr",
     "output_type": "stream",
     "text": [
      "INFO:tensorflow:global_step/sec: 6.05579\n"
     ]
    },
    {
     "name": "stdout",
     "output_type": "stream",
     "text": [
      "INFO:tensorflow:loss = 10.1293, step = 1001 (16.513 sec)\n"
     ]
    },
    {
     "name": "stderr",
     "output_type": "stream",
     "text": [
      "INFO:tensorflow:loss = 10.1293, step = 1001 (16.513 sec)\n"
     ]
    },
    {
     "name": "stdout",
     "output_type": "stream",
     "text": [
      "INFO:tensorflow:edit_dist = 0.23440975 (16.513 sec)\n"
     ]
    },
    {
     "name": "stderr",
     "output_type": "stream",
     "text": [
      "INFO:tensorflow:edit_dist = 0.23440975 (16.513 sec)\n"
     ]
    },
    {
     "name": "stdout",
     "output_type": "stream",
     "text": [
      "INFO:tensorflow:global_step/sec: 6.22978\n"
     ]
    },
    {
     "name": "stderr",
     "output_type": "stream",
     "text": [
      "INFO:tensorflow:global_step/sec: 6.22978\n"
     ]
    },
    {
     "name": "stdout",
     "output_type": "stream",
     "text": [
      "INFO:tensorflow:loss = 9.024219, step = 1101 (16.052 sec)\n"
     ]
    },
    {
     "name": "stderr",
     "output_type": "stream",
     "text": [
      "INFO:tensorflow:loss = 9.024219, step = 1101 (16.052 sec)\n"
     ]
    },
    {
     "name": "stdout",
     "output_type": "stream",
     "text": [
      "INFO:tensorflow:edit_dist = 0.22581771 (16.052 sec)\n"
     ]
    },
    {
     "name": "stderr",
     "output_type": "stream",
     "text": [
      "INFO:tensorflow:edit_dist = 0.22581771 (16.052 sec)\n"
     ]
    },
    {
     "name": "stdout",
     "output_type": "stream",
     "text": [
      "INFO:tensorflow:global_step/sec: 6.2092\n"
     ]
    },
    {
     "name": "stderr",
     "output_type": "stream",
     "text": [
      "INFO:tensorflow:global_step/sec: 6.2092\n"
     ]
    },
    {
     "name": "stdout",
     "output_type": "stream",
     "text": [
      "INFO:tensorflow:loss = 8.325614, step = 1201 (16.105 sec)\n"
     ]
    },
    {
     "name": "stderr",
     "output_type": "stream",
     "text": [
      "INFO:tensorflow:loss = 8.325614, step = 1201 (16.105 sec)\n"
     ]
    },
    {
     "name": "stdout",
     "output_type": "stream",
     "text": [
      "INFO:tensorflow:edit_dist = 0.22008513 (16.105 sec)\n"
     ]
    },
    {
     "name": "stderr",
     "output_type": "stream",
     "text": [
      "INFO:tensorflow:edit_dist = 0.22008513 (16.105 sec)\n"
     ]
    },
    {
     "name": "stdout",
     "output_type": "stream",
     "text": [
      "INFO:tensorflow:global_step/sec: 6.28781\n"
     ]
    },
    {
     "name": "stderr",
     "output_type": "stream",
     "text": [
      "INFO:tensorflow:global_step/sec: 6.28781\n"
     ]
    },
    {
     "name": "stdout",
     "output_type": "stream",
     "text": [
      "INFO:tensorflow:loss = 7.7545857, step = 1301 (15.904 sec)\n"
     ]
    },
    {
     "name": "stderr",
     "output_type": "stream",
     "text": [
      "INFO:tensorflow:loss = 7.7545857, step = 1301 (15.904 sec)\n"
     ]
    },
    {
     "name": "stdout",
     "output_type": "stream",
     "text": [
      "INFO:tensorflow:edit_dist = 0.21311821 (15.904 sec)\n"
     ]
    },
    {
     "name": "stderr",
     "output_type": "stream",
     "text": [
      "INFO:tensorflow:edit_dist = 0.21311821 (15.904 sec)\n"
     ]
    },
    {
     "name": "stdout",
     "output_type": "stream",
     "text": [
      "INFO:tensorflow:global_step/sec: 6.0732\n"
     ]
    },
    {
     "name": "stderr",
     "output_type": "stream",
     "text": [
      "INFO:tensorflow:global_step/sec: 6.0732\n"
     ]
    },
    {
     "name": "stdout",
     "output_type": "stream",
     "text": [
      "INFO:tensorflow:loss = 7.438212, step = 1401 (16.466 sec)\n"
     ]
    },
    {
     "name": "stderr",
     "output_type": "stream",
     "text": [
      "INFO:tensorflow:loss = 7.438212, step = 1401 (16.466 sec)\n"
     ]
    },
    {
     "name": "stdout",
     "output_type": "stream",
     "text": [
      "INFO:tensorflow:edit_dist = 0.20940976 (16.466 sec)\n"
     ]
    },
    {
     "name": "stderr",
     "output_type": "stream",
     "text": [
      "INFO:tensorflow:edit_dist = 0.20940976 (16.466 sec)\n"
     ]
    },
    {
     "name": "stdout",
     "output_type": "stream",
     "text": [
      "INFO:tensorflow:global_step/sec: 5.98418\n"
     ]
    },
    {
     "name": "stderr",
     "output_type": "stream",
     "text": [
      "INFO:tensorflow:global_step/sec: 5.98418\n"
     ]
    },
    {
     "name": "stdout",
     "output_type": "stream",
     "text": [
      "INFO:tensorflow:loss = 8.097485, step = 1501 (16.711 sec)\n"
     ]
    },
    {
     "name": "stderr",
     "output_type": "stream",
     "text": [
      "INFO:tensorflow:loss = 8.097485, step = 1501 (16.711 sec)\n"
     ]
    },
    {
     "name": "stdout",
     "output_type": "stream",
     "text": [
      "INFO:tensorflow:edit_dist = 0.22991702 (16.711 sec)\n"
     ]
    },
    {
     "name": "stderr",
     "output_type": "stream",
     "text": [
      "INFO:tensorflow:edit_dist = 0.22991702 (16.711 sec)\n"
     ]
    },
    {
     "name": "stdout",
     "output_type": "stream",
     "text": [
      "INFO:tensorflow:global_step/sec: 6.16989\n"
     ]
    },
    {
     "name": "stderr",
     "output_type": "stream",
     "text": [
      "INFO:tensorflow:global_step/sec: 6.16989\n"
     ]
    },
    {
     "name": "stdout",
     "output_type": "stream",
     "text": [
      "INFO:tensorflow:loss = 7.615379, step = 1601 (16.208 sec)\n"
     ]
    },
    {
     "name": "stderr",
     "output_type": "stream",
     "text": [
      "INFO:tensorflow:loss = 7.615379, step = 1601 (16.208 sec)\n"
     ]
    },
    {
     "name": "stdout",
     "output_type": "stream",
     "text": [
      "INFO:tensorflow:edit_dist = 0.21025613 (16.208 sec)\n"
     ]
    },
    {
     "name": "stderr",
     "output_type": "stream",
     "text": [
      "INFO:tensorflow:edit_dist = 0.21025613 (16.208 sec)\n"
     ]
    },
    {
     "name": "stdout",
     "output_type": "stream",
     "text": [
      "INFO:tensorflow:global_step/sec: 6.19937\n"
     ]
    },
    {
     "name": "stderr",
     "output_type": "stream",
     "text": [
      "INFO:tensorflow:global_step/sec: 6.19937\n"
     ]
    },
    {
     "name": "stdout",
     "output_type": "stream",
     "text": [
      "INFO:tensorflow:loss = 7.241102, step = 1701 (16.131 sec)\n"
     ]
    },
    {
     "name": "stderr",
     "output_type": "stream",
     "text": [
      "INFO:tensorflow:loss = 7.241102, step = 1701 (16.131 sec)\n"
     ]
    },
    {
     "name": "stdout",
     "output_type": "stream",
     "text": [
      "INFO:tensorflow:edit_dist = 0.21157408 (16.131 sec)\n"
     ]
    },
    {
     "name": "stderr",
     "output_type": "stream",
     "text": [
      "INFO:tensorflow:edit_dist = 0.21157408 (16.131 sec)\n"
     ]
    },
    {
     "name": "stdout",
     "output_type": "stream",
     "text": [
      "INFO:tensorflow:global_step/sec: 6.14893\n"
     ]
    },
    {
     "name": "stderr",
     "output_type": "stream",
     "text": [
      "INFO:tensorflow:global_step/sec: 6.14893\n"
     ]
    },
    {
     "name": "stdout",
     "output_type": "stream",
     "text": [
      "INFO:tensorflow:loss = 7.7785172, step = 1801 (16.263 sec)\n"
     ]
    },
    {
     "name": "stderr",
     "output_type": "stream",
     "text": [
      "INFO:tensorflow:loss = 7.7785172, step = 1801 (16.263 sec)\n"
     ]
    },
    {
     "name": "stdout",
     "output_type": "stream",
     "text": [
      "INFO:tensorflow:edit_dist = 0.2109874 (16.263 sec)\n"
     ]
    },
    {
     "name": "stderr",
     "output_type": "stream",
     "text": [
      "INFO:tensorflow:edit_dist = 0.2109874 (16.263 sec)\n"
     ]
    },
    {
     "name": "stdout",
     "output_type": "stream",
     "text": [
      "INFO:tensorflow:global_step/sec: 6.13687\n"
     ]
    },
    {
     "name": "stderr",
     "output_type": "stream",
     "text": [
      "INFO:tensorflow:global_step/sec: 6.13687\n"
     ]
    },
    {
     "name": "stdout",
     "output_type": "stream",
     "text": [
      "INFO:tensorflow:loss = 7.0281825, step = 1901 (16.295 sec)\n"
     ]
    },
    {
     "name": "stderr",
     "output_type": "stream",
     "text": [
      "INFO:tensorflow:loss = 7.0281825, step = 1901 (16.295 sec)\n"
     ]
    },
    {
     "name": "stdout",
     "output_type": "stream",
     "text": [
      "INFO:tensorflow:edit_dist = 0.20424908 (16.295 sec)\n"
     ]
    },
    {
     "name": "stderr",
     "output_type": "stream",
     "text": [
      "INFO:tensorflow:edit_dist = 0.20424908 (16.295 sec)\n"
     ]
    },
    {
     "name": "stdout",
     "output_type": "stream",
     "text": [
      "INFO:tensorflow:global_step/sec: 6.02177\n"
     ]
    },
    {
     "name": "stderr",
     "output_type": "stream",
     "text": [
      "INFO:tensorflow:global_step/sec: 6.02177\n"
     ]
    },
    {
     "name": "stdout",
     "output_type": "stream",
     "text": [
      "INFO:tensorflow:loss = 7.380404, step = 2001 (16.607 sec)\n"
     ]
    },
    {
     "name": "stderr",
     "output_type": "stream",
     "text": [
      "INFO:tensorflow:loss = 7.380404, step = 2001 (16.607 sec)\n"
     ]
    },
    {
     "name": "stdout",
     "output_type": "stream",
     "text": [
      "INFO:tensorflow:edit_dist = 0.20698601 (16.606 sec)\n"
     ]
    },
    {
     "name": "stderr",
     "output_type": "stream",
     "text": [
      "INFO:tensorflow:edit_dist = 0.20698601 (16.606 sec)\n"
     ]
    },
    {
     "name": "stdout",
     "output_type": "stream",
     "text": [
      "INFO:tensorflow:global_step/sec: 5.87731\n"
     ]
    },
    {
     "name": "stderr",
     "output_type": "stream",
     "text": [
      "INFO:tensorflow:global_step/sec: 5.87731\n"
     ]
    },
    {
     "name": "stdout",
     "output_type": "stream",
     "text": [
      "INFO:tensorflow:loss = 6.30469, step = 2101 (17.014 sec)\n"
     ]
    },
    {
     "name": "stderr",
     "output_type": "stream",
     "text": [
      "INFO:tensorflow:loss = 6.30469, step = 2101 (17.014 sec)\n"
     ]
    },
    {
     "name": "stdout",
     "output_type": "stream",
     "text": [
      "INFO:tensorflow:edit_dist = 0.18560728 (17.015 sec)\n"
     ]
    },
    {
     "name": "stderr",
     "output_type": "stream",
     "text": [
      "INFO:tensorflow:edit_dist = 0.18560728 (17.015 sec)\n"
     ]
    },
    {
     "name": "stdout",
     "output_type": "stream",
     "text": [
      "INFO:tensorflow:global_step/sec: 6.1825\n"
     ]
    },
    {
     "name": "stderr",
     "output_type": "stream",
     "text": [
      "INFO:tensorflow:global_step/sec: 6.1825\n"
     ]
    },
    {
     "name": "stdout",
     "output_type": "stream",
     "text": [
      "INFO:tensorflow:loss = 7.5258703, step = 2201 (16.175 sec)\n"
     ]
    },
    {
     "name": "stderr",
     "output_type": "stream",
     "text": [
      "INFO:tensorflow:loss = 7.5258703, step = 2201 (16.175 sec)\n"
     ]
    },
    {
     "name": "stdout",
     "output_type": "stream",
     "text": [
      "INFO:tensorflow:edit_dist = 0.21237889 (16.174 sec)\n"
     ]
    },
    {
     "name": "stderr",
     "output_type": "stream",
     "text": [
      "INFO:tensorflow:edit_dist = 0.21237889 (16.174 sec)\n"
     ]
    },
    {
     "name": "stdout",
     "output_type": "stream",
     "text": [
      "INFO:tensorflow:global_step/sec: 6.22797\n"
     ]
    },
    {
     "name": "stderr",
     "output_type": "stream",
     "text": [
      "INFO:tensorflow:global_step/sec: 6.22797\n"
     ]
    },
    {
     "name": "stdout",
     "output_type": "stream",
     "text": [
      "INFO:tensorflow:loss = 6.7131095, step = 2301 (16.057 sec)\n"
     ]
    },
    {
     "name": "stderr",
     "output_type": "stream",
     "text": [
      "INFO:tensorflow:loss = 6.7131095, step = 2301 (16.057 sec)\n"
     ]
    },
    {
     "name": "stdout",
     "output_type": "stream",
     "text": [
      "INFO:tensorflow:edit_dist = 0.19207518 (16.057 sec)\n"
     ]
    },
    {
     "name": "stderr",
     "output_type": "stream",
     "text": [
      "INFO:tensorflow:edit_dist = 0.19207518 (16.057 sec)\n"
     ]
    },
    {
     "name": "stdout",
     "output_type": "stream",
     "text": [
      "INFO:tensorflow:global_step/sec: 6.23884\n"
     ]
    },
    {
     "name": "stderr",
     "output_type": "stream",
     "text": [
      "INFO:tensorflow:global_step/sec: 6.23884\n"
     ]
    },
    {
     "name": "stdout",
     "output_type": "stream",
     "text": [
      "INFO:tensorflow:loss = 6.8590493, step = 2401 (16.028 sec)\n"
     ]
    },
    {
     "name": "stderr",
     "output_type": "stream",
     "text": [
      "INFO:tensorflow:loss = 6.8590493, step = 2401 (16.028 sec)\n"
     ]
    },
    {
     "name": "stdout",
     "output_type": "stream",
     "text": [
      "INFO:tensorflow:edit_dist = 0.19281046 (16.028 sec)\n"
     ]
    },
    {
     "name": "stderr",
     "output_type": "stream",
     "text": [
      "INFO:tensorflow:edit_dist = 0.19281046 (16.028 sec)\n"
     ]
    },
    {
     "name": "stdout",
     "output_type": "stream",
     "text": [
      "INFO:tensorflow:global_step/sec: 5.96235\n"
     ]
    },
    {
     "name": "stderr",
     "output_type": "stream",
     "text": [
      "INFO:tensorflow:global_step/sec: 5.96235\n"
     ]
    },
    {
     "name": "stdout",
     "output_type": "stream",
     "text": [
      "INFO:tensorflow:loss = 6.6002755, step = 2501 (16.772 sec)\n"
     ]
    },
    {
     "name": "stderr",
     "output_type": "stream",
     "text": [
      "INFO:tensorflow:loss = 6.6002755, step = 2501 (16.772 sec)\n"
     ]
    },
    {
     "name": "stdout",
     "output_type": "stream",
     "text": [
      "INFO:tensorflow:edit_dist = 0.18627524 (16.772 sec)\n"
     ]
    },
    {
     "name": "stderr",
     "output_type": "stream",
     "text": [
      "INFO:tensorflow:edit_dist = 0.18627524 (16.772 sec)\n"
     ]
    },
    {
     "name": "stdout",
     "output_type": "stream",
     "text": [
      "INFO:tensorflow:global_step/sec: 5.96816\n"
     ]
    },
    {
     "name": "stderr",
     "output_type": "stream",
     "text": [
      "INFO:tensorflow:global_step/sec: 5.96816\n"
     ]
    },
    {
     "name": "stdout",
     "output_type": "stream",
     "text": [
      "INFO:tensorflow:loss = 7.0147314, step = 2601 (16.756 sec)\n"
     ]
    },
    {
     "name": "stderr",
     "output_type": "stream",
     "text": [
      "INFO:tensorflow:loss = 7.0147314, step = 2601 (16.756 sec)\n"
     ]
    },
    {
     "name": "stdout",
     "output_type": "stream",
     "text": [
      "INFO:tensorflow:edit_dist = 0.18357845 (16.756 sec)\n"
     ]
    },
    {
     "name": "stderr",
     "output_type": "stream",
     "text": [
      "INFO:tensorflow:edit_dist = 0.18357845 (16.756 sec)\n"
     ]
    },
    {
     "name": "stdout",
     "output_type": "stream",
     "text": [
      "INFO:tensorflow:global_step/sec: 6.16312\n"
     ]
    },
    {
     "name": "stderr",
     "output_type": "stream",
     "text": [
      "INFO:tensorflow:global_step/sec: 6.16312\n"
     ]
    },
    {
     "name": "stdout",
     "output_type": "stream",
     "text": [
      "INFO:tensorflow:loss = 6.705098, step = 2701 (16.225 sec)\n"
     ]
    },
    {
     "name": "stderr",
     "output_type": "stream",
     "text": [
      "INFO:tensorflow:loss = 6.705098, step = 2701 (16.225 sec)\n"
     ]
    },
    {
     "name": "stdout",
     "output_type": "stream",
     "text": [
      "INFO:tensorflow:edit_dist = 0.18995169 (16.224 sec)\n"
     ]
    },
    {
     "name": "stderr",
     "output_type": "stream",
     "text": [
      "INFO:tensorflow:edit_dist = 0.18995169 (16.224 sec)\n"
     ]
    },
    {
     "name": "stdout",
     "output_type": "stream",
     "text": [
      "INFO:tensorflow:global_step/sec: 6.00773\n"
     ]
    },
    {
     "name": "stderr",
     "output_type": "stream",
     "text": [
      "INFO:tensorflow:global_step/sec: 6.00773\n"
     ]
    },
    {
     "name": "stdout",
     "output_type": "stream",
     "text": [
      "INFO:tensorflow:loss = 6.9078755, step = 2801 (16.646 sec)\n"
     ]
    },
    {
     "name": "stderr",
     "output_type": "stream",
     "text": [
      "INFO:tensorflow:loss = 6.9078755, step = 2801 (16.646 sec)\n"
     ]
    },
    {
     "name": "stdout",
     "output_type": "stream",
     "text": [
      "INFO:tensorflow:edit_dist = 0.21211128 (16.646 sec)\n"
     ]
    },
    {
     "name": "stderr",
     "output_type": "stream",
     "text": [
      "INFO:tensorflow:edit_dist = 0.21211128 (16.646 sec)\n"
     ]
    },
    {
     "name": "stdout",
     "output_type": "stream",
     "text": [
      "INFO:tensorflow:Saving checkpoints for 2820 into /var/folders/sx/fv0r97j96fz8njp14dt5g7940000gn/T/tmp74175gf2/model.ckpt.\n"
     ]
    },
    {
     "name": "stderr",
     "output_type": "stream",
     "text": [
      "INFO:tensorflow:Saving checkpoints for 2820 into /var/folders/sx/fv0r97j96fz8njp14dt5g7940000gn/T/tmp74175gf2/model.ckpt.\n"
     ]
    },
    {
     "name": "stdout",
     "output_type": "stream",
     "text": [
      "INFO:tensorflow:Loss for final step: 4.6740785.\n"
     ]
    },
    {
     "name": "stderr",
     "output_type": "stream",
     "text": [
      "INFO:tensorflow:Loss for final step: 4.6740785.\n"
     ]
    },
    {
     "name": "stdout",
     "output_type": "stream",
     "text": [
      "INFO:tensorflow:Calling model_fn.\n"
     ]
    },
    {
     "name": "stderr",
     "output_type": "stream",
     "text": [
      "INFO:tensorflow:Calling model_fn.\n"
     ]
    },
    {
     "name": "stdout",
     "output_type": "stream",
     "text": [
      "INFO:tensorflow:Done calling model_fn.\n"
     ]
    },
    {
     "name": "stderr",
     "output_type": "stream",
     "text": [
      "INFO:tensorflow:Done calling model_fn.\n"
     ]
    },
    {
     "name": "stdout",
     "output_type": "stream",
     "text": [
      "INFO:tensorflow:Graph was finalized.\n"
     ]
    },
    {
     "name": "stderr",
     "output_type": "stream",
     "text": [
      "INFO:tensorflow:Graph was finalized.\n"
     ]
    },
    {
     "name": "stdout",
     "output_type": "stream",
     "text": [
      "INFO:tensorflow:Restoring parameters from /var/folders/sx/fv0r97j96fz8njp14dt5g7940000gn/T/tmp74175gf2/model.ckpt-2820\n"
     ]
    },
    {
     "name": "stderr",
     "output_type": "stream",
     "text": [
      "INFO:tensorflow:Restoring parameters from /var/folders/sx/fv0r97j96fz8njp14dt5g7940000gn/T/tmp74175gf2/model.ckpt-2820\n"
     ]
    },
    {
     "name": "stdout",
     "output_type": "stream",
     "text": [
      "INFO:tensorflow:Running local_init_op.\n"
     ]
    },
    {
     "name": "stderr",
     "output_type": "stream",
     "text": [
      "INFO:tensorflow:Running local_init_op.\n"
     ]
    },
    {
     "name": "stdout",
     "output_type": "stream",
     "text": [
      "INFO:tensorflow:Done running local_init_op.\n"
     ]
    },
    {
     "name": "stderr",
     "output_type": "stream",
     "text": [
      "INFO:tensorflow:Done running local_init_op.\n"
     ]
    },
    {
     "name": "stdout",
     "output_type": "stream",
     "text": [
      "Prediction: say the word \n",
      "Actual: say the word youth\n"
     ]
    }
   ],
   "source": [
    "estimator = tf.estimator.Estimator(model_fn)\n",
    "\n",
    "estimator.train(lambda: train_input_fn(inputs_train, targets_train))\n",
    "\n",
    "preds = list(estimator.predict(tf.estimator.inputs.numpy_input_fn(inputs_val, shuffle=False)))\n",
    "\n",
    "print('Prediction:', ''.join([idx2char[idx] for idx in preds[0]]))\n",
    "print('Actual:', ''.join([idx2char[idx] for idx in targets_val]))"
   ]
  },
  {
   "cell_type": "code",
   "execution_count": null,
   "metadata": {},
   "outputs": [],
   "source": []
  }
 ],
 "metadata": {
  "kernelspec": {
   "display_name": "Python 3",
   "language": "python",
   "name": "python3"
  },
  "language_info": {
   "codemirror_mode": {
    "name": "ipython",
    "version": 3
   },
   "file_extension": ".py",
   "mimetype": "text/x-python",
   "name": "python",
   "nbconvert_exporter": "python",
   "pygments_lexer": "ipython3",
   "version": "3.6.3"
  }
 },
 "nbformat": 4,
 "nbformat_minor": 2
}
